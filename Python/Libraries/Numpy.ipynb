{
 "cells": [
  {
   "cell_type": "code",
   "execution_count": 1,
   "id": "f75101bb-512f-4e54-97c1-e9be7ed3f2ee",
   "metadata": {},
   "outputs": [],
   "source": [
    "import numpy as np"
   ]
  },
  {
   "cell_type": "code",
   "execution_count": 2,
   "id": "c5baed2d-8ba1-425a-8c5d-aeb45399c909",
   "metadata": {},
   "outputs": [
    {
     "data": {
      "text/plain": [
       "array([48, 29, 40, 83, 15, 23, 95, 96, 40, 43,  8, 10, 65, 23,  7,  2, 62,\n",
       "       49, 26, 85, 60, 66, 51, 26, 44,  4, 46])"
      ]
     },
     "execution_count": 2,
     "metadata": {},
     "output_type": "execute_result"
    }
   ],
   "source": [
    "a = np.array(np.random.randint(2, 100, 27))\n",
    "a"
   ]
  },
  {
   "cell_type": "code",
   "execution_count": 3,
   "id": "6c110c07-7ff4-4c75-945e-12a8a17df777",
   "metadata": {},
   "outputs": [
    {
     "data": {
      "text/plain": [
       "numpy.ndarray"
      ]
     },
     "execution_count": 3,
     "metadata": {},
     "output_type": "execute_result"
    }
   ],
   "source": [
    "type(a)"
   ]
  },
  {
   "cell_type": "code",
   "execution_count": 4,
   "id": "a63b5407-d364-4d3f-976c-cfc0e8ee503b",
   "metadata": {},
   "outputs": [
    {
     "data": {
      "text/plain": [
       "1"
      ]
     },
     "execution_count": 4,
     "metadata": {},
     "output_type": "execute_result"
    }
   ],
   "source": [
    "a.ndim"
   ]
  },
  {
   "cell_type": "code",
   "execution_count": 5,
   "id": "cda409d9-0f1e-48e4-8a1f-99f967daa6d8",
   "metadata": {},
   "outputs": [
    {
     "data": {
      "text/plain": [
       "(27,)"
      ]
     },
     "execution_count": 5,
     "metadata": {},
     "output_type": "execute_result"
    }
   ],
   "source": [
    "a.shape"
   ]
  },
  {
   "cell_type": "code",
   "execution_count": 6,
   "id": "bbce6bec-8792-4123-8711-f49b27b943fa",
   "metadata": {},
   "outputs": [
    {
     "data": {
      "text/plain": [
       "27"
      ]
     },
     "execution_count": 6,
     "metadata": {},
     "output_type": "execute_result"
    }
   ],
   "source": [
    "a.size"
   ]
  },
  {
   "cell_type": "code",
   "execution_count": 7,
   "id": "52f6338d-b2b8-42cc-a9b7-4a9224b1dee3",
   "metadata": {},
   "outputs": [
    {
     "data": {
      "text/plain": [
       "dtype('int32')"
      ]
     },
     "execution_count": 7,
     "metadata": {},
     "output_type": "execute_result"
    }
   ],
   "source": [
    "a.dtype"
   ]
  },
  {
   "cell_type": "code",
   "execution_count": 8,
   "id": "48ca18b2-1b1f-4d65-aa54-7d903900210a",
   "metadata": {},
   "outputs": [
    {
     "data": {
      "text/plain": [
       "4"
      ]
     },
     "execution_count": 8,
     "metadata": {},
     "output_type": "execute_result"
    }
   ],
   "source": [
    "# 32/8 = 4 so returns 4\n",
    "a.itemsize"
   ]
  },
  {
   "cell_type": "markdown",
   "id": "5a3f6e8b-92d8-406b-b3d8-99e87939ef25",
   "metadata": {},
   "source": [
    "## String operations using numpy"
   ]
  },
  {
   "cell_type": "code",
   "execution_count": 9,
   "id": "49a123f5-9e42-4b18-9c2a-8c992ddeaf90",
   "metadata": {},
   "outputs": [],
   "source": [
    "d = np.array([\"hello\", \"World\", \"programmers\"])\n",
    "e = np.array([\" all\", \" welcome\", \" python\"])"
   ]
  },
  {
   "cell_type": "code",
   "execution_count": 10,
   "id": "57ad53cb-0238-44a0-8c9f-1ca450030091",
   "metadata": {},
   "outputs": [
    {
     "data": {
      "text/plain": [
       "array(['hello all', 'World welcome', 'programmers python'], dtype='<U19')"
      ]
     },
     "execution_count": 10,
     "metadata": {},
     "output_type": "execute_result"
    }
   ],
   "source": [
    "np.char.add(d, e)"
   ]
  },
  {
   "cell_type": "code",
   "execution_count": 11,
   "id": "a8a05454-17c5-4708-89f5-6d130e994041",
   "metadata": {},
   "outputs": [],
   "source": [
    "# np.char.replace(con_d_e[0], \"hello\", \"hii\")"
   ]
  },
  {
   "cell_type": "code",
   "execution_count": 12,
   "id": "1cb5e1c7-082a-402a-9b6e-95daab8d9219",
   "metadata": {},
   "outputs": [
    {
     "data": {
      "text/plain": [
       "array(['HELLO', 'WORLD', 'PROGRAMMERS'], dtype='<U11')"
      ]
     },
     "execution_count": 12,
     "metadata": {},
     "output_type": "execute_result"
    }
   ],
   "source": [
    "np.char.upper(d)"
   ]
  },
  {
   "cell_type": "code",
   "execution_count": 13,
   "id": "8444cb9a-0ea7-445f-910f-bc8bf619ac3a",
   "metadata": {},
   "outputs": [
    {
     "data": {
      "text/plain": [
       "array(['hello', 'world', 'programmers'], dtype='<U11')"
      ]
     },
     "execution_count": 13,
     "metadata": {},
     "output_type": "execute_result"
    }
   ],
   "source": [
    "np.char.lower(d)"
   ]
  },
  {
   "cell_type": "code",
   "execution_count": 14,
   "id": "cd8509fa-2fba-439b-a3e1-eaf0d8907f21",
   "metadata": {},
   "outputs": [
    {
     "data": {
      "text/plain": [
       "'hello_World_programmers'"
      ]
     },
     "execution_count": 14,
     "metadata": {},
     "output_type": "execute_result"
    }
   ],
   "source": [
    "\"_\".join([str(i) for i in d])"
   ]
  },
  {
   "cell_type": "markdown",
   "id": "c2d10832-4503-491a-870d-d33980a9e23a",
   "metadata": {},
   "source": [
    "## Functions in numpy"
   ]
  },
  {
   "cell_type": "code",
   "execution_count": 15,
   "id": "64f52255-4a5d-42fe-8c92-71e5d6fb20f0",
   "metadata": {},
   "outputs": [
    {
     "data": {
      "text/plain": [
       "array([[[48, 29, 40],\n",
       "        [83, 15, 23],\n",
       "        [95, 96, 40]],\n",
       "\n",
       "       [[43,  8, 10],\n",
       "        [65, 23,  7],\n",
       "        [ 2, 62, 49]],\n",
       "\n",
       "       [[26, 85, 60],\n",
       "        [66, 51, 26],\n",
       "        [44,  4, 46]]])"
      ]
     },
     "execution_count": 15,
     "metadata": {},
     "output_type": "execute_result"
    }
   ],
   "source": [
    "# to change the a use np.resize(a,(3,3))\n",
    "# b = a.reshape(3, 3, 3)\n",
    "b = np.reshape(a, (3, 3, 3))\n",
    "b"
   ]
  },
  {
   "cell_type": "code",
   "execution_count": 16,
   "id": "250cbdff-62bb-4fd0-a4b8-1001aabc65f0",
   "metadata": {},
   "outputs": [
    {
     "data": {
      "text/plain": [
       "array([20, 22, 24, 26, 28])"
      ]
     },
     "execution_count": 16,
     "metadata": {},
     "output_type": "execute_result"
    }
   ],
   "source": [
    "np.arange(20, 30, 2)"
   ]
  },
  {
   "cell_type": "code",
   "execution_count": 17,
   "id": "d7933b9b-c446-4281-9dc4-3b921be3bed1",
   "metadata": {},
   "outputs": [
    {
     "data": {
      "text/plain": [
       "array([0.72836301])"
      ]
     },
     "execution_count": 17,
     "metadata": {},
     "output_type": "execute_result"
    }
   ],
   "source": [
    "np.random.rand(1)"
   ]
  },
  {
   "cell_type": "code",
   "execution_count": 18,
   "id": "f3709c74-454d-447f-947d-55f82f112e12",
   "metadata": {},
   "outputs": [
    {
     "data": {
      "text/plain": [
       "0.5668184842997962"
      ]
     },
     "execution_count": 18,
     "metadata": {},
     "output_type": "execute_result"
    }
   ],
   "source": [
    "np.random.random()"
   ]
  },
  {
   "cell_type": "code",
   "execution_count": 19,
   "id": "ca761a6e-0410-463b-885f-f0032e825cdd",
   "metadata": {},
   "outputs": [
    {
     "data": {
      "text/plain": [
       "array([28, 44])"
      ]
     },
     "execution_count": 19,
     "metadata": {},
     "output_type": "execute_result"
    }
   ],
   "source": [
    "np.random.randint(1, 50, 2)"
   ]
  },
  {
   "cell_type": "code",
   "execution_count": 20,
   "id": "53014229-43f6-4d3f-958d-456ae6b14dee",
   "metadata": {},
   "outputs": [
    {
     "name": "stdout",
     "output_type": "stream",
     "text": [
      "38\n",
      "38\n",
      "38\n",
      "38\n",
      "38\n"
     ]
    }
   ],
   "source": [
    "# use seed(1) for getting same number\n",
    "for i in range(5):\n",
    "    np.random.seed(1)\n",
    "    print(np.random.randint(1, 50))"
   ]
  },
  {
   "cell_type": "code",
   "execution_count": 21,
   "id": "bdb8561c-0636-4f48-86a6-86462c85e395",
   "metadata": {},
   "outputs": [
    {
     "name": "stdout",
     "output_type": "stream",
     "text": [
      "\n",
      "Flattened arrays:\n",
      "Fortran (F) order: [ 1 11  3 35  5 56]\n",
      "C order: [ 1  3  5 11 35 56]\n",
      "Default (auto) order: [ 1  3  5 11 35 56]\n",
      "Keep (preserve) order: [ 1  3  5 11 35 56]\n"
     ]
    }
   ],
   "source": [
    "# Create a 2D NumPy array 'x'\n",
    "x = np.array([[1, 3, 5], [11, 35, 56]])\n",
    "print(\"\\nFlattened arrays:\")\n",
    "\n",
    "# Flatten the array 'x' using Fortran (column-major) order\n",
    "y = np.ravel(x, order=\"F\")\n",
    "print(\"Fortran (F) order:\", y)\n",
    "\n",
    "# Flatten the array 'x' using C (row-major) order\n",
    "z = np.ravel(x, order=\"C\")\n",
    "print(\"C order:\", z)\n",
    "\n",
    "# Flatten the array 'x' using default (auto) order (row-major in this case)\n",
    "p = np.ravel(x, order=\"A\")\n",
    "print(\"Default (auto) order:\", p)\n",
    "\n",
    "# Flatten the array 'x' using keep (preserve) order\n",
    "q = np.ravel(x, order=\"K\")\n",
    "print(\"Keep (preserve) order:\", q)"
   ]
  },
  {
   "cell_type": "code",
   "execution_count": 22,
   "id": "998d4b62-c159-4940-9a9f-603fab27e74e",
   "metadata": {},
   "outputs": [
    {
     "data": {
      "text/plain": [
       "array([0., 0.])"
      ]
     },
     "execution_count": 22,
     "metadata": {},
     "output_type": "execute_result"
    }
   ],
   "source": [
    "np.zeros(2)"
   ]
  },
  {
   "cell_type": "code",
   "execution_count": 23,
   "id": "1ab15d29-bedb-4623-860e-b3416935684e",
   "metadata": {},
   "outputs": [
    {
     "data": {
      "text/plain": [
       "array([[0., 0.],\n",
       "       [0., 0.]])"
      ]
     },
     "execution_count": 23,
     "metadata": {},
     "output_type": "execute_result"
    }
   ],
   "source": [
    "np.zeros((2, 2))"
   ]
  },
  {
   "cell_type": "code",
   "execution_count": 24,
   "id": "9c0e2aad-c074-4f1e-b53e-74bc29326ed7",
   "metadata": {},
   "outputs": [
    {
     "data": {
      "text/plain": [
       "array([1., 1.])"
      ]
     },
     "execution_count": 24,
     "metadata": {},
     "output_type": "execute_result"
    }
   ],
   "source": [
    "np.ones(2)"
   ]
  },
  {
   "cell_type": "code",
   "execution_count": 25,
   "id": "ce4fa276-d352-43a3-84d0-098f782b26a5",
   "metadata": {},
   "outputs": [
    {
     "data": {
      "text/plain": [
       "array([[1., 1.],\n",
       "       [1., 1.]])"
      ]
     },
     "execution_count": 25,
     "metadata": {},
     "output_type": "execute_result"
    }
   ],
   "source": [
    "np.ones((2, 2))"
   ]
  },
  {
   "cell_type": "code",
   "execution_count": 26,
   "id": "2109911e-0f11-4ced-b965-1d9cd597924b",
   "metadata": {},
   "outputs": [
    {
     "data": {
      "text/plain": [
       "array([ 1,  2,  3,  4,  5,  6,  7,  8,  9, 10, 11, 12, 13, 14, 15, 16, 17,\n",
       "       18, 19, 20, 21, 22, 23, 24, 25, 26, 27, 28, 29, 30, 31, 32, 33, 34,\n",
       "       35, 36, 37, 38, 39, 40, 41, 42, 43, 44, 45, 46, 47, 48, 49])"
      ]
     },
     "execution_count": 26,
     "metadata": {},
     "output_type": "execute_result"
    }
   ],
   "source": [
    "np.arange(1, 50)"
   ]
  },
  {
   "cell_type": "code",
   "execution_count": 27,
   "id": "e12c8e72-a0b6-4466-b859-855e6057ff33",
   "metadata": {},
   "outputs": [
    {
     "data": {
      "text/plain": [
       "array([ 1,  6, 11, 16, 21, 26, 31, 36, 41, 46])"
      ]
     },
     "execution_count": 27,
     "metadata": {},
     "output_type": "execute_result"
    }
   ],
   "source": [
    "np.arange(1, 50, 5)"
   ]
  },
  {
   "cell_type": "code",
   "execution_count": 28,
   "id": "e5f52d7d-8b06-4468-84bd-2bbc0ac2e11a",
   "metadata": {},
   "outputs": [
    {
     "data": {
      "text/plain": [
       "array([10. , 12.5, 15. , 17.5, 20. ])"
      ]
     },
     "execution_count": 28,
     "metadata": {},
     "output_type": "execute_result"
    }
   ],
   "source": [
    "np.linspace(10, 20, 5)"
   ]
  },
  {
   "cell_type": "code",
   "execution_count": 29,
   "id": "481f6a55-4f07-4c53-8ba2-587f3a92b6e8",
   "metadata": {},
   "outputs": [
    {
     "data": {
      "text/plain": [
       "array([ 1,  2,  3,  4, 20, 21, 22, 23, 24])"
      ]
     },
     "execution_count": 29,
     "metadata": {},
     "output_type": "execute_result"
    }
   ],
   "source": [
    "x = np.arange(1, 5)\n",
    "y = np.arange(20, 25)\n",
    "np.hstack((x, y))"
   ]
  },
  {
   "cell_type": "markdown",
   "id": "a4879ffb-6983-4f88-b6c7-591c3227c254",
   "metadata": {},
   "source": [
    "## Arithemrtic Operations using numpy"
   ]
  },
  {
   "cell_type": "code",
   "execution_count": 30,
   "id": "e98c6b66-76fd-447a-ac73-fb27bb4277ef",
   "metadata": {},
   "outputs": [
    {
     "data": {
      "text/plain": [
       "array([[1, 2, 1],\n",
       "       [2, 2, 3]])"
      ]
     },
     "execution_count": 30,
     "metadata": {},
     "output_type": "execute_result"
    }
   ],
   "source": [
    "a = np.array([[1, 2, 1], [2, 2, 3]])\n",
    "a"
   ]
  },
  {
   "cell_type": "code",
   "execution_count": 31,
   "id": "a5cd4901-03d9-461c-9072-e4c71791870d",
   "metadata": {},
   "outputs": [
    {
     "data": {
      "text/plain": [
       "array([3, 4, 5])"
      ]
     },
     "execution_count": 31,
     "metadata": {},
     "output_type": "execute_result"
    }
   ],
   "source": [
    "b = np.array([3, 4, 5])\n",
    "b"
   ]
  },
  {
   "cell_type": "code",
   "execution_count": 32,
   "id": "93afaf41-1499-4895-be39-824a7b980979",
   "metadata": {},
   "outputs": [
    {
     "data": {
      "text/plain": [
       "array([[4, 6, 6],\n",
       "       [5, 6, 8]])"
      ]
     },
     "execution_count": 32,
     "metadata": {},
     "output_type": "execute_result"
    }
   ],
   "source": [
    "np.add(a, b)"
   ]
  },
  {
   "cell_type": "code",
   "execution_count": 33,
   "id": "f1abdb7b-a151-4d51-94da-0c6910c1001b",
   "metadata": {},
   "outputs": [
    {
     "data": {
      "text/plain": [
       "array([[2, 2, 4],\n",
       "       [1, 2, 2]])"
      ]
     },
     "execution_count": 33,
     "metadata": {},
     "output_type": "execute_result"
    }
   ],
   "source": [
    "np.subtract(b, a)"
   ]
  },
  {
   "cell_type": "code",
   "execution_count": 34,
   "id": "7a372c39-d6a5-4e38-befa-94501be00b43",
   "metadata": {},
   "outputs": [
    {
     "data": {
      "text/plain": [
       "array([[ 3,  8,  5],\n",
       "       [ 6,  8, 15]])"
      ]
     },
     "execution_count": 34,
     "metadata": {},
     "output_type": "execute_result"
    }
   ],
   "source": [
    "np.multiply(a, b)"
   ]
  },
  {
   "cell_type": "code",
   "execution_count": 35,
   "id": "8755f8f3-4f18-467a-a2cd-1b91cf1e6397",
   "metadata": {},
   "outputs": [
    {
     "data": {
      "text/plain": [
       "array([[0.33333333, 0.5       , 0.2       ],\n",
       "       [0.66666667, 0.5       , 0.6       ]])"
      ]
     },
     "execution_count": 35,
     "metadata": {},
     "output_type": "execute_result"
    }
   ],
   "source": [
    "np.divide(a, b)"
   ]
  },
  {
   "cell_type": "code",
   "execution_count": 36,
   "id": "a15b0f66-e3a9-4e99-ba5f-17b0b4ee9f8b",
   "metadata": {},
   "outputs": [
    {
     "data": {
      "text/plain": [
       "array([[  1,  16,   1],\n",
       "       [  8,  16, 243]])"
      ]
     },
     "execution_count": 36,
     "metadata": {},
     "output_type": "execute_result"
    }
   ],
   "source": [
    "np.power(a, b)"
   ]
  },
  {
   "cell_type": "markdown",
   "id": "eac4f0d5-6ca3-4fc7-be03-46cb44275fee",
   "metadata": {},
   "source": [
    "## Conditional operations using numpy"
   ]
  },
  {
   "cell_type": "code",
   "execution_count": 37,
   "id": "dd70f892-4a9b-4ef2-80e1-c78f8f4ca1bf",
   "metadata": {},
   "outputs": [
    {
     "data": {
      "text/plain": [
       "array([ 0,  1,  2,  3,  4,  5,  6,  7,  8,  9, 10])"
      ]
     },
     "execution_count": 37,
     "metadata": {},
     "output_type": "execute_result"
    }
   ],
   "source": [
    "x = np.array([x for x in range(11)])\n",
    "x"
   ]
  },
  {
   "cell_type": "code",
   "execution_count": 38,
   "id": "29dbd879-318f-4b22-9c34-8c21cce26221",
   "metadata": {},
   "outputs": [
    {
     "data": {
      "text/plain": [
       "array(['Even', 'Odd', 'Even', 'Odd', 'Even', 'Odd', 'Even', 'Odd', 'Even',\n",
       "       'Odd', 'Even'], dtype='<U4')"
      ]
     },
     "execution_count": 38,
     "metadata": {},
     "output_type": "execute_result"
    }
   ],
   "source": [
    "np.where(x % 2 == 0, \"Even\", \"Odd\")"
   ]
  },
  {
   "cell_type": "code",
   "execution_count": 39,
   "id": "e3a3f8e0-6075-4ce4-b252-cad4eb4992ff",
   "metadata": {},
   "outputs": [],
   "source": [
    "conditionList = [x < 5, x > 5]\n",
    "choiceList = [x**3, x**2]"
   ]
  },
  {
   "cell_type": "code",
   "execution_count": 40,
   "id": "a1b5fd89-b5d3-4150-8b0d-58ed7bef2ae2",
   "metadata": {},
   "outputs": [
    {
     "data": {
      "text/plain": [
       "array([  0,   1,   8,  27,  64,   0,  36,  49,  64,  81, 100])"
      ]
     },
     "execution_count": 40,
     "metadata": {},
     "output_type": "execute_result"
    }
   ],
   "source": [
    "np.select(conditionList, choiceList, default=0)"
   ]
  },
  {
   "cell_type": "markdown",
   "id": "63ccd2cc-77bd-418e-ba24-0ce50f01289b",
   "metadata": {},
   "source": [
    "## Statistics functions in numpy"
   ]
  },
  {
   "cell_type": "code",
   "execution_count": 41,
   "id": "173a2b8f-ffed-497f-951a-062fe805c7dc",
   "metadata": {},
   "outputs": [
    {
     "data": {
      "text/plain": [
       "array([[ 4,  2,  3],\n",
       "       [10,  2,  0],\n",
       "       [ 5,  8, 24]])"
      ]
     },
     "execution_count": 41,
     "metadata": {},
     "output_type": "execute_result"
    }
   ],
   "source": [
    "arr = np.array([[4, 2, 3], [10, 2, 0], [5, 8, 24]])\n",
    "arr"
   ]
  },
  {
   "cell_type": "code",
   "execution_count": 42,
   "id": "297e699b-7699-4d34-9dac-7d699f794f18",
   "metadata": {},
   "outputs": [
    {
     "data": {
      "text/plain": [
       "array([4, 2, 0])"
      ]
     },
     "execution_count": 42,
     "metadata": {},
     "output_type": "execute_result"
    }
   ],
   "source": [
    "np.min(arr, axis=0)"
   ]
  },
  {
   "cell_type": "code",
   "execution_count": 43,
   "id": "59aeaeb7-fef6-4e3b-a605-78dcef2fd66a",
   "metadata": {},
   "outputs": [
    {
     "data": {
      "text/plain": [
       "array([2, 0, 5])"
      ]
     },
     "execution_count": 43,
     "metadata": {},
     "output_type": "execute_result"
    }
   ],
   "source": [
    "np.amin(arr, axis=1)"
   ]
  },
  {
   "cell_type": "code",
   "execution_count": 44,
   "id": "881e1788-226b-4e34-87ac-e5303a6b306c",
   "metadata": {},
   "outputs": [
    {
     "data": {
      "text/plain": [
       "24"
      ]
     },
     "execution_count": 44,
     "metadata": {},
     "output_type": "execute_result"
    }
   ],
   "source": [
    "np.max(arr)"
   ]
  },
  {
   "cell_type": "code",
   "execution_count": 45,
   "id": "dadbaf9a-ea94-49bf-98aa-96d7d06ed01a",
   "metadata": {},
   "outputs": [
    {
     "data": {
      "text/plain": [
       "array([10,  8, 24])"
      ]
     },
     "execution_count": 45,
     "metadata": {},
     "output_type": "execute_result"
    }
   ],
   "source": [
    "np.amax(arr, axis=0)"
   ]
  },
  {
   "cell_type": "code",
   "execution_count": 46,
   "id": "77d23b9f-2512-4e70-b8b0-b6c3c97f858a",
   "metadata": {},
   "outputs": [
    {
     "data": {
      "text/plain": [
       "array([ 4, 10, 24])"
      ]
     },
     "execution_count": 46,
     "metadata": {},
     "output_type": "execute_result"
    }
   ],
   "source": [
    "np.amax(arr, axis=1)"
   ]
  },
  {
   "cell_type": "code",
   "execution_count": 47,
   "id": "e373e362-b12a-45ce-94e6-5f3f31f19be7",
   "metadata": {},
   "outputs": [
    {
     "data": {
      "text/plain": [
       "6.444444444444445"
      ]
     },
     "execution_count": 47,
     "metadata": {},
     "output_type": "execute_result"
    }
   ],
   "source": [
    "np.mean(arr)"
   ]
  },
  {
   "cell_type": "code",
   "execution_count": 48,
   "id": "d15ec3e5-6599-47a8-a0d5-381b14774604",
   "metadata": {},
   "outputs": [
    {
     "data": {
      "text/plain": [
       "4.0"
      ]
     },
     "execution_count": 48,
     "metadata": {},
     "output_type": "execute_result"
    }
   ],
   "source": [
    "np.median(arr)"
   ]
  },
  {
   "cell_type": "code",
   "execution_count": 49,
   "id": "ff164d8c-75e8-469f-9df1-6dd2b16e3af9",
   "metadata": {},
   "outputs": [
    {
     "data": {
      "text/plain": [
       "6.865551869233515"
      ]
     },
     "execution_count": 49,
     "metadata": {},
     "output_type": "execute_result"
    }
   ],
   "source": [
    "np.std(arr)"
   ]
  },
  {
   "cell_type": "code",
   "execution_count": 50,
   "id": "d85ea460-594b-4182-98df-80bc8ffaa77a",
   "metadata": {},
   "outputs": [
    {
     "data": {
      "text/plain": [
       "47.13580246913581"
      ]
     },
     "execution_count": 50,
     "metadata": {},
     "output_type": "execute_result"
    }
   ],
   "source": [
    "np.var(arr)"
   ]
  },
  {
   "cell_type": "code",
   "execution_count": 51,
   "id": "8cd03441-8585-426d-bd7a-982f28e3dbe3",
   "metadata": {},
   "outputs": [
    {
     "data": {
      "text/plain": [
       "4.0"
      ]
     },
     "execution_count": 51,
     "metadata": {},
     "output_type": "execute_result"
    }
   ],
   "source": [
    "percentile_value = 50\n",
    "np.percentile(arr, percentile_value)"
   ]
  },
  {
   "cell_type": "code",
   "execution_count": 52,
   "id": "136d7569-ae85-4d32-b222-831a8e0503b6",
   "metadata": {},
   "outputs": [
    {
     "data": {
      "text/plain": [
       "array([ 0, 30, 45, 60, 90])"
      ]
     },
     "execution_count": 52,
     "metadata": {},
     "output_type": "execute_result"
    }
   ],
   "source": [
    "deg = np.array([0, 30, 45, 60, 90])\n",
    "deg"
   ]
  },
  {
   "cell_type": "code",
   "execution_count": 53,
   "id": "06aded21-2533-4eab-bf3f-2b72903943f0",
   "metadata": {},
   "outputs": [
    {
     "data": {
      "text/plain": [
       "array([0.        , 0.52359878, 0.78539816, 1.04719755, 1.57079633])"
      ]
     },
     "execution_count": 53,
     "metadata": {},
     "output_type": "execute_result"
    }
   ],
   "source": [
    "radians = np.deg2rad(deg)\n",
    "radians"
   ]
  },
  {
   "cell_type": "code",
   "execution_count": 54,
   "id": "8ad32ef4-642a-4115-a4be-d30f4417c57b",
   "metadata": {},
   "outputs": [
    {
     "data": {
      "text/plain": [
       "array([0.        , 0.52359878, 0.78539816, 1.04719755, 1.57079633])"
      ]
     },
     "execution_count": 54,
     "metadata": {},
     "output_type": "execute_result"
    }
   ],
   "source": [
    "deg * np.pi / 180"
   ]
  },
  {
   "cell_type": "code",
   "execution_count": 55,
   "id": "9d42641e-466f-4e6b-94db-0bce1f6a3b7e",
   "metadata": {},
   "outputs": [
    {
     "data": {
      "text/plain": [
       "array([0.        , 0.5       , 0.70710678, 0.8660254 , 1.        ])"
      ]
     },
     "execution_count": 55,
     "metadata": {},
     "output_type": "execute_result"
    }
   ],
   "source": [
    "np.sin(deg * np.pi / 180)"
   ]
  },
  {
   "cell_type": "code",
   "execution_count": 56,
   "id": "8730d51f-e238-4e1a-b070-d5d69fbfd243",
   "metadata": {},
   "outputs": [
    {
     "data": {
      "text/plain": [
       "array([0.        , 0.5       , 0.70710678, 0.8660254 , 1.        ])"
      ]
     },
     "execution_count": 56,
     "metadata": {},
     "output_type": "execute_result"
    }
   ],
   "source": [
    "np.sin(radians)"
   ]
  },
  {
   "cell_type": "code",
   "execution_count": 57,
   "id": "992cc49d-0e03-42bc-ada5-380dbce73788",
   "metadata": {},
   "outputs": [
    {
     "data": {
      "text/plain": [
       "array([1.00000000e+00, 8.66025404e-01, 7.07106781e-01, 5.00000000e-01,\n",
       "       6.12323400e-17])"
      ]
     },
     "execution_count": 57,
     "metadata": {},
     "output_type": "execute_result"
    }
   ],
   "source": [
    "np.cos(radians)"
   ]
  },
  {
   "cell_type": "code",
   "execution_count": 58,
   "id": "f9d6409b-819a-4ba8-97b0-525b8b0f9687",
   "metadata": {},
   "outputs": [
    {
     "data": {
      "text/plain": [
       "array([0.00000000e+00, 5.77350269e-01, 1.00000000e+00, 1.73205081e+00,\n",
       "       1.63312394e+16])"
      ]
     },
     "execution_count": 58,
     "metadata": {},
     "output_type": "execute_result"
    }
   ],
   "source": [
    "np.tan(radians)"
   ]
  },
  {
   "cell_type": "code",
   "execution_count": 59,
   "id": "8d9faf2d-4b09-42ec-a8f0-028a77642923",
   "metadata": {},
   "outputs": [
    {
     "data": {
      "text/plain": [
       "array([ 0.        , -6.4053312 ,  1.61977519,  0.32004039, -1.99520041])"
      ]
     },
     "execution_count": 59,
     "metadata": {},
     "output_type": "execute_result"
    }
   ],
   "source": [
    "np.tan(deg)"
   ]
  },
  {
   "cell_type": "code",
   "execution_count": 60,
   "id": "3bc7fcad-4e49-4f2b-a4c2-12a91eff9f25",
   "metadata": {},
   "outputs": [
    {
     "name": "stderr",
     "output_type": "stream",
     "text": [
      "C:\\Users\\rakes\\AppData\\Local\\Temp\\ipykernel_12336\\4042167314.py:1: RuntimeWarning: invalid value encountered in arcsin\n",
      "  np.arcsin(radians)\n"
     ]
    },
    {
     "data": {
      "text/plain": [
       "array([0.        , 0.55106958, 0.90333911,        nan,        nan])"
      ]
     },
     "execution_count": 60,
     "metadata": {},
     "output_type": "execute_result"
    }
   ],
   "source": [
    "np.arcsin(radians)"
   ]
  },
  {
   "cell_type": "code",
   "execution_count": 61,
   "id": "3dc305e5-6f41-4057-a7c6-dc1e934c6dd7",
   "metadata": {},
   "outputs": [
    {
     "name": "stderr",
     "output_type": "stream",
     "text": [
      "C:\\Users\\rakes\\AppData\\Local\\Temp\\ipykernel_12336\\194661201.py:1: RuntimeWarning: invalid value encountered in arccos\n",
      "  np.arccos(radians)\n"
     ]
    },
    {
     "data": {
      "text/plain": [
       "array([1.57079633, 1.01972674, 0.66745722,        nan,        nan])"
      ]
     },
     "execution_count": 61,
     "metadata": {},
     "output_type": "execute_result"
    }
   ],
   "source": [
    "np.arccos(radians)"
   ]
  },
  {
   "cell_type": "code",
   "execution_count": 62,
   "id": "aea4353e-9fe2-4d9a-b995-bbe3533974bb",
   "metadata": {},
   "outputs": [
    {
     "data": {
      "text/plain": [
       "array([0.        , 0.48234791, 0.66577375, 0.80844879, 1.00388482])"
      ]
     },
     "execution_count": 62,
     "metadata": {},
     "output_type": "execute_result"
    }
   ],
   "source": [
    "np.arctan(radians)"
   ]
  },
  {
   "cell_type": "code",
   "execution_count": 63,
   "id": "ff079287-089d-4532-9330-1a57b30a1fb7",
   "metadata": {},
   "outputs": [
    {
     "data": {
      "text/plain": [
       "array([[0.99718481, 0.93255736, 0.12812445, 0.99904052, 0.23608898]])"
      ]
     },
     "execution_count": 63,
     "metadata": {},
     "output_type": "execute_result"
    }
   ],
   "source": [
    "a = np.random.rand(1, 5)\n",
    "a"
   ]
  },
  {
   "cell_type": "code",
   "execution_count": 64,
   "id": "f87c4d5c-7228-4257-b552-fe1ec8195be8",
   "metadata": {},
   "outputs": [
    {
     "data": {
      "text/plain": [
       "array([[0., 0., 0., 0., 0.]])"
      ]
     },
     "execution_count": 64,
     "metadata": {},
     "output_type": "execute_result"
    }
   ],
   "source": [
    "np.floor(a)"
   ]
  },
  {
   "cell_type": "code",
   "execution_count": 65,
   "id": "7a3fd2f8-1715-4c98-a586-cf96dee1c369",
   "metadata": {},
   "outputs": [
    {
     "data": {
      "text/plain": [
       "array([[1., 1., 1., 1., 1.]])"
      ]
     },
     "execution_count": 65,
     "metadata": {},
     "output_type": "execute_result"
    }
   ],
   "source": [
    "np.ceil(a)"
   ]
  },
  {
   "cell_type": "markdown",
   "id": "b32dd658-8c69-48fd-b10d-9ece7f8acfdb",
   "metadata": {},
   "source": [
    "## Indexing and slicing "
   ]
  },
  {
   "cell_type": "markdown",
   "id": "5fb1a111-c6e9-405e-b3e0-b2234ffc7930",
   "metadata": {},
   "source": [
    "### 1D array"
   ]
  },
  {
   "cell_type": "code",
   "execution_count": 66,
   "id": "b970c479-8feb-4794-b3d2-51c3560b12f5",
   "metadata": {},
   "outputs": [
    {
     "data": {
      "text/plain": [
       "array([1, 2, 3, 4, 5, 6, 7, 8, 9])"
      ]
     },
     "execution_count": 66,
     "metadata": {},
     "output_type": "execute_result"
    }
   ],
   "source": [
    "arr = np.arange(1, 10)\n",
    "arr"
   ]
  },
  {
   "cell_type": "code",
   "execution_count": 67,
   "id": "6d3bcc34-eb19-4f4a-8d47-e4d49cc0e9e7",
   "metadata": {},
   "outputs": [
    {
     "data": {
      "text/plain": [
       "6"
      ]
     },
     "execution_count": 67,
     "metadata": {},
     "output_type": "execute_result"
    }
   ],
   "source": [
    "arr[5]"
   ]
  },
  {
   "cell_type": "code",
   "execution_count": 68,
   "id": "dfc8619f-8f4a-475d-b711-11f2c3e4248b",
   "metadata": {},
   "outputs": [
    {
     "data": {
      "text/plain": [
       "array([2, 3, 4, 5, 6])"
      ]
     },
     "execution_count": 68,
     "metadata": {},
     "output_type": "execute_result"
    }
   ],
   "source": [
    "arr[1:6]"
   ]
  },
  {
   "cell_type": "code",
   "execution_count": 69,
   "id": "1281bd11-0688-419b-9105-36119eb34000",
   "metadata": {},
   "outputs": [
    {
     "data": {
      "text/plain": [
       "array([4, 5, 6, 7, 8])"
      ]
     },
     "execution_count": 69,
     "metadata": {},
     "output_type": "execute_result"
    }
   ],
   "source": [
    "arr[3:-1]"
   ]
  },
  {
   "cell_type": "code",
   "execution_count": 70,
   "id": "6066d05d-62a3-4253-8830-5fbe4529c093",
   "metadata": {},
   "outputs": [
    {
     "data": {
      "text/plain": [
       "array([5, 6, 7, 8])"
      ]
     },
     "execution_count": 70,
     "metadata": {},
     "output_type": "execute_result"
    }
   ],
   "source": [
    "arr[-5:-1]"
   ]
  },
  {
   "cell_type": "markdown",
   "id": "f8394bdd-6593-4fd5-9c06-8730ee5e5706",
   "metadata": {},
   "source": [
    "### 2D array"
   ]
  },
  {
   "cell_type": "code",
   "execution_count": 71,
   "id": "16c2b643-db7a-444c-994a-2824f4dd5109",
   "metadata": {},
   "outputs": [
    {
     "data": {
      "text/plain": [
       "array([[ 1,  2,  3,  4,  5],\n",
       "       [ 6,  7,  8,  9, 10],\n",
       "       [11, 12, 13, 14, 15],\n",
       "       [16, 17, 18, 19, 20],\n",
       "       [21, 22, 23, 24, 25]])"
      ]
     },
     "execution_count": 71,
     "metadata": {},
     "output_type": "execute_result"
    }
   ],
   "source": [
    "arr = np.arange(1, 26).reshape(5, 5)\n",
    "arr"
   ]
  },
  {
   "cell_type": "code",
   "execution_count": 72,
   "id": "34c2a734-e6f8-4e89-badd-366150b47f72",
   "metadata": {},
   "outputs": [
    {
     "data": {
      "text/plain": [
       "3"
      ]
     },
     "execution_count": 72,
     "metadata": {},
     "output_type": "execute_result"
    }
   ],
   "source": [
    "arr[0][2]"
   ]
  },
  {
   "cell_type": "code",
   "execution_count": 73,
   "id": "031d1844-62ef-475e-ae70-c74eb2542c6e",
   "metadata": {},
   "outputs": [
    {
     "data": {
      "text/plain": [
       "3"
      ]
     },
     "execution_count": 73,
     "metadata": {},
     "output_type": "execute_result"
    }
   ],
   "source": [
    "arr[0, 2]"
   ]
  },
  {
   "cell_type": "code",
   "execution_count": 74,
   "id": "415b3451-1385-46bd-9502-cd3572b7ea41",
   "metadata": {},
   "outputs": [
    {
     "data": {
      "text/plain": [
       "array([[16, 17, 18, 19, 20],\n",
       "       [21, 22, 23, 24, 25]])"
      ]
     },
     "execution_count": 74,
     "metadata": {},
     "output_type": "execute_result"
    }
   ],
   "source": [
    "arr[\n",
    "    -2:,\n",
    "]"
   ]
  },
  {
   "cell_type": "code",
   "execution_count": 75,
   "id": "97d6b666-5660-4e36-9ae8-cf03d2957da2",
   "metadata": {},
   "outputs": [
    {
     "data": {
      "text/plain": [
       "array([[11, 12, 13, 14, 15],\n",
       "       [16, 17, 18, 19, 20],\n",
       "       [21, 22, 23, 24, 25]])"
      ]
     },
     "execution_count": 75,
     "metadata": {},
     "output_type": "execute_result"
    }
   ],
   "source": [
    "arr[\n",
    "    2:5,\n",
    "]"
   ]
  },
  {
   "cell_type": "code",
   "execution_count": 76,
   "id": "e92ca3fc-179c-477b-88e3-1e4718a03a47",
   "metadata": {},
   "outputs": [
    {
     "data": {
      "text/plain": [
       "array([[ 3,  4,  5],\n",
       "       [ 8,  9, 10],\n",
       "       [13, 14, 15],\n",
       "       [18, 19, 20],\n",
       "       [23, 24, 25]])"
      ]
     },
     "execution_count": 76,
     "metadata": {},
     "output_type": "execute_result"
    }
   ],
   "source": [
    "arr[:, 2:5]"
   ]
  },
  {
   "cell_type": "code",
   "execution_count": 77,
   "id": "eaf7e4c8-b62a-43b2-bb65-898c7ef19cbb",
   "metadata": {},
   "outputs": [
    {
     "data": {
      "text/plain": [
       "array([[14, 15],\n",
       "       [19, 20],\n",
       "       [24, 25]])"
      ]
     },
     "execution_count": 77,
     "metadata": {},
     "output_type": "execute_result"
    }
   ],
   "source": [
    "arr[2:5, 3:5]"
   ]
  }
 ],
 "metadata": {
  "kernelspec": {
   "display_name": "Python 3 (ipykernel)",
   "language": "python",
   "name": "python3"
  },
  "language_info": {
   "codemirror_mode": {
    "name": "ipython",
    "version": 3
   },
   "file_extension": ".py",
   "mimetype": "text/x-python",
   "name": "python",
   "nbconvert_exporter": "python",
   "pygments_lexer": "ipython3",
   "version": "3.11.5"
  }
 },
 "nbformat": 4,
 "nbformat_minor": 5
}
