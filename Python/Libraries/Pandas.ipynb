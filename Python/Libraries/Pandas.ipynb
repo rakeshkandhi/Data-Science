{
 "cells": [
  {
   "cell_type": "markdown",
   "id": "a753cf01-1212-4754-9183-7a0ea8555035",
   "metadata": {},
   "source": [
    "# Pandas "
   ]
  },
  {
   "cell_type": "code",
   "execution_count": 2,
   "id": "1ff35cd1-990c-4ec4-b1eb-4a1732712b62",
   "metadata": {},
   "outputs": [],
   "source": [
    "import numpy as np\n",
    "import pandas as pd"
   ]
  },
  {
   "cell_type": "markdown",
   "id": "403306a1-ee6c-4c78-8a39-12443496eb37",
   "metadata": {},
   "source": [
    "### Supress warnings"
   ]
  },
  {
   "cell_type": "code",
   "execution_count": 3,
   "id": "12f6973f-8c1b-45f5-b396-ec4b46c275be",
   "metadata": {},
   "outputs": [],
   "source": [
    "import warnings\n",
    "\n",
    "warnings.filterwarnings(\"ignore\")"
   ]
  },
  {
   "cell_type": "markdown",
   "id": "06f1244d-b0bd-43d4-aa4c-a461c95b28b1",
   "metadata": {},
   "source": [
    "### For version"
   ]
  },
  {
   "cell_type": "code",
   "execution_count": 3,
   "id": "b6f26b8c-e6b9-40aa-bdeb-6fdf9b5dba57",
   "metadata": {},
   "outputs": [
    {
     "name": "stdout",
     "output_type": "stream",
     "text": [
      "2.0.1\n"
     ]
    }
   ],
   "source": [
    "print(pd.__version__)\n",
    "# pd.show_versions()"
   ]
  },
  {
   "cell_type": "code",
   "execution_count": 5,
   "id": "27531666-38ab-4c89-9d86-efd27e3a9a0a",
   "metadata": {},
   "outputs": [],
   "source": [
    "name = pd.Series(list(\"Rakeshkandhi\"))"
   ]
  },
  {
   "cell_type": "code",
   "execution_count": 6,
   "id": "a51219e3-7971-478d-8aef-fed1e510f38c",
   "metadata": {},
   "outputs": [
    {
     "data": {
      "text/plain": [
       "array(['R', 'a', 'k', 'e', 's', 'h', 'k', 'a', 'n', 'd', 'h', 'i'],\n",
       "      dtype=object)"
      ]
     },
     "execution_count": 6,
     "metadata": {},
     "output_type": "execute_result"
    }
   ],
   "source": [
    "name.values"
   ]
  },
  {
   "cell_type": "code",
   "execution_count": 7,
   "id": "bbaa46bf-161d-4e7f-a5d4-cc2b1b887a19",
   "metadata": {},
   "outputs": [
    {
     "data": {
      "text/plain": [
       "'R a k e s h k a n d h i'"
      ]
     },
     "execution_count": 7,
     "metadata": {},
     "output_type": "execute_result"
    }
   ],
   "source": [
    "\" \".join(str(i) for i in name.values)"
   ]
  },
  {
   "cell_type": "code",
   "execution_count": 8,
   "id": "748b6fab-166b-4c97-8d59-adec8304788f",
   "metadata": {},
   "outputs": [
    {
     "data": {
      "text/plain": [
       "'k'"
      ]
     },
     "execution_count": 8,
     "metadata": {},
     "output_type": "execute_result"
    }
   ],
   "source": [
    "name[2]"
   ]
  },
  {
   "cell_type": "code",
   "execution_count": 9,
   "id": "85d455e6-4625-4f38-84ea-2e57bf59272b",
   "metadata": {},
   "outputs": [
    {
     "data": {
      "text/plain": [
       "0     RR\n",
       "1     aa\n",
       "2     kk\n",
       "3     ee\n",
       "4     ss\n",
       "5     hh\n",
       "6     kk\n",
       "7     aa\n",
       "8     nn\n",
       "9     dd\n",
       "10    hh\n",
       "11    ii\n",
       "dtype: object"
      ]
     },
     "execution_count": 9,
     "metadata": {},
     "output_type": "execute_result"
    }
   ],
   "source": [
    "name * 2"
   ]
  },
  {
   "cell_type": "code",
   "execution_count": 10,
   "id": "b30fb6d2-b221-43f0-903b-cf14b33d5d93",
   "metadata": {},
   "outputs": [
    {
     "name": "stdout",
     "output_type": "stream",
     "text": [
      "Is the series empty?\n",
      "False\n"
     ]
    }
   ],
   "source": [
    "# to check whether the series is empty or not\n",
    "# both format are same\n",
    "# print(f\"Is the series empty?\\n{name.empty}\")\n",
    "print(\"Is the series empty?\\n{}\".format(name.empty))"
   ]
  },
  {
   "cell_type": "code",
   "execution_count": 11,
   "id": "c6df77e1-e152-4f76-98c4-c02541d67a71",
   "metadata": {},
   "outputs": [
    {
     "data": {
      "text/plain": [
       "1"
      ]
     },
     "execution_count": 11,
     "metadata": {},
     "output_type": "execute_result"
    }
   ],
   "source": [
    "name.ndim"
   ]
  },
  {
   "cell_type": "code",
   "execution_count": 12,
   "id": "da6db5eb-bd2b-49f8-9aef-18b6d836b970",
   "metadata": {},
   "outputs": [
    {
     "data": {
      "text/plain": [
       "12"
      ]
     },
     "execution_count": 12,
     "metadata": {},
     "output_type": "execute_result"
    }
   ],
   "source": [
    "name.size"
   ]
  },
  {
   "cell_type": "code",
   "execution_count": 13,
   "id": "4f615682-9b42-4867-8187-640212a98b8e",
   "metadata": {},
   "outputs": [],
   "source": [
    "rand = pd.Series(np.random.randint(1, 100, 124))"
   ]
  },
  {
   "cell_type": "code",
   "execution_count": 14,
   "id": "b1934f37-864d-4437-8ee7-13458f4a14df",
   "metadata": {},
   "outputs": [
    {
     "data": {
      "text/plain": [
       "array([85, 21, 15, 29, 95, 59, 85, 60, 39, 14, 35, 10, 92, 56, 48, 57, 77,\n",
       "       61, 69, 68, 44, 40, 30, 75, 25,  8, 79, 84, 89,  8, 32, 28, 38,  2,\n",
       "       29, 72, 37, 39, 29, 41, 55, 20, 42, 91,  7, 51, 50, 87, 33, 80, 66,\n",
       "       30, 79, 12, 12, 80, 45, 49, 56, 12, 63, 72, 59, 76, 31,  7, 29, 72,\n",
       "       36, 39, 92, 43, 96,  3, 75, 42, 62, 46, 11, 92,  9, 19, 61, 86, 89,\n",
       "       50, 34, 24,  7, 25, 92, 80, 16, 93, 77, 34, 95, 57, 92, 56, 92, 34,\n",
       "       97, 98, 40, 41, 67,  3, 64, 15, 25, 23, 51, 53, 87,  7, 68, 74, 28,\n",
       "       79, 40,  6, 64, 72])"
      ]
     },
     "execution_count": 14,
     "metadata": {},
     "output_type": "execute_result"
    }
   ],
   "source": [
    "rand.values"
   ]
  },
  {
   "cell_type": "code",
   "execution_count": 15,
   "id": "be1b5e2c-940b-4784-97c3-7596456b488b",
   "metadata": {},
   "outputs": [
    {
     "data": {
      "text/plain": [
       "124"
      ]
     },
     "execution_count": 15,
     "metadata": {},
     "output_type": "execute_result"
    }
   ],
   "source": [
    "rand.size"
   ]
  },
  {
   "cell_type": "code",
   "execution_count": 16,
   "id": "c0db68cc-a1ef-409b-9d62-b5c3bd91d9d9",
   "metadata": {},
   "outputs": [
    {
     "data": {
      "text/plain": [
       "0    85\n",
       "1    21\n",
       "2    15\n",
       "3    29\n",
       "4    95\n",
       "5    59\n",
       "6    85\n",
       "dtype: int32"
      ]
     },
     "execution_count": 16,
     "metadata": {},
     "output_type": "execute_result"
    }
   ],
   "source": [
    "rand.head(7)"
   ]
  },
  {
   "cell_type": "code",
   "execution_count": 17,
   "id": "7d2504c2-d548-4cc0-8de0-194a8d2ae9b1",
   "metadata": {},
   "outputs": [
    {
     "data": {
      "text/plain": [
       "119    79\n",
       "120    40\n",
       "121     6\n",
       "122    64\n",
       "123    72\n",
       "dtype: int32"
      ]
     },
     "execution_count": 17,
     "metadata": {},
     "output_type": "execute_result"
    }
   ],
   "source": [
    "rand.tail()"
   ]
  },
  {
   "cell_type": "code",
   "execution_count": 12,
   "id": "c643efb0-0d41-43bc-afe9-4be260ff2f11",
   "metadata": {},
   "outputs": [],
   "source": [
    "dictionary_to_df = {\"sl.no\": [1, 2, 3], \"Name\": [\"Rakesh\", \"Sharath\", \"Nani\"]}"
   ]
  },
  {
   "cell_type": "code",
   "execution_count": 19,
   "id": "f91dcf75-3a41-4672-947e-d3dde29e049a",
   "metadata": {},
   "outputs": [
    {
     "data": {
      "text/plain": [
       "{'sl.no': [1, 2, 3], 'Name': ['Rakesh', 'Sharath', 'Nani']}"
      ]
     },
     "execution_count": 19,
     "metadata": {},
     "output_type": "execute_result"
    }
   ],
   "source": [
    "dictionary_to_df"
   ]
  },
  {
   "cell_type": "code",
   "execution_count": 20,
   "id": "149b0031-fca3-4422-a427-52d24b851648",
   "metadata": {},
   "outputs": [],
   "source": [
    "df = pd.DataFrame(dictionary_to_df)"
   ]
  },
  {
   "cell_type": "code",
   "execution_count": 21,
   "id": "182ce4d3-2000-40e4-8b8f-b9ee21c85ec3",
   "metadata": {},
   "outputs": [
    {
     "data": {
      "text/html": [
       "<div>\n",
       "<style scoped>\n",
       "    .dataframe tbody tr th:only-of-type {\n",
       "        vertical-align: middle;\n",
       "    }\n",
       "\n",
       "    .dataframe tbody tr th {\n",
       "        vertical-align: top;\n",
       "    }\n",
       "\n",
       "    .dataframe thead th {\n",
       "        text-align: right;\n",
       "    }\n",
       "</style>\n",
       "<table border=\"1\" class=\"dataframe\">\n",
       "  <thead>\n",
       "    <tr style=\"text-align: right;\">\n",
       "      <th></th>\n",
       "      <th>0</th>\n",
       "      <th>1</th>\n",
       "      <th>2</th>\n",
       "    </tr>\n",
       "  </thead>\n",
       "  <tbody>\n",
       "    <tr>\n",
       "      <th>sl.no</th>\n",
       "      <td>1</td>\n",
       "      <td>2</td>\n",
       "      <td>3</td>\n",
       "    </tr>\n",
       "    <tr>\n",
       "      <th>Name</th>\n",
       "      <td>Rakesh</td>\n",
       "      <td>Sharath</td>\n",
       "      <td>Nani</td>\n",
       "    </tr>\n",
       "  </tbody>\n",
       "</table>\n",
       "</div>"
      ],
      "text/plain": [
       "            0        1     2\n",
       "sl.no       1        2     3\n",
       "Name   Rakesh  Sharath  Nani"
      ]
     },
     "execution_count": 21,
     "metadata": {},
     "output_type": "execute_result"
    }
   ],
   "source": [
    "df.T"
   ]
  },
  {
   "cell_type": "code",
   "execution_count": 22,
   "id": "24c9f3ff-02de-430c-9999-df4a2824040c",
   "metadata": {},
   "outputs": [
    {
     "data": {
      "text/plain": [
       "sl.no     int64\n",
       "Name     object\n",
       "dtype: object"
      ]
     },
     "execution_count": 22,
     "metadata": {},
     "output_type": "execute_result"
    }
   ],
   "source": [
    "df.dtypes"
   ]
  },
  {
   "cell_type": "code",
   "execution_count": 23,
   "id": "1c064ddf-b718-4fd4-9b40-c55d1d419fc8",
   "metadata": {},
   "outputs": [],
   "source": [
    "df.columns = [i.lower() for i in df.columns]"
   ]
  },
  {
   "cell_type": "code",
   "execution_count": 24,
   "id": "c6a134aa-595a-4f7a-8098-18ac558fa60d",
   "metadata": {},
   "outputs": [],
   "source": [
    "df.columns = df.columns.str.replace(\".\", \"_\")"
   ]
  },
  {
   "cell_type": "code",
   "execution_count": 25,
   "id": "5adf2a80-d0da-48c7-9f9a-eedd1816e808",
   "metadata": {},
   "outputs": [
    {
     "data": {
      "text/plain": [
       "Index(['sl_no', 'name'], dtype='object')"
      ]
     },
     "execution_count": 25,
     "metadata": {},
     "output_type": "execute_result"
    }
   ],
   "source": [
    "df.columns"
   ]
  },
  {
   "cell_type": "code",
   "execution_count": 26,
   "id": "3ee15629-9f65-4bb6-8ba6-28c73b755f07",
   "metadata": {},
   "outputs": [
    {
     "data": {
      "text/plain": [
       "sl_no     int64\n",
       "name     object\n",
       "dtype: object"
      ]
     },
     "execution_count": 26,
     "metadata": {},
     "output_type": "execute_result"
    }
   ],
   "source": [
    "df.dtypes"
   ]
  },
  {
   "cell_type": "code",
   "execution_count": 27,
   "id": "a203288e-8897-48ff-8e63-413e846a0449",
   "metadata": {},
   "outputs": [
    {
     "name": "stdout",
     "output_type": "stream",
     "text": [
      "<class 'pandas.core.frame.DataFrame'>\n",
      "RangeIndex: 3 entries, 0 to 2\n",
      "Data columns (total 2 columns):\n",
      " #   Column  Non-Null Count  Dtype \n",
      "---  ------  --------------  ----- \n",
      " 0   sl_no   3 non-null      int64 \n",
      " 1   name    3 non-null      object\n",
      "dtypes: int64(1), object(1)\n",
      "memory usage: 176.0+ bytes\n"
     ]
    }
   ],
   "source": [
    "df.info()"
   ]
  },
  {
   "cell_type": "code",
   "execution_count": 28,
   "id": "c3c0b309-905c-4754-9934-93725dbdce19",
   "metadata": {},
   "outputs": [
    {
     "data": {
      "text/plain": [
       "False"
      ]
     },
     "execution_count": 28,
     "metadata": {},
     "output_type": "execute_result"
    }
   ],
   "source": [
    "df.empty"
   ]
  },
  {
   "cell_type": "code",
   "execution_count": 29,
   "id": "fd584259-b1ae-42a1-a3e0-8552a7d3c6ef",
   "metadata": {},
   "outputs": [
    {
     "data": {
      "text/plain": [
       "(3, 2)"
      ]
     },
     "execution_count": 29,
     "metadata": {},
     "output_type": "execute_result"
    }
   ],
   "source": [
    "df.shape"
   ]
  },
  {
   "cell_type": "code",
   "execution_count": 30,
   "id": "8db75f9e-b4c6-409f-9fbf-2e44e8ffd48b",
   "metadata": {},
   "outputs": [
    {
     "data": {
      "text/plain": [
       "6"
      ]
     },
     "execution_count": 30,
     "metadata": {},
     "output_type": "execute_result"
    }
   ],
   "source": [
    "df.size"
   ]
  },
  {
   "cell_type": "code",
   "execution_count": 31,
   "id": "6fe3bd46-ae93-4d9c-80c9-befc70e55c43",
   "metadata": {},
   "outputs": [
    {
     "data": {
      "text/plain": [
       "2"
      ]
     },
     "execution_count": 31,
     "metadata": {},
     "output_type": "execute_result"
    }
   ],
   "source": [
    "df.ndim"
   ]
  },
  {
   "cell_type": "code",
   "execution_count": 32,
   "id": "6904e7cf-67e4-4d76-ac31-575cb2f19990",
   "metadata": {},
   "outputs": [
    {
     "data": {
      "text/plain": [
       "array([[1, 'Rakesh'],\n",
       "       [2, 'Sharath'],\n",
       "       [3, 'Nani']], dtype=object)"
      ]
     },
     "execution_count": 32,
     "metadata": {},
     "output_type": "execute_result"
    }
   ],
   "source": [
    "df.values"
   ]
  },
  {
   "cell_type": "code",
   "execution_count": 33,
   "id": "f51bc841-ab19-4962-ab3e-bc9a6428590c",
   "metadata": {},
   "outputs": [
    {
     "data": {
      "text/html": [
       "<div>\n",
       "<style scoped>\n",
       "    .dataframe tbody tr th:only-of-type {\n",
       "        vertical-align: middle;\n",
       "    }\n",
       "\n",
       "    .dataframe tbody tr th {\n",
       "        vertical-align: top;\n",
       "    }\n",
       "\n",
       "    .dataframe thead th {\n",
       "        text-align: right;\n",
       "    }\n",
       "</style>\n",
       "<table border=\"1\" class=\"dataframe\">\n",
       "  <thead>\n",
       "    <tr style=\"text-align: right;\">\n",
       "      <th></th>\n",
       "      <th>sl_no</th>\n",
       "      <th>name</th>\n",
       "    </tr>\n",
       "  </thead>\n",
       "  <tbody>\n",
       "    <tr>\n",
       "      <th>0</th>\n",
       "      <td>1</td>\n",
       "      <td>Rakesh</td>\n",
       "    </tr>\n",
       "    <tr>\n",
       "      <th>1</th>\n",
       "      <td>2</td>\n",
       "      <td>Sharath</td>\n",
       "    </tr>\n",
       "    <tr>\n",
       "      <th>2</th>\n",
       "      <td>3</td>\n",
       "      <td>Nani</td>\n",
       "    </tr>\n",
       "  </tbody>\n",
       "</table>\n",
       "</div>"
      ],
      "text/plain": [
       "   sl_no     name\n",
       "0      1   Rakesh\n",
       "1      2  Sharath\n",
       "2      3     Nani"
      ]
     },
     "execution_count": 33,
     "metadata": {},
     "output_type": "execute_result"
    }
   ],
   "source": [
    "df.head()"
   ]
  },
  {
   "cell_type": "code",
   "execution_count": 34,
   "id": "22dc0c0a-4480-407d-835c-d32f252e75d5",
   "metadata": {},
   "outputs": [
    {
     "data": {
      "text/html": [
       "<div>\n",
       "<style scoped>\n",
       "    .dataframe tbody tr th:only-of-type {\n",
       "        vertical-align: middle;\n",
       "    }\n",
       "\n",
       "    .dataframe tbody tr th {\n",
       "        vertical-align: top;\n",
       "    }\n",
       "\n",
       "    .dataframe thead th {\n",
       "        text-align: right;\n",
       "    }\n",
       "</style>\n",
       "<table border=\"1\" class=\"dataframe\">\n",
       "  <thead>\n",
       "    <tr style=\"text-align: right;\">\n",
       "      <th></th>\n",
       "      <th>sl_no</th>\n",
       "      <th>name</th>\n",
       "    </tr>\n",
       "  </thead>\n",
       "  <tbody>\n",
       "    <tr>\n",
       "      <th>0</th>\n",
       "      <td>1</td>\n",
       "      <td>Rakesh</td>\n",
       "    </tr>\n",
       "    <tr>\n",
       "      <th>1</th>\n",
       "      <td>2</td>\n",
       "      <td>Sharath</td>\n",
       "    </tr>\n",
       "    <tr>\n",
       "      <th>2</th>\n",
       "      <td>3</td>\n",
       "      <td>Nani</td>\n",
       "    </tr>\n",
       "  </tbody>\n",
       "</table>\n",
       "</div>"
      ],
      "text/plain": [
       "   sl_no     name\n",
       "0      1   Rakesh\n",
       "1      2  Sharath\n",
       "2      3     Nani"
      ]
     },
     "execution_count": 34,
     "metadata": {},
     "output_type": "execute_result"
    }
   ],
   "source": [
    "df.tail()"
   ]
  },
  {
   "cell_type": "code",
   "execution_count": 56,
   "id": "4d8957b5-e62a-4562-a3ba-bebdd57efd14",
   "metadata": {},
   "outputs": [
    {
     "data": {
      "text/plain": [
       "'1.5.2'"
      ]
     },
     "execution_count": 56,
     "metadata": {},
     "output_type": "execute_result"
    }
   ],
   "source": [
    "pd.__version__"
   ]
  },
  {
   "cell_type": "code",
   "execution_count": 57,
   "id": "cfb6a2b1-a293-42fa-8e3c-160b589bd7ee",
   "metadata": {},
   "outputs": [],
   "source": [
    "l = [i for i in range(5)]"
   ]
  },
  {
   "cell_type": "code",
   "execution_count": 58,
   "id": "ec52b346-62ff-46f5-bbc3-ed57981b1497",
   "metadata": {},
   "outputs": [],
   "source": [
    "s = pd.Series(l)"
   ]
  },
  {
   "cell_type": "code",
   "execution_count": 59,
   "id": "56bcf78c-6a0f-4a68-b9d3-8af79bc8b64a",
   "metadata": {},
   "outputs": [
    {
     "data": {
      "text/plain": [
       "0    0\n",
       "1    1\n",
       "2    2\n",
       "3    3\n",
       "4    4\n",
       "dtype: int64"
      ]
     },
     "execution_count": 59,
     "metadata": {},
     "output_type": "execute_result"
    }
   ],
   "source": [
    "s"
   ]
  },
  {
   "cell_type": "code",
   "execution_count": 61,
   "id": "59974e9e-f236-429c-ae83-a582805e088c",
   "metadata": {},
   "outputs": [],
   "source": [
    "s.index = [\"a\", \"b\", \"c\", \"d\", \"e\"]"
   ]
  },
  {
   "cell_type": "code",
   "execution_count": 62,
   "id": "2ab9b30b-effe-4f97-a494-d64c69ea281c",
   "metadata": {},
   "outputs": [
    {
     "data": {
      "text/plain": [
       "a    0\n",
       "b    1\n",
       "c    2\n",
       "d    3\n",
       "e    4\n",
       "dtype: int64"
      ]
     },
     "execution_count": 62,
     "metadata": {},
     "output_type": "execute_result"
    }
   ],
   "source": [
    "s"
   ]
  },
  {
   "cell_type": "code",
   "execution_count": 63,
   "id": "b04f1246-807d-4198-b0cb-06ffbfbb5cd3",
   "metadata": {},
   "outputs": [
    {
     "data": {
      "text/plain": [
       "4"
      ]
     },
     "execution_count": 63,
     "metadata": {},
     "output_type": "execute_result"
    }
   ],
   "source": [
    "s[\"e\"]"
   ]
  },
  {
   "cell_type": "code",
   "execution_count": 67,
   "id": "d0854dd1-703d-4eae-9003-425e10a4a60c",
   "metadata": {},
   "outputs": [
    {
     "data": {
      "text/plain": [
       "numpy.ndarray"
      ]
     },
     "execution_count": 67,
     "metadata": {},
     "output_type": "execute_result"
    }
   ],
   "source": [
    "type(x)"
   ]
  },
  {
   "cell_type": "code",
   "execution_count": 68,
   "id": "3eff6d8e-f9e8-430f-a02b-cac52a527746",
   "metadata": {},
   "outputs": [
    {
     "data": {
      "text/plain": [
       "array([ 1.        ,  7.33333333, 13.66666667, 20.        ])"
      ]
     },
     "execution_count": 68,
     "metadata": {},
     "output_type": "execute_result"
    }
   ],
   "source": [
    "x = np.linspace(1, 20, 4)\n",
    "x"
   ]
  },
  {
   "cell_type": "code",
   "execution_count": 4,
   "id": "cf7acac1-e31c-4dcb-a42b-646412b77cf1",
   "metadata": {},
   "outputs": [],
   "source": [
    "# print(dir(pd.DataFrame),sep=\"\\n\")"
   ]
  },
  {
   "cell_type": "code",
   "execution_count": 74,
   "id": "622a15dd-9a60-4f52-8537-a9a331cc5af2",
   "metadata": {},
   "outputs": [
    {
     "name": "stdout",
     "output_type": "stream",
     "text": [
      "100\n"
     ]
    }
   ],
   "source": [
    "import numpy as np\n",
    "\n",
    "Z = np.array([[[11, 22, 33], [44, 55, 66]], [[77, 88, 99], [100, 111, 122]]])\n",
    "print(Z[1, 1, 0])"
   ]
  },
  {
   "cell_type": "code",
   "execution_count": 76,
   "id": "0bde837d-82c1-47f7-acae-38f5f2429ca9",
   "metadata": {},
   "outputs": [
    {
     "name": "stdout",
     "output_type": "stream",
     "text": [
      "2\n"
     ]
    }
   ],
   "source": [
    "Y = np.array([[[5, 6, 36], [44, 65, 67]], [[47, 78, 59], [10, 21, 42]]])\n",
    "print(Y[0, 1, 2] - Y[0, 1, 1])"
   ]
  },
  {
   "cell_type": "code",
   "execution_count": null,
   "id": "12ce17d9-ac06-4087-b833-0189c150687b",
   "metadata": {},
   "outputs": [],
   "source": []
  },
  {
   "cell_type": "code",
   "execution_count": 35,
   "id": "e51425ca-38e9-42fe-b2df-4fd5b7aa1f01",
   "metadata": {},
   "outputs": [
    {
     "name": "stdout",
     "output_type": "stream",
     "text": [
      "2023-04-18\n",
      "Today the date is 18-4-2023\n"
     ]
    }
   ],
   "source": [
    "from datetime import date\n",
    "\n",
    "today = date.today()\n",
    "print(today)\n",
    "print(f\"Today the date is {today.day}-{today.month}-{today.year}\")"
   ]
  },
  {
   "cell_type": "code",
   "execution_count": 36,
   "id": "05ef2dd4-2092-4fdc-9a49-ef9980485acb",
   "metadata": {},
   "outputs": [],
   "source": [
    "driver = pd.read_csv(\n",
    "    \"C:/Users/rakes/Desktop/Rakhi/Courses_enrolled/Python/Applied python/Datasets_4754/LVC Datasets/Lesson_3/driver-data.csv\"\n",
    ")"
   ]
  },
  {
   "cell_type": "code",
   "execution_count": 37,
   "id": "b51703b0-4afb-4bf3-a71f-6c07e518f7e6",
   "metadata": {},
   "outputs": [],
   "source": [
    "pd.options.display.max_columns = None"
   ]
  },
  {
   "cell_type": "code",
   "execution_count": 38,
   "id": "a00d6733-6e6e-4d0b-9e8f-a4a3a589f8dd",
   "metadata": {},
   "outputs": [
    {
     "data": {
      "text/html": [
       "<div>\n",
       "<style scoped>\n",
       "    .dataframe tbody tr th:only-of-type {\n",
       "        vertical-align: middle;\n",
       "    }\n",
       "\n",
       "    .dataframe tbody tr th {\n",
       "        vertical-align: top;\n",
       "    }\n",
       "\n",
       "    .dataframe thead th {\n",
       "        text-align: right;\n",
       "    }\n",
       "</style>\n",
       "<table border=\"1\" class=\"dataframe\">\n",
       "  <thead>\n",
       "    <tr style=\"text-align: right;\">\n",
       "      <th></th>\n",
       "      <th>id</th>\n",
       "      <th>mean_dist_day</th>\n",
       "      <th>mean_over_speed_perc</th>\n",
       "    </tr>\n",
       "  </thead>\n",
       "  <tbody>\n",
       "    <tr>\n",
       "      <th>0</th>\n",
       "      <td>3423311935</td>\n",
       "      <td>71.24</td>\n",
       "      <td>28</td>\n",
       "    </tr>\n",
       "    <tr>\n",
       "      <th>1</th>\n",
       "      <td>3423313212</td>\n",
       "      <td>52.53</td>\n",
       "      <td>25</td>\n",
       "    </tr>\n",
       "    <tr>\n",
       "      <th>2</th>\n",
       "      <td>3423313724</td>\n",
       "      <td>64.54</td>\n",
       "      <td>27</td>\n",
       "    </tr>\n",
       "    <tr>\n",
       "      <th>3</th>\n",
       "      <td>3423311373</td>\n",
       "      <td>55.69</td>\n",
       "      <td>22</td>\n",
       "    </tr>\n",
       "    <tr>\n",
       "      <th>4</th>\n",
       "      <td>3423310999</td>\n",
       "      <td>54.58</td>\n",
       "      <td>25</td>\n",
       "    </tr>\n",
       "  </tbody>\n",
       "</table>\n",
       "</div>"
      ],
      "text/plain": [
       "           id  mean_dist_day  mean_over_speed_perc\n",
       "0  3423311935          71.24                    28\n",
       "1  3423313212          52.53                    25\n",
       "2  3423313724          64.54                    27\n",
       "3  3423311373          55.69                    22\n",
       "4  3423310999          54.58                    25"
      ]
     },
     "execution_count": 38,
     "metadata": {},
     "output_type": "execute_result"
    }
   ],
   "source": [
    "driver.head()"
   ]
  },
  {
   "cell_type": "code",
   "execution_count": 39,
   "id": "a3b269ec-23b4-4a56-8ca0-5c73756c8082",
   "metadata": {},
   "outputs": [
    {
     "name": "stdout",
     "output_type": "stream",
     "text": [
      "<class 'pandas.core.frame.DataFrame'>\n",
      "RangeIndex: 4000 entries, 0 to 3999\n",
      "Data columns (total 3 columns):\n",
      " #   Column                Non-Null Count  Dtype  \n",
      "---  ------                --------------  -----  \n",
      " 0   id                    4000 non-null   int64  \n",
      " 1   mean_dist_day         4000 non-null   float64\n",
      " 2   mean_over_speed_perc  4000 non-null   int64  \n",
      "dtypes: float64(1), int64(2)\n",
      "memory usage: 93.9 KB\n"
     ]
    }
   ],
   "source": [
    "driver.info()"
   ]
  },
  {
   "cell_type": "code",
   "execution_count": null,
   "id": "7cca9ed4-8f3d-4074-a4c3-6fd264629ba3",
   "metadata": {},
   "outputs": [],
   "source": []
  },
  {
   "cell_type": "code",
   "execution_count": null,
   "id": "253b4331-0008-483d-9f0e-9c9af0919189",
   "metadata": {},
   "outputs": [],
   "source": []
  },
  {
   "cell_type": "markdown",
   "id": "9ee46726-5e57-46b2-845f-caf902706f7d",
   "metadata": {},
   "source": [
    "### create an example dataset"
   ]
  },
  {
   "cell_type": "code",
   "execution_count": 40,
   "id": "95b117ea-217b-4269-b419-e00b27b21485",
   "metadata": {},
   "outputs": [],
   "source": [
    "df = pd.DataFrame({\"Col one\": [10, 20], \"Col two\": [1, 2]})\n",
    "df1 = pd.DataFrame(np.random.rand(4, 8), columns=list(\"abcdefgh\"))"
   ]
  },
  {
   "cell_type": "markdown",
   "id": "83e7bf1d-719a-4de1-a675-8ee8f83bd594",
   "metadata": {},
   "source": [
    "### rename columns"
   ]
  },
  {
   "cell_type": "code",
   "execution_count": 41,
   "id": "2c59601b-0cef-442a-841b-3b4c3a73467e",
   "metadata": {},
   "outputs": [],
   "source": [
    "# df.columns = [\"col_one\",\"col_two\"]\n",
    "df.columns = df.columns.str.replace(\" \", \"_\")\n",
    "# df = df.rename({\"Col one\":\"col_one\",\"Col two\":\"col_two\"},axis=\"columns\")"
   ]
  },
  {
   "cell_type": "markdown",
   "id": "9913404a-b62a-4ba6-b21a-c92dbb5e2042",
   "metadata": {},
   "source": [
    "### Adding the prefix or suffix to the data columns"
   ]
  },
  {
   "cell_type": "code",
   "execution_count": 42,
   "id": "7ac87311-f648-4b6e-8370-6f71089e8697",
   "metadata": {},
   "outputs": [],
   "source": [
    "# df.add_prefix(\"prefix\")\n",
    "# df.add_suffix(\"Suffix\")"
   ]
  },
  {
   "cell_type": "markdown",
   "id": "b1ca925a-850d-43ca-ba8b-891e0646c858",
   "metadata": {},
   "source": [
    "## 311_Service_Requests_from_2010_to_Present Dataset for practise"
   ]
  },
  {
   "cell_type": "code",
   "execution_count": 13,
   "id": "ba46401f-cc02-4ee8-b33d-56949ff2c027",
   "metadata": {},
   "outputs": [],
   "source": [
    "nyc = pd.read_csv(\n",
    "    r\"C:\\Users\\rakes\\Desktop\\Rakhi\\Project\\Python\\Customer_Service_Requests_Analysis_Dataset\\311_Service_Requests_from_2010_to_Present.csv\",\n",
    "    parse_dates=[\"Created Date\", \"Closed Date\"],\n",
    "    low_memory=False,\n",
    ")"
   ]
  },
  {
   "cell_type": "markdown",
   "id": "a9d94d8f-903e-4bdc-9077-b1f36d278195",
   "metadata": {},
   "source": [
    "### Setting to view all columns"
   ]
  },
  {
   "cell_type": "code",
   "execution_count": 14,
   "id": "06a1a887-3205-41c0-8ac1-82c4ccef9337",
   "metadata": {},
   "outputs": [],
   "source": [
    "pd.options.display.max_columns = None"
   ]
  },
  {
   "cell_type": "code",
   "execution_count": 15,
   "id": "90cb7504-2746-4a6a-a078-b68957600707",
   "metadata": {},
   "outputs": [],
   "source": [
    "nyc.columns = nyc.columns.str.replace(\" \", \"_\")"
   ]
  },
  {
   "cell_type": "code",
   "execution_count": 16,
   "id": "f9338a73-4813-4942-bca8-11124c203461",
   "metadata": {},
   "outputs": [],
   "source": [
    "nyc.columns = [i.lower() for i in nyc.columns]"
   ]
  },
  {
   "cell_type": "code",
   "execution_count": 17,
   "id": "ff58566f-5552-40a9-a716-af460e4d268c",
   "metadata": {},
   "outputs": [
    {
     "data": {
      "text/html": [
       "<div>\n",
       "<style scoped>\n",
       "    .dataframe tbody tr th:only-of-type {\n",
       "        vertical-align: middle;\n",
       "    }\n",
       "\n",
       "    .dataframe tbody tr th {\n",
       "        vertical-align: top;\n",
       "    }\n",
       "\n",
       "    .dataframe thead th {\n",
       "        text-align: right;\n",
       "    }\n",
       "</style>\n",
       "<table border=\"1\" class=\"dataframe\">\n",
       "  <thead>\n",
       "    <tr style=\"text-align: right;\">\n",
       "      <th></th>\n",
       "      <th>unique_key</th>\n",
       "      <th>created_date</th>\n",
       "      <th>closed_date</th>\n",
       "      <th>agency</th>\n",
       "      <th>agency_name</th>\n",
       "      <th>complaint_type</th>\n",
       "      <th>descriptor</th>\n",
       "      <th>location_type</th>\n",
       "      <th>incident_zip</th>\n",
       "      <th>incident_address</th>\n",
       "      <th>street_name</th>\n",
       "      <th>cross_street_1</th>\n",
       "      <th>cross_street_2</th>\n",
       "      <th>intersection_street_1</th>\n",
       "      <th>intersection_street_2</th>\n",
       "      <th>address_type</th>\n",
       "      <th>city</th>\n",
       "      <th>landmark</th>\n",
       "      <th>facility_type</th>\n",
       "      <th>status</th>\n",
       "      <th>due_date</th>\n",
       "      <th>resolution_description</th>\n",
       "      <th>resolution_action_updated_date</th>\n",
       "      <th>community_board</th>\n",
       "      <th>borough</th>\n",
       "      <th>x_coordinate_(state_plane)</th>\n",
       "      <th>y_coordinate_(state_plane)</th>\n",
       "      <th>park_facility_name</th>\n",
       "      <th>park_borough</th>\n",
       "      <th>school_name</th>\n",
       "      <th>school_number</th>\n",
       "      <th>school_region</th>\n",
       "      <th>school_code</th>\n",
       "      <th>school_phone_number</th>\n",
       "      <th>school_address</th>\n",
       "      <th>school_city</th>\n",
       "      <th>school_state</th>\n",
       "      <th>school_zip</th>\n",
       "      <th>school_not_found</th>\n",
       "      <th>school_or_citywide_complaint</th>\n",
       "      <th>vehicle_type</th>\n",
       "      <th>taxi_company_borough</th>\n",
       "      <th>taxi_pick_up_location</th>\n",
       "      <th>bridge_highway_name</th>\n",
       "      <th>bridge_highway_direction</th>\n",
       "      <th>road_ramp</th>\n",
       "      <th>bridge_highway_segment</th>\n",
       "      <th>garage_lot_name</th>\n",
       "      <th>ferry_direction</th>\n",
       "      <th>ferry_terminal_name</th>\n",
       "      <th>latitude</th>\n",
       "      <th>longitude</th>\n",
       "      <th>location</th>\n",
       "    </tr>\n",
       "  </thead>\n",
       "  <tbody>\n",
       "    <tr>\n",
       "      <th>0</th>\n",
       "      <td>32310363</td>\n",
       "      <td>2015-12-31 23:59:45</td>\n",
       "      <td>2016-01-01 00:55:15</td>\n",
       "      <td>NYPD</td>\n",
       "      <td>New York City Police Department</td>\n",
       "      <td>Noise - Street/Sidewalk</td>\n",
       "      <td>Loud Music/Party</td>\n",
       "      <td>Street/Sidewalk</td>\n",
       "      <td>10034.0</td>\n",
       "      <td>71 VERMILYEA AVENUE</td>\n",
       "      <td>VERMILYEA AVENUE</td>\n",
       "      <td>ACADEMY STREET</td>\n",
       "      <td>WEST 204 STREET</td>\n",
       "      <td>NaN</td>\n",
       "      <td>NaN</td>\n",
       "      <td>ADDRESS</td>\n",
       "      <td>NEW YORK</td>\n",
       "      <td>NaN</td>\n",
       "      <td>Precinct</td>\n",
       "      <td>Closed</td>\n",
       "      <td>01/01/2016 07:59:45 AM</td>\n",
       "      <td>The Police Department responded and upon arriv...</td>\n",
       "      <td>01/01/2016 12:55:15 AM</td>\n",
       "      <td>12 MANHATTAN</td>\n",
       "      <td>MANHATTAN</td>\n",
       "      <td>1005409.0</td>\n",
       "      <td>254678.0</td>\n",
       "      <td>Unspecified</td>\n",
       "      <td>MANHATTAN</td>\n",
       "      <td>Unspecified</td>\n",
       "      <td>Unspecified</td>\n",
       "      <td>Unspecified</td>\n",
       "      <td>Unspecified</td>\n",
       "      <td>Unspecified</td>\n",
       "      <td>Unspecified</td>\n",
       "      <td>Unspecified</td>\n",
       "      <td>Unspecified</td>\n",
       "      <td>Unspecified</td>\n",
       "      <td>N</td>\n",
       "      <td>NaN</td>\n",
       "      <td>NaN</td>\n",
       "      <td>NaN</td>\n",
       "      <td>NaN</td>\n",
       "      <td>NaN</td>\n",
       "      <td>NaN</td>\n",
       "      <td>NaN</td>\n",
       "      <td>NaN</td>\n",
       "      <td>NaN</td>\n",
       "      <td>NaN</td>\n",
       "      <td>NaN</td>\n",
       "      <td>40.865682</td>\n",
       "      <td>-73.923501</td>\n",
       "      <td>(40.86568153633767, -73.92350095571744)</td>\n",
       "    </tr>\n",
       "    <tr>\n",
       "      <th>1</th>\n",
       "      <td>32309934</td>\n",
       "      <td>2015-12-31 23:59:44</td>\n",
       "      <td>2016-01-01 01:26:57</td>\n",
       "      <td>NYPD</td>\n",
       "      <td>New York City Police Department</td>\n",
       "      <td>Blocked Driveway</td>\n",
       "      <td>No Access</td>\n",
       "      <td>Street/Sidewalk</td>\n",
       "      <td>11105.0</td>\n",
       "      <td>27-07 23 AVENUE</td>\n",
       "      <td>23 AVENUE</td>\n",
       "      <td>27 STREET</td>\n",
       "      <td>28 STREET</td>\n",
       "      <td>NaN</td>\n",
       "      <td>NaN</td>\n",
       "      <td>ADDRESS</td>\n",
       "      <td>ASTORIA</td>\n",
       "      <td>NaN</td>\n",
       "      <td>Precinct</td>\n",
       "      <td>Closed</td>\n",
       "      <td>01/01/2016 07:59:44 AM</td>\n",
       "      <td>The Police Department responded to the complai...</td>\n",
       "      <td>01/01/2016 01:26:57 AM</td>\n",
       "      <td>01 QUEENS</td>\n",
       "      <td>QUEENS</td>\n",
       "      <td>1007766.0</td>\n",
       "      <td>221986.0</td>\n",
       "      <td>Unspecified</td>\n",
       "      <td>QUEENS</td>\n",
       "      <td>Unspecified</td>\n",
       "      <td>Unspecified</td>\n",
       "      <td>Unspecified</td>\n",
       "      <td>Unspecified</td>\n",
       "      <td>Unspecified</td>\n",
       "      <td>Unspecified</td>\n",
       "      <td>Unspecified</td>\n",
       "      <td>Unspecified</td>\n",
       "      <td>Unspecified</td>\n",
       "      <td>N</td>\n",
       "      <td>NaN</td>\n",
       "      <td>NaN</td>\n",
       "      <td>NaN</td>\n",
       "      <td>NaN</td>\n",
       "      <td>NaN</td>\n",
       "      <td>NaN</td>\n",
       "      <td>NaN</td>\n",
       "      <td>NaN</td>\n",
       "      <td>NaN</td>\n",
       "      <td>NaN</td>\n",
       "      <td>NaN</td>\n",
       "      <td>40.775945</td>\n",
       "      <td>-73.915094</td>\n",
       "      <td>(40.775945312321085, -73.91509393898605)</td>\n",
       "    </tr>\n",
       "    <tr>\n",
       "      <th>2</th>\n",
       "      <td>32309159</td>\n",
       "      <td>2015-12-31 23:59:29</td>\n",
       "      <td>2016-01-01 04:51:03</td>\n",
       "      <td>NYPD</td>\n",
       "      <td>New York City Police Department</td>\n",
       "      <td>Blocked Driveway</td>\n",
       "      <td>No Access</td>\n",
       "      <td>Street/Sidewalk</td>\n",
       "      <td>10458.0</td>\n",
       "      <td>2897 VALENTINE AVENUE</td>\n",
       "      <td>VALENTINE AVENUE</td>\n",
       "      <td>EAST 198 STREET</td>\n",
       "      <td>EAST 199 STREET</td>\n",
       "      <td>NaN</td>\n",
       "      <td>NaN</td>\n",
       "      <td>ADDRESS</td>\n",
       "      <td>BRONX</td>\n",
       "      <td>NaN</td>\n",
       "      <td>Precinct</td>\n",
       "      <td>Closed</td>\n",
       "      <td>01/01/2016 07:59:29 AM</td>\n",
       "      <td>The Police Department responded and upon arriv...</td>\n",
       "      <td>01/01/2016 04:51:03 AM</td>\n",
       "      <td>07 BRONX</td>\n",
       "      <td>BRONX</td>\n",
       "      <td>1015081.0</td>\n",
       "      <td>256380.0</td>\n",
       "      <td>Unspecified</td>\n",
       "      <td>BRONX</td>\n",
       "      <td>Unspecified</td>\n",
       "      <td>Unspecified</td>\n",
       "      <td>Unspecified</td>\n",
       "      <td>Unspecified</td>\n",
       "      <td>Unspecified</td>\n",
       "      <td>Unspecified</td>\n",
       "      <td>Unspecified</td>\n",
       "      <td>Unspecified</td>\n",
       "      <td>Unspecified</td>\n",
       "      <td>N</td>\n",
       "      <td>NaN</td>\n",
       "      <td>NaN</td>\n",
       "      <td>NaN</td>\n",
       "      <td>NaN</td>\n",
       "      <td>NaN</td>\n",
       "      <td>NaN</td>\n",
       "      <td>NaN</td>\n",
       "      <td>NaN</td>\n",
       "      <td>NaN</td>\n",
       "      <td>NaN</td>\n",
       "      <td>NaN</td>\n",
       "      <td>40.870325</td>\n",
       "      <td>-73.888525</td>\n",
       "      <td>(40.870324522111424, -73.88852464418646)</td>\n",
       "    </tr>\n",
       "    <tr>\n",
       "      <th>3</th>\n",
       "      <td>32305098</td>\n",
       "      <td>2015-12-31 23:57:46</td>\n",
       "      <td>2016-01-01 07:43:13</td>\n",
       "      <td>NYPD</td>\n",
       "      <td>New York City Police Department</td>\n",
       "      <td>Illegal Parking</td>\n",
       "      <td>Commercial Overnight Parking</td>\n",
       "      <td>Street/Sidewalk</td>\n",
       "      <td>10461.0</td>\n",
       "      <td>2940 BAISLEY AVENUE</td>\n",
       "      <td>BAISLEY AVENUE</td>\n",
       "      <td>EDISON AVENUE</td>\n",
       "      <td>B STREET</td>\n",
       "      <td>NaN</td>\n",
       "      <td>NaN</td>\n",
       "      <td>ADDRESS</td>\n",
       "      <td>BRONX</td>\n",
       "      <td>NaN</td>\n",
       "      <td>Precinct</td>\n",
       "      <td>Closed</td>\n",
       "      <td>01/01/2016 07:57:46 AM</td>\n",
       "      <td>The Police Department responded to the complai...</td>\n",
       "      <td>01/01/2016 07:43:13 AM</td>\n",
       "      <td>10 BRONX</td>\n",
       "      <td>BRONX</td>\n",
       "      <td>1031740.0</td>\n",
       "      <td>243899.0</td>\n",
       "      <td>Unspecified</td>\n",
       "      <td>BRONX</td>\n",
       "      <td>Unspecified</td>\n",
       "      <td>Unspecified</td>\n",
       "      <td>Unspecified</td>\n",
       "      <td>Unspecified</td>\n",
       "      <td>Unspecified</td>\n",
       "      <td>Unspecified</td>\n",
       "      <td>Unspecified</td>\n",
       "      <td>Unspecified</td>\n",
       "      <td>Unspecified</td>\n",
       "      <td>N</td>\n",
       "      <td>NaN</td>\n",
       "      <td>NaN</td>\n",
       "      <td>NaN</td>\n",
       "      <td>NaN</td>\n",
       "      <td>NaN</td>\n",
       "      <td>NaN</td>\n",
       "      <td>NaN</td>\n",
       "      <td>NaN</td>\n",
       "      <td>NaN</td>\n",
       "      <td>NaN</td>\n",
       "      <td>NaN</td>\n",
       "      <td>40.835994</td>\n",
       "      <td>-73.828379</td>\n",
       "      <td>(40.83599404683083, -73.82837939584206)</td>\n",
       "    </tr>\n",
       "    <tr>\n",
       "      <th>4</th>\n",
       "      <td>32306529</td>\n",
       "      <td>2015-12-31 23:56:58</td>\n",
       "      <td>2016-01-01 03:24:42</td>\n",
       "      <td>NYPD</td>\n",
       "      <td>New York City Police Department</td>\n",
       "      <td>Illegal Parking</td>\n",
       "      <td>Blocked Sidewalk</td>\n",
       "      <td>Street/Sidewalk</td>\n",
       "      <td>11373.0</td>\n",
       "      <td>87-14 57 ROAD</td>\n",
       "      <td>57 ROAD</td>\n",
       "      <td>SEABURY STREET</td>\n",
       "      <td>HOFFMAN DRIVE</td>\n",
       "      <td>NaN</td>\n",
       "      <td>NaN</td>\n",
       "      <td>ADDRESS</td>\n",
       "      <td>ELMHURST</td>\n",
       "      <td>NaN</td>\n",
       "      <td>Precinct</td>\n",
       "      <td>Closed</td>\n",
       "      <td>01/01/2016 07:56:58 AM</td>\n",
       "      <td>The Police Department responded and upon arriv...</td>\n",
       "      <td>01/01/2016 03:24:42 AM</td>\n",
       "      <td>04 QUEENS</td>\n",
       "      <td>QUEENS</td>\n",
       "      <td>1019123.0</td>\n",
       "      <td>206375.0</td>\n",
       "      <td>Unspecified</td>\n",
       "      <td>QUEENS</td>\n",
       "      <td>Unspecified</td>\n",
       "      <td>Unspecified</td>\n",
       "      <td>Unspecified</td>\n",
       "      <td>Unspecified</td>\n",
       "      <td>Unspecified</td>\n",
       "      <td>Unspecified</td>\n",
       "      <td>Unspecified</td>\n",
       "      <td>Unspecified</td>\n",
       "      <td>Unspecified</td>\n",
       "      <td>N</td>\n",
       "      <td>NaN</td>\n",
       "      <td>NaN</td>\n",
       "      <td>NaN</td>\n",
       "      <td>NaN</td>\n",
       "      <td>NaN</td>\n",
       "      <td>NaN</td>\n",
       "      <td>NaN</td>\n",
       "      <td>NaN</td>\n",
       "      <td>NaN</td>\n",
       "      <td>NaN</td>\n",
       "      <td>NaN</td>\n",
       "      <td>40.733060</td>\n",
       "      <td>-73.874170</td>\n",
       "      <td>(40.733059618956815, -73.87416975810375)</td>\n",
       "    </tr>\n",
       "  </tbody>\n",
       "</table>\n",
       "</div>"
      ],
      "text/plain": [
       "   unique_key        created_date         closed_date agency  \\\n",
       "0    32310363 2015-12-31 23:59:45 2016-01-01 00:55:15   NYPD   \n",
       "1    32309934 2015-12-31 23:59:44 2016-01-01 01:26:57   NYPD   \n",
       "2    32309159 2015-12-31 23:59:29 2016-01-01 04:51:03   NYPD   \n",
       "3    32305098 2015-12-31 23:57:46 2016-01-01 07:43:13   NYPD   \n",
       "4    32306529 2015-12-31 23:56:58 2016-01-01 03:24:42   NYPD   \n",
       "\n",
       "                       agency_name           complaint_type  \\\n",
       "0  New York City Police Department  Noise - Street/Sidewalk   \n",
       "1  New York City Police Department         Blocked Driveway   \n",
       "2  New York City Police Department         Blocked Driveway   \n",
       "3  New York City Police Department          Illegal Parking   \n",
       "4  New York City Police Department          Illegal Parking   \n",
       "\n",
       "                     descriptor    location_type  incident_zip  \\\n",
       "0              Loud Music/Party  Street/Sidewalk       10034.0   \n",
       "1                     No Access  Street/Sidewalk       11105.0   \n",
       "2                     No Access  Street/Sidewalk       10458.0   \n",
       "3  Commercial Overnight Parking  Street/Sidewalk       10461.0   \n",
       "4              Blocked Sidewalk  Street/Sidewalk       11373.0   \n",
       "\n",
       "        incident_address       street_name   cross_street_1   cross_street_2  \\\n",
       "0    71 VERMILYEA AVENUE  VERMILYEA AVENUE   ACADEMY STREET  WEST 204 STREET   \n",
       "1        27-07 23 AVENUE         23 AVENUE        27 STREET        28 STREET   \n",
       "2  2897 VALENTINE AVENUE  VALENTINE AVENUE  EAST 198 STREET  EAST 199 STREET   \n",
       "3    2940 BAISLEY AVENUE    BAISLEY AVENUE    EDISON AVENUE         B STREET   \n",
       "4          87-14 57 ROAD           57 ROAD   SEABURY STREET    HOFFMAN DRIVE   \n",
       "\n",
       "  intersection_street_1 intersection_street_2 address_type      city landmark  \\\n",
       "0                   NaN                   NaN      ADDRESS  NEW YORK      NaN   \n",
       "1                   NaN                   NaN      ADDRESS   ASTORIA      NaN   \n",
       "2                   NaN                   NaN      ADDRESS     BRONX      NaN   \n",
       "3                   NaN                   NaN      ADDRESS     BRONX      NaN   \n",
       "4                   NaN                   NaN      ADDRESS  ELMHURST      NaN   \n",
       "\n",
       "  facility_type  status                due_date  \\\n",
       "0      Precinct  Closed  01/01/2016 07:59:45 AM   \n",
       "1      Precinct  Closed  01/01/2016 07:59:44 AM   \n",
       "2      Precinct  Closed  01/01/2016 07:59:29 AM   \n",
       "3      Precinct  Closed  01/01/2016 07:57:46 AM   \n",
       "4      Precinct  Closed  01/01/2016 07:56:58 AM   \n",
       "\n",
       "                              resolution_description  \\\n",
       "0  The Police Department responded and upon arriv...   \n",
       "1  The Police Department responded to the complai...   \n",
       "2  The Police Department responded and upon arriv...   \n",
       "3  The Police Department responded to the complai...   \n",
       "4  The Police Department responded and upon arriv...   \n",
       "\n",
       "  resolution_action_updated_date community_board    borough  \\\n",
       "0         01/01/2016 12:55:15 AM    12 MANHATTAN  MANHATTAN   \n",
       "1         01/01/2016 01:26:57 AM       01 QUEENS     QUEENS   \n",
       "2         01/01/2016 04:51:03 AM        07 BRONX      BRONX   \n",
       "3         01/01/2016 07:43:13 AM        10 BRONX      BRONX   \n",
       "4         01/01/2016 03:24:42 AM       04 QUEENS     QUEENS   \n",
       "\n",
       "   x_coordinate_(state_plane)  y_coordinate_(state_plane) park_facility_name  \\\n",
       "0                   1005409.0                    254678.0        Unspecified   \n",
       "1                   1007766.0                    221986.0        Unspecified   \n",
       "2                   1015081.0                    256380.0        Unspecified   \n",
       "3                   1031740.0                    243899.0        Unspecified   \n",
       "4                   1019123.0                    206375.0        Unspecified   \n",
       "\n",
       "  park_borough  school_name school_number school_region  school_code  \\\n",
       "0    MANHATTAN  Unspecified   Unspecified   Unspecified  Unspecified   \n",
       "1       QUEENS  Unspecified   Unspecified   Unspecified  Unspecified   \n",
       "2        BRONX  Unspecified   Unspecified   Unspecified  Unspecified   \n",
       "3        BRONX  Unspecified   Unspecified   Unspecified  Unspecified   \n",
       "4       QUEENS  Unspecified   Unspecified   Unspecified  Unspecified   \n",
       "\n",
       "  school_phone_number school_address  school_city school_state   school_zip  \\\n",
       "0         Unspecified    Unspecified  Unspecified  Unspecified  Unspecified   \n",
       "1         Unspecified    Unspecified  Unspecified  Unspecified  Unspecified   \n",
       "2         Unspecified    Unspecified  Unspecified  Unspecified  Unspecified   \n",
       "3         Unspecified    Unspecified  Unspecified  Unspecified  Unspecified   \n",
       "4         Unspecified    Unspecified  Unspecified  Unspecified  Unspecified   \n",
       "\n",
       "  school_not_found  school_or_citywide_complaint  vehicle_type  \\\n",
       "0                N                           NaN           NaN   \n",
       "1                N                           NaN           NaN   \n",
       "2                N                           NaN           NaN   \n",
       "3                N                           NaN           NaN   \n",
       "4                N                           NaN           NaN   \n",
       "\n",
       "   taxi_company_borough  taxi_pick_up_location bridge_highway_name  \\\n",
       "0                   NaN                    NaN                 NaN   \n",
       "1                   NaN                    NaN                 NaN   \n",
       "2                   NaN                    NaN                 NaN   \n",
       "3                   NaN                    NaN                 NaN   \n",
       "4                   NaN                    NaN                 NaN   \n",
       "\n",
       "  bridge_highway_direction road_ramp bridge_highway_segment  garage_lot_name  \\\n",
       "0                      NaN       NaN                    NaN              NaN   \n",
       "1                      NaN       NaN                    NaN              NaN   \n",
       "2                      NaN       NaN                    NaN              NaN   \n",
       "3                      NaN       NaN                    NaN              NaN   \n",
       "4                      NaN       NaN                    NaN              NaN   \n",
       "\n",
       "  ferry_direction ferry_terminal_name   latitude  longitude  \\\n",
       "0             NaN                 NaN  40.865682 -73.923501   \n",
       "1             NaN                 NaN  40.775945 -73.915094   \n",
       "2             NaN                 NaN  40.870325 -73.888525   \n",
       "3             NaN                 NaN  40.835994 -73.828379   \n",
       "4             NaN                 NaN  40.733060 -73.874170   \n",
       "\n",
       "                                   location  \n",
       "0   (40.86568153633767, -73.92350095571744)  \n",
       "1  (40.775945312321085, -73.91509393898605)  \n",
       "2  (40.870324522111424, -73.88852464418646)  \n",
       "3   (40.83599404683083, -73.82837939584206)  \n",
       "4  (40.733059618956815, -73.87416975810375)  "
      ]
     },
     "execution_count": 17,
     "metadata": {},
     "output_type": "execute_result"
    }
   ],
   "source": [
    "nyc.head()"
   ]
  },
  {
   "cell_type": "markdown",
   "id": "21bc117e-28e2-4120-bb6e-df28d1153de1",
   "metadata": {},
   "source": [
    "### Reverse the rows of dataset"
   ]
  },
  {
   "cell_type": "code",
   "execution_count": 19,
   "id": "3ecb0a1f-0b3b-4769-b8c4-62a5fb3f4d55",
   "metadata": {},
   "outputs": [
    {
     "data": {
      "text/html": [
       "<div>\n",
       "<style scoped>\n",
       "    .dataframe tbody tr th:only-of-type {\n",
       "        vertical-align: middle;\n",
       "    }\n",
       "\n",
       "    .dataframe tbody tr th {\n",
       "        vertical-align: top;\n",
       "    }\n",
       "\n",
       "    .dataframe thead th {\n",
       "        text-align: right;\n",
       "    }\n",
       "</style>\n",
       "<table border=\"1\" class=\"dataframe\">\n",
       "  <thead>\n",
       "    <tr style=\"text-align: right;\">\n",
       "      <th></th>\n",
       "      <th>unique_key</th>\n",
       "      <th>created_date</th>\n",
       "      <th>closed_date</th>\n",
       "      <th>agency</th>\n",
       "      <th>agency_name</th>\n",
       "      <th>complaint_type</th>\n",
       "      <th>descriptor</th>\n",
       "      <th>location_type</th>\n",
       "      <th>incident_zip</th>\n",
       "      <th>incident_address</th>\n",
       "      <th>street_name</th>\n",
       "      <th>cross_street_1</th>\n",
       "      <th>cross_street_2</th>\n",
       "      <th>intersection_street_1</th>\n",
       "      <th>intersection_street_2</th>\n",
       "      <th>address_type</th>\n",
       "      <th>city</th>\n",
       "      <th>landmark</th>\n",
       "      <th>facility_type</th>\n",
       "      <th>status</th>\n",
       "      <th>due_date</th>\n",
       "      <th>resolution_description</th>\n",
       "      <th>resolution_action_updated_date</th>\n",
       "      <th>community_board</th>\n",
       "      <th>borough</th>\n",
       "      <th>x_coordinate_(state_plane)</th>\n",
       "      <th>y_coordinate_(state_plane)</th>\n",
       "      <th>park_facility_name</th>\n",
       "      <th>park_borough</th>\n",
       "      <th>school_name</th>\n",
       "      <th>school_number</th>\n",
       "      <th>school_region</th>\n",
       "      <th>school_code</th>\n",
       "      <th>school_phone_number</th>\n",
       "      <th>school_address</th>\n",
       "      <th>school_city</th>\n",
       "      <th>school_state</th>\n",
       "      <th>school_zip</th>\n",
       "      <th>school_not_found</th>\n",
       "      <th>school_or_citywide_complaint</th>\n",
       "      <th>vehicle_type</th>\n",
       "      <th>taxi_company_borough</th>\n",
       "      <th>taxi_pick_up_location</th>\n",
       "      <th>bridge_highway_name</th>\n",
       "      <th>bridge_highway_direction</th>\n",
       "      <th>road_ramp</th>\n",
       "      <th>bridge_highway_segment</th>\n",
       "      <th>garage_lot_name</th>\n",
       "      <th>ferry_direction</th>\n",
       "      <th>ferry_terminal_name</th>\n",
       "      <th>latitude</th>\n",
       "      <th>longitude</th>\n",
       "      <th>location</th>\n",
       "    </tr>\n",
       "  </thead>\n",
       "  <tbody>\n",
       "    <tr>\n",
       "      <th>364557</th>\n",
       "      <td>29611816</td>\n",
       "      <td>2015-01-01 00:00:50</td>\n",
       "      <td>2015-01-01 02:47:50</td>\n",
       "      <td>NYPD</td>\n",
       "      <td>New York City Police Department</td>\n",
       "      <td>Blocked Driveway</td>\n",
       "      <td>No Access</td>\n",
       "      <td>Street/Sidewalk</td>\n",
       "      <td>11420.0</td>\n",
       "      <td>123-19 135 STREET</td>\n",
       "      <td>135 STREET</td>\n",
       "      <td>ROCKAWAY BOULEVARD</td>\n",
       "      <td>SUTTER AVENUE</td>\n",
       "      <td>NaN</td>\n",
       "      <td>NaN</td>\n",
       "      <td>ADDRESS</td>\n",
       "      <td>SOUTH OZONE PARK</td>\n",
       "      <td>NaN</td>\n",
       "      <td>Precinct</td>\n",
       "      <td>Closed</td>\n",
       "      <td>01/01/2015 08:00:50 AM</td>\n",
       "      <td>The Police Department responded to the complai...</td>\n",
       "      <td>01/01/2015 02:47:50 AM</td>\n",
       "      <td>10 QUEENS</td>\n",
       "      <td>QUEENS</td>\n",
       "      <td>1038733.0</td>\n",
       "      <td>184971.0</td>\n",
       "      <td>Unspecified</td>\n",
       "      <td>QUEENS</td>\n",
       "      <td>Unspecified</td>\n",
       "      <td>Unspecified</td>\n",
       "      <td>Unspecified</td>\n",
       "      <td>Unspecified</td>\n",
       "      <td>Unspecified</td>\n",
       "      <td>Unspecified</td>\n",
       "      <td>Unspecified</td>\n",
       "      <td>Unspecified</td>\n",
       "      <td>Unspecified</td>\n",
       "      <td>N</td>\n",
       "      <td>NaN</td>\n",
       "      <td>NaN</td>\n",
       "      <td>NaN</td>\n",
       "      <td>NaN</td>\n",
       "      <td>NaN</td>\n",
       "      <td>NaN</td>\n",
       "      <td>NaN</td>\n",
       "      <td>NaN</td>\n",
       "      <td>NaN</td>\n",
       "      <td>NaN</td>\n",
       "      <td>NaN</td>\n",
       "      <td>40.674212</td>\n",
       "      <td>-73.803585</td>\n",
       "      <td>(40.674211762243935, -73.80358548685278)</td>\n",
       "    </tr>\n",
       "    <tr>\n",
       "      <th>364556</th>\n",
       "      <td>29610889</td>\n",
       "      <td>2015-01-01 00:01:29</td>\n",
       "      <td>2015-01-01 02:42:22</td>\n",
       "      <td>NYPD</td>\n",
       "      <td>New York City Police Department</td>\n",
       "      <td>Blocked Driveway</td>\n",
       "      <td>No Access</td>\n",
       "      <td>Street/Sidewalk</td>\n",
       "      <td>10466.0</td>\n",
       "      <td>931 EAST 226 STREET</td>\n",
       "      <td>EAST 226 STREET</td>\n",
       "      <td>BRONXWOOD AVENUE</td>\n",
       "      <td>PAULDING AVENUE</td>\n",
       "      <td>NaN</td>\n",
       "      <td>NaN</td>\n",
       "      <td>ADDRESS</td>\n",
       "      <td>BRONX</td>\n",
       "      <td>NaN</td>\n",
       "      <td>Precinct</td>\n",
       "      <td>Closed</td>\n",
       "      <td>01/01/2015 08:01:29 AM</td>\n",
       "      <td>The Police Department responded and upon arriv...</td>\n",
       "      <td>01/01/2015 02:42:22 AM</td>\n",
       "      <td>12 BRONX</td>\n",
       "      <td>BRONX</td>\n",
       "      <td>1024816.0</td>\n",
       "      <td>262237.0</td>\n",
       "      <td>Unspecified</td>\n",
       "      <td>BRONX</td>\n",
       "      <td>Unspecified</td>\n",
       "      <td>Unspecified</td>\n",
       "      <td>Unspecified</td>\n",
       "      <td>Unspecified</td>\n",
       "      <td>Unspecified</td>\n",
       "      <td>Unspecified</td>\n",
       "      <td>Unspecified</td>\n",
       "      <td>Unspecified</td>\n",
       "      <td>Unspecified</td>\n",
       "      <td>N</td>\n",
       "      <td>NaN</td>\n",
       "      <td>NaN</td>\n",
       "      <td>NaN</td>\n",
       "      <td>NaN</td>\n",
       "      <td>NaN</td>\n",
       "      <td>NaN</td>\n",
       "      <td>NaN</td>\n",
       "      <td>NaN</td>\n",
       "      <td>NaN</td>\n",
       "      <td>NaN</td>\n",
       "      <td>NaN</td>\n",
       "      <td>40.886361</td>\n",
       "      <td>-73.853290</td>\n",
       "      <td>(40.88636077906953, -73.85329048666742)</td>\n",
       "    </tr>\n",
       "    <tr>\n",
       "      <th>364555</th>\n",
       "      <td>29607589</td>\n",
       "      <td>2015-01-01 00:01:30</td>\n",
       "      <td>2015-01-01 00:20:33</td>\n",
       "      <td>NYPD</td>\n",
       "      <td>New York City Police Department</td>\n",
       "      <td>Noise - Street/Sidewalk</td>\n",
       "      <td>Loud Music/Party</td>\n",
       "      <td>Street/Sidewalk</td>\n",
       "      <td>10031.0</td>\n",
       "      <td>508 WEST 139 STREET</td>\n",
       "      <td>WEST 139 STREET</td>\n",
       "      <td>AMSTERDAM AVENUE</td>\n",
       "      <td>HAMILTON PLACE</td>\n",
       "      <td>NaN</td>\n",
       "      <td>NaN</td>\n",
       "      <td>ADDRESS</td>\n",
       "      <td>NEW YORK</td>\n",
       "      <td>NaN</td>\n",
       "      <td>Precinct</td>\n",
       "      <td>Closed</td>\n",
       "      <td>01/01/2015 08:01:30 AM</td>\n",
       "      <td>The Police Department responded to the complai...</td>\n",
       "      <td>01/01/2015 12:20:33 AM</td>\n",
       "      <td>09 MANHATTAN</td>\n",
       "      <td>MANHATTAN</td>\n",
       "      <td>997847.0</td>\n",
       "      <td>238629.0</td>\n",
       "      <td>Unspecified</td>\n",
       "      <td>MANHATTAN</td>\n",
       "      <td>Unspecified</td>\n",
       "      <td>Unspecified</td>\n",
       "      <td>Unspecified</td>\n",
       "      <td>Unspecified</td>\n",
       "      <td>Unspecified</td>\n",
       "      <td>Unspecified</td>\n",
       "      <td>Unspecified</td>\n",
       "      <td>Unspecified</td>\n",
       "      <td>Unspecified</td>\n",
       "      <td>N</td>\n",
       "      <td>NaN</td>\n",
       "      <td>NaN</td>\n",
       "      <td>NaN</td>\n",
       "      <td>NaN</td>\n",
       "      <td>NaN</td>\n",
       "      <td>NaN</td>\n",
       "      <td>NaN</td>\n",
       "      <td>NaN</td>\n",
       "      <td>NaN</td>\n",
       "      <td>NaN</td>\n",
       "      <td>NaN</td>\n",
       "      <td>40.821647</td>\n",
       "      <td>-73.950873</td>\n",
       "      <td>(40.821646626438095, -73.95087342885292)</td>\n",
       "    </tr>\n",
       "    <tr>\n",
       "      <th>364554</th>\n",
       "      <td>29608392</td>\n",
       "      <td>2015-01-01 00:04:28</td>\n",
       "      <td>2015-01-01 02:25:02</td>\n",
       "      <td>NYPD</td>\n",
       "      <td>New York City Police Department</td>\n",
       "      <td>Noise - Vehicle</td>\n",
       "      <td>Car/Truck Horn</td>\n",
       "      <td>Street/Sidewalk</td>\n",
       "      <td>10468.0</td>\n",
       "      <td>2555 SEDGWICK AVENUE</td>\n",
       "      <td>SEDGWICK AVENUE</td>\n",
       "      <td>BAILEY AVENUE</td>\n",
       "      <td>BEND</td>\n",
       "      <td>NaN</td>\n",
       "      <td>NaN</td>\n",
       "      <td>ADDRESS</td>\n",
       "      <td>BRONX</td>\n",
       "      <td>NaN</td>\n",
       "      <td>Precinct</td>\n",
       "      <td>Closed</td>\n",
       "      <td>01/01/2015 08:04:28 AM</td>\n",
       "      <td>The Police Department responded to the complai...</td>\n",
       "      <td>01/01/2015 02:25:02 AM</td>\n",
       "      <td>07 BRONX</td>\n",
       "      <td>BRONX</td>\n",
       "      <td>1009923.0</td>\n",
       "      <td>255465.0</td>\n",
       "      <td>Unspecified</td>\n",
       "      <td>BRONX</td>\n",
       "      <td>Unspecified</td>\n",
       "      <td>Unspecified</td>\n",
       "      <td>Unspecified</td>\n",
       "      <td>Unspecified</td>\n",
       "      <td>Unspecified</td>\n",
       "      <td>Unspecified</td>\n",
       "      <td>Unspecified</td>\n",
       "      <td>Unspecified</td>\n",
       "      <td>Unspecified</td>\n",
       "      <td>N</td>\n",
       "      <td>NaN</td>\n",
       "      <td>NaN</td>\n",
       "      <td>NaN</td>\n",
       "      <td>NaN</td>\n",
       "      <td>NaN</td>\n",
       "      <td>NaN</td>\n",
       "      <td>NaN</td>\n",
       "      <td>NaN</td>\n",
       "      <td>NaN</td>\n",
       "      <td>NaN</td>\n",
       "      <td>NaN</td>\n",
       "      <td>40.867830</td>\n",
       "      <td>-73.907178</td>\n",
       "      <td>(40.86782963689454, -73.90717786644662)</td>\n",
       "    </tr>\n",
       "    <tr>\n",
       "      <th>364553</th>\n",
       "      <td>29609918</td>\n",
       "      <td>2015-01-01 00:04:44</td>\n",
       "      <td>2015-01-01 10:22:31</td>\n",
       "      <td>NYPD</td>\n",
       "      <td>New York City Police Department</td>\n",
       "      <td>Illegal Parking</td>\n",
       "      <td>Blocked Hydrant</td>\n",
       "      <td>Street/Sidewalk</td>\n",
       "      <td>11421.0</td>\n",
       "      <td>84-25 85 ROAD</td>\n",
       "      <td>85 ROAD</td>\n",
       "      <td>FOREST PARKWAY</td>\n",
       "      <td>85 STREET</td>\n",
       "      <td>NaN</td>\n",
       "      <td>NaN</td>\n",
       "      <td>ADDRESS</td>\n",
       "      <td>WOODHAVEN</td>\n",
       "      <td>NaN</td>\n",
       "      <td>Precinct</td>\n",
       "      <td>Closed</td>\n",
       "      <td>01/01/2015 08:04:44 AM</td>\n",
       "      <td>The Police Department responded to the complai...</td>\n",
       "      <td>01/01/2015 10:22:31 AM</td>\n",
       "      <td>09 QUEENS</td>\n",
       "      <td>QUEENS</td>\n",
       "      <td>1022809.0</td>\n",
       "      <td>192567.0</td>\n",
       "      <td>Unspecified</td>\n",
       "      <td>QUEENS</td>\n",
       "      <td>Unspecified</td>\n",
       "      <td>Unspecified</td>\n",
       "      <td>Unspecified</td>\n",
       "      <td>Unspecified</td>\n",
       "      <td>Unspecified</td>\n",
       "      <td>Unspecified</td>\n",
       "      <td>Unspecified</td>\n",
       "      <td>Unspecified</td>\n",
       "      <td>Unspecified</td>\n",
       "      <td>N</td>\n",
       "      <td>NaN</td>\n",
       "      <td>NaN</td>\n",
       "      <td>NaN</td>\n",
       "      <td>NaN</td>\n",
       "      <td>NaN</td>\n",
       "      <td>NaN</td>\n",
       "      <td>NaN</td>\n",
       "      <td>NaN</td>\n",
       "      <td>NaN</td>\n",
       "      <td>NaN</td>\n",
       "      <td>NaN</td>\n",
       "      <td>40.695145</td>\n",
       "      <td>-73.860949</td>\n",
       "      <td>(40.69514470265117, -73.86094888534394)</td>\n",
       "    </tr>\n",
       "  </tbody>\n",
       "</table>\n",
       "</div>"
      ],
      "text/plain": [
       "        unique_key        created_date         closed_date agency  \\\n",
       "364557    29611816 2015-01-01 00:00:50 2015-01-01 02:47:50   NYPD   \n",
       "364556    29610889 2015-01-01 00:01:29 2015-01-01 02:42:22   NYPD   \n",
       "364555    29607589 2015-01-01 00:01:30 2015-01-01 00:20:33   NYPD   \n",
       "364554    29608392 2015-01-01 00:04:28 2015-01-01 02:25:02   NYPD   \n",
       "364553    29609918 2015-01-01 00:04:44 2015-01-01 10:22:31   NYPD   \n",
       "\n",
       "                            agency_name           complaint_type  \\\n",
       "364557  New York City Police Department         Blocked Driveway   \n",
       "364556  New York City Police Department         Blocked Driveway   \n",
       "364555  New York City Police Department  Noise - Street/Sidewalk   \n",
       "364554  New York City Police Department          Noise - Vehicle   \n",
       "364553  New York City Police Department          Illegal Parking   \n",
       "\n",
       "              descriptor    location_type  incident_zip      incident_address  \\\n",
       "364557         No Access  Street/Sidewalk       11420.0     123-19 135 STREET   \n",
       "364556         No Access  Street/Sidewalk       10466.0   931 EAST 226 STREET   \n",
       "364555  Loud Music/Party  Street/Sidewalk       10031.0   508 WEST 139 STREET   \n",
       "364554    Car/Truck Horn  Street/Sidewalk       10468.0  2555 SEDGWICK AVENUE   \n",
       "364553   Blocked Hydrant  Street/Sidewalk       11421.0         84-25 85 ROAD   \n",
       "\n",
       "            street_name      cross_street_1   cross_street_2  \\\n",
       "364557       135 STREET  ROCKAWAY BOULEVARD    SUTTER AVENUE   \n",
       "364556  EAST 226 STREET    BRONXWOOD AVENUE  PAULDING AVENUE   \n",
       "364555  WEST 139 STREET    AMSTERDAM AVENUE   HAMILTON PLACE   \n",
       "364554  SEDGWICK AVENUE       BAILEY AVENUE             BEND   \n",
       "364553          85 ROAD      FOREST PARKWAY        85 STREET   \n",
       "\n",
       "       intersection_street_1 intersection_street_2 address_type  \\\n",
       "364557                   NaN                   NaN      ADDRESS   \n",
       "364556                   NaN                   NaN      ADDRESS   \n",
       "364555                   NaN                   NaN      ADDRESS   \n",
       "364554                   NaN                   NaN      ADDRESS   \n",
       "364553                   NaN                   NaN      ADDRESS   \n",
       "\n",
       "                    city landmark facility_type  status  \\\n",
       "364557  SOUTH OZONE PARK      NaN      Precinct  Closed   \n",
       "364556             BRONX      NaN      Precinct  Closed   \n",
       "364555          NEW YORK      NaN      Precinct  Closed   \n",
       "364554             BRONX      NaN      Precinct  Closed   \n",
       "364553         WOODHAVEN      NaN      Precinct  Closed   \n",
       "\n",
       "                      due_date  \\\n",
       "364557  01/01/2015 08:00:50 AM   \n",
       "364556  01/01/2015 08:01:29 AM   \n",
       "364555  01/01/2015 08:01:30 AM   \n",
       "364554  01/01/2015 08:04:28 AM   \n",
       "364553  01/01/2015 08:04:44 AM   \n",
       "\n",
       "                                   resolution_description  \\\n",
       "364557  The Police Department responded to the complai...   \n",
       "364556  The Police Department responded and upon arriv...   \n",
       "364555  The Police Department responded to the complai...   \n",
       "364554  The Police Department responded to the complai...   \n",
       "364553  The Police Department responded to the complai...   \n",
       "\n",
       "       resolution_action_updated_date community_board    borough  \\\n",
       "364557         01/01/2015 02:47:50 AM       10 QUEENS     QUEENS   \n",
       "364556         01/01/2015 02:42:22 AM        12 BRONX      BRONX   \n",
       "364555         01/01/2015 12:20:33 AM    09 MANHATTAN  MANHATTAN   \n",
       "364554         01/01/2015 02:25:02 AM        07 BRONX      BRONX   \n",
       "364553         01/01/2015 10:22:31 AM       09 QUEENS     QUEENS   \n",
       "\n",
       "        x_coordinate_(state_plane)  y_coordinate_(state_plane)  \\\n",
       "364557                   1038733.0                    184971.0   \n",
       "364556                   1024816.0                    262237.0   \n",
       "364555                    997847.0                    238629.0   \n",
       "364554                   1009923.0                    255465.0   \n",
       "364553                   1022809.0                    192567.0   \n",
       "\n",
       "       park_facility_name park_borough  school_name school_number  \\\n",
       "364557        Unspecified       QUEENS  Unspecified   Unspecified   \n",
       "364556        Unspecified        BRONX  Unspecified   Unspecified   \n",
       "364555        Unspecified    MANHATTAN  Unspecified   Unspecified   \n",
       "364554        Unspecified        BRONX  Unspecified   Unspecified   \n",
       "364553        Unspecified       QUEENS  Unspecified   Unspecified   \n",
       "\n",
       "       school_region  school_code school_phone_number school_address  \\\n",
       "364557   Unspecified  Unspecified         Unspecified    Unspecified   \n",
       "364556   Unspecified  Unspecified         Unspecified    Unspecified   \n",
       "364555   Unspecified  Unspecified         Unspecified    Unspecified   \n",
       "364554   Unspecified  Unspecified         Unspecified    Unspecified   \n",
       "364553   Unspecified  Unspecified         Unspecified    Unspecified   \n",
       "\n",
       "        school_city school_state   school_zip school_not_found  \\\n",
       "364557  Unspecified  Unspecified  Unspecified                N   \n",
       "364556  Unspecified  Unspecified  Unspecified                N   \n",
       "364555  Unspecified  Unspecified  Unspecified                N   \n",
       "364554  Unspecified  Unspecified  Unspecified                N   \n",
       "364553  Unspecified  Unspecified  Unspecified                N   \n",
       "\n",
       "        school_or_citywide_complaint  vehicle_type  taxi_company_borough  \\\n",
       "364557                           NaN           NaN                   NaN   \n",
       "364556                           NaN           NaN                   NaN   \n",
       "364555                           NaN           NaN                   NaN   \n",
       "364554                           NaN           NaN                   NaN   \n",
       "364553                           NaN           NaN                   NaN   \n",
       "\n",
       "        taxi_pick_up_location bridge_highway_name bridge_highway_direction  \\\n",
       "364557                    NaN                 NaN                      NaN   \n",
       "364556                    NaN                 NaN                      NaN   \n",
       "364555                    NaN                 NaN                      NaN   \n",
       "364554                    NaN                 NaN                      NaN   \n",
       "364553                    NaN                 NaN                      NaN   \n",
       "\n",
       "       road_ramp bridge_highway_segment  garage_lot_name ferry_direction  \\\n",
       "364557       NaN                    NaN              NaN             NaN   \n",
       "364556       NaN                    NaN              NaN             NaN   \n",
       "364555       NaN                    NaN              NaN             NaN   \n",
       "364554       NaN                    NaN              NaN             NaN   \n",
       "364553       NaN                    NaN              NaN             NaN   \n",
       "\n",
       "       ferry_terminal_name   latitude  longitude  \\\n",
       "364557                 NaN  40.674212 -73.803585   \n",
       "364556                 NaN  40.886361 -73.853290   \n",
       "364555                 NaN  40.821647 -73.950873   \n",
       "364554                 NaN  40.867830 -73.907178   \n",
       "364553                 NaN  40.695145 -73.860949   \n",
       "\n",
       "                                        location  \n",
       "364557  (40.674211762243935, -73.80358548685278)  \n",
       "364556   (40.88636077906953, -73.85329048666742)  \n",
       "364555  (40.821646626438095, -73.95087342885292)  \n",
       "364554   (40.86782963689454, -73.90717786644662)  \n",
       "364553   (40.69514470265117, -73.86094888534394)  "
      ]
     },
     "execution_count": 19,
     "metadata": {},
     "output_type": "execute_result"
    }
   ],
   "source": [
    "nyc.loc[::-1].head()"
   ]
  },
  {
   "cell_type": "markdown",
   "id": "8d03a75b-674d-4183-ac11-51c3ff59a97f",
   "metadata": {},
   "source": [
    "### Reset the index"
   ]
  },
  {
   "cell_type": "code",
   "execution_count": 20,
   "id": "8d5c7b40-f8bb-40bc-948e-f4efef36542a",
   "metadata": {},
   "outputs": [
    {
     "data": {
      "text/html": [
       "<div>\n",
       "<style scoped>\n",
       "    .dataframe tbody tr th:only-of-type {\n",
       "        vertical-align: middle;\n",
       "    }\n",
       "\n",
       "    .dataframe tbody tr th {\n",
       "        vertical-align: top;\n",
       "    }\n",
       "\n",
       "    .dataframe thead th {\n",
       "        text-align: right;\n",
       "    }\n",
       "</style>\n",
       "<table border=\"1\" class=\"dataframe\">\n",
       "  <thead>\n",
       "    <tr style=\"text-align: right;\">\n",
       "      <th></th>\n",
       "      <th>unique_key</th>\n",
       "      <th>created_date</th>\n",
       "      <th>closed_date</th>\n",
       "      <th>agency</th>\n",
       "      <th>agency_name</th>\n",
       "      <th>complaint_type</th>\n",
       "      <th>descriptor</th>\n",
       "      <th>location_type</th>\n",
       "      <th>incident_zip</th>\n",
       "      <th>incident_address</th>\n",
       "      <th>street_name</th>\n",
       "      <th>cross_street_1</th>\n",
       "      <th>cross_street_2</th>\n",
       "      <th>intersection_street_1</th>\n",
       "      <th>intersection_street_2</th>\n",
       "      <th>address_type</th>\n",
       "      <th>city</th>\n",
       "      <th>landmark</th>\n",
       "      <th>facility_type</th>\n",
       "      <th>status</th>\n",
       "      <th>due_date</th>\n",
       "      <th>resolution_description</th>\n",
       "      <th>resolution_action_updated_date</th>\n",
       "      <th>community_board</th>\n",
       "      <th>borough</th>\n",
       "      <th>x_coordinate_(state_plane)</th>\n",
       "      <th>y_coordinate_(state_plane)</th>\n",
       "      <th>park_facility_name</th>\n",
       "      <th>park_borough</th>\n",
       "      <th>school_name</th>\n",
       "      <th>school_number</th>\n",
       "      <th>school_region</th>\n",
       "      <th>school_code</th>\n",
       "      <th>school_phone_number</th>\n",
       "      <th>school_address</th>\n",
       "      <th>school_city</th>\n",
       "      <th>school_state</th>\n",
       "      <th>school_zip</th>\n",
       "      <th>school_not_found</th>\n",
       "      <th>school_or_citywide_complaint</th>\n",
       "      <th>vehicle_type</th>\n",
       "      <th>taxi_company_borough</th>\n",
       "      <th>taxi_pick_up_location</th>\n",
       "      <th>bridge_highway_name</th>\n",
       "      <th>bridge_highway_direction</th>\n",
       "      <th>road_ramp</th>\n",
       "      <th>bridge_highway_segment</th>\n",
       "      <th>garage_lot_name</th>\n",
       "      <th>ferry_direction</th>\n",
       "      <th>ferry_terminal_name</th>\n",
       "      <th>latitude</th>\n",
       "      <th>longitude</th>\n",
       "      <th>location</th>\n",
       "    </tr>\n",
       "  </thead>\n",
       "  <tbody>\n",
       "    <tr>\n",
       "      <th>0</th>\n",
       "      <td>29611816</td>\n",
       "      <td>2015-01-01 00:00:50</td>\n",
       "      <td>2015-01-01 02:47:50</td>\n",
       "      <td>NYPD</td>\n",
       "      <td>New York City Police Department</td>\n",
       "      <td>Blocked Driveway</td>\n",
       "      <td>No Access</td>\n",
       "      <td>Street/Sidewalk</td>\n",
       "      <td>11420.0</td>\n",
       "      <td>123-19 135 STREET</td>\n",
       "      <td>135 STREET</td>\n",
       "      <td>ROCKAWAY BOULEVARD</td>\n",
       "      <td>SUTTER AVENUE</td>\n",
       "      <td>NaN</td>\n",
       "      <td>NaN</td>\n",
       "      <td>ADDRESS</td>\n",
       "      <td>SOUTH OZONE PARK</td>\n",
       "      <td>NaN</td>\n",
       "      <td>Precinct</td>\n",
       "      <td>Closed</td>\n",
       "      <td>01/01/2015 08:00:50 AM</td>\n",
       "      <td>The Police Department responded to the complai...</td>\n",
       "      <td>01/01/2015 02:47:50 AM</td>\n",
       "      <td>10 QUEENS</td>\n",
       "      <td>QUEENS</td>\n",
       "      <td>1038733.0</td>\n",
       "      <td>184971.0</td>\n",
       "      <td>Unspecified</td>\n",
       "      <td>QUEENS</td>\n",
       "      <td>Unspecified</td>\n",
       "      <td>Unspecified</td>\n",
       "      <td>Unspecified</td>\n",
       "      <td>Unspecified</td>\n",
       "      <td>Unspecified</td>\n",
       "      <td>Unspecified</td>\n",
       "      <td>Unspecified</td>\n",
       "      <td>Unspecified</td>\n",
       "      <td>Unspecified</td>\n",
       "      <td>N</td>\n",
       "      <td>NaN</td>\n",
       "      <td>NaN</td>\n",
       "      <td>NaN</td>\n",
       "      <td>NaN</td>\n",
       "      <td>NaN</td>\n",
       "      <td>NaN</td>\n",
       "      <td>NaN</td>\n",
       "      <td>NaN</td>\n",
       "      <td>NaN</td>\n",
       "      <td>NaN</td>\n",
       "      <td>NaN</td>\n",
       "      <td>40.674212</td>\n",
       "      <td>-73.803585</td>\n",
       "      <td>(40.674211762243935, -73.80358548685278)</td>\n",
       "    </tr>\n",
       "    <tr>\n",
       "      <th>1</th>\n",
       "      <td>29610889</td>\n",
       "      <td>2015-01-01 00:01:29</td>\n",
       "      <td>2015-01-01 02:42:22</td>\n",
       "      <td>NYPD</td>\n",
       "      <td>New York City Police Department</td>\n",
       "      <td>Blocked Driveway</td>\n",
       "      <td>No Access</td>\n",
       "      <td>Street/Sidewalk</td>\n",
       "      <td>10466.0</td>\n",
       "      <td>931 EAST 226 STREET</td>\n",
       "      <td>EAST 226 STREET</td>\n",
       "      <td>BRONXWOOD AVENUE</td>\n",
       "      <td>PAULDING AVENUE</td>\n",
       "      <td>NaN</td>\n",
       "      <td>NaN</td>\n",
       "      <td>ADDRESS</td>\n",
       "      <td>BRONX</td>\n",
       "      <td>NaN</td>\n",
       "      <td>Precinct</td>\n",
       "      <td>Closed</td>\n",
       "      <td>01/01/2015 08:01:29 AM</td>\n",
       "      <td>The Police Department responded and upon arriv...</td>\n",
       "      <td>01/01/2015 02:42:22 AM</td>\n",
       "      <td>12 BRONX</td>\n",
       "      <td>BRONX</td>\n",
       "      <td>1024816.0</td>\n",
       "      <td>262237.0</td>\n",
       "      <td>Unspecified</td>\n",
       "      <td>BRONX</td>\n",
       "      <td>Unspecified</td>\n",
       "      <td>Unspecified</td>\n",
       "      <td>Unspecified</td>\n",
       "      <td>Unspecified</td>\n",
       "      <td>Unspecified</td>\n",
       "      <td>Unspecified</td>\n",
       "      <td>Unspecified</td>\n",
       "      <td>Unspecified</td>\n",
       "      <td>Unspecified</td>\n",
       "      <td>N</td>\n",
       "      <td>NaN</td>\n",
       "      <td>NaN</td>\n",
       "      <td>NaN</td>\n",
       "      <td>NaN</td>\n",
       "      <td>NaN</td>\n",
       "      <td>NaN</td>\n",
       "      <td>NaN</td>\n",
       "      <td>NaN</td>\n",
       "      <td>NaN</td>\n",
       "      <td>NaN</td>\n",
       "      <td>NaN</td>\n",
       "      <td>40.886361</td>\n",
       "      <td>-73.853290</td>\n",
       "      <td>(40.88636077906953, -73.85329048666742)</td>\n",
       "    </tr>\n",
       "    <tr>\n",
       "      <th>2</th>\n",
       "      <td>29607589</td>\n",
       "      <td>2015-01-01 00:01:30</td>\n",
       "      <td>2015-01-01 00:20:33</td>\n",
       "      <td>NYPD</td>\n",
       "      <td>New York City Police Department</td>\n",
       "      <td>Noise - Street/Sidewalk</td>\n",
       "      <td>Loud Music/Party</td>\n",
       "      <td>Street/Sidewalk</td>\n",
       "      <td>10031.0</td>\n",
       "      <td>508 WEST 139 STREET</td>\n",
       "      <td>WEST 139 STREET</td>\n",
       "      <td>AMSTERDAM AVENUE</td>\n",
       "      <td>HAMILTON PLACE</td>\n",
       "      <td>NaN</td>\n",
       "      <td>NaN</td>\n",
       "      <td>ADDRESS</td>\n",
       "      <td>NEW YORK</td>\n",
       "      <td>NaN</td>\n",
       "      <td>Precinct</td>\n",
       "      <td>Closed</td>\n",
       "      <td>01/01/2015 08:01:30 AM</td>\n",
       "      <td>The Police Department responded to the complai...</td>\n",
       "      <td>01/01/2015 12:20:33 AM</td>\n",
       "      <td>09 MANHATTAN</td>\n",
       "      <td>MANHATTAN</td>\n",
       "      <td>997847.0</td>\n",
       "      <td>238629.0</td>\n",
       "      <td>Unspecified</td>\n",
       "      <td>MANHATTAN</td>\n",
       "      <td>Unspecified</td>\n",
       "      <td>Unspecified</td>\n",
       "      <td>Unspecified</td>\n",
       "      <td>Unspecified</td>\n",
       "      <td>Unspecified</td>\n",
       "      <td>Unspecified</td>\n",
       "      <td>Unspecified</td>\n",
       "      <td>Unspecified</td>\n",
       "      <td>Unspecified</td>\n",
       "      <td>N</td>\n",
       "      <td>NaN</td>\n",
       "      <td>NaN</td>\n",
       "      <td>NaN</td>\n",
       "      <td>NaN</td>\n",
       "      <td>NaN</td>\n",
       "      <td>NaN</td>\n",
       "      <td>NaN</td>\n",
       "      <td>NaN</td>\n",
       "      <td>NaN</td>\n",
       "      <td>NaN</td>\n",
       "      <td>NaN</td>\n",
       "      <td>40.821647</td>\n",
       "      <td>-73.950873</td>\n",
       "      <td>(40.821646626438095, -73.95087342885292)</td>\n",
       "    </tr>\n",
       "    <tr>\n",
       "      <th>3</th>\n",
       "      <td>29608392</td>\n",
       "      <td>2015-01-01 00:04:28</td>\n",
       "      <td>2015-01-01 02:25:02</td>\n",
       "      <td>NYPD</td>\n",
       "      <td>New York City Police Department</td>\n",
       "      <td>Noise - Vehicle</td>\n",
       "      <td>Car/Truck Horn</td>\n",
       "      <td>Street/Sidewalk</td>\n",
       "      <td>10468.0</td>\n",
       "      <td>2555 SEDGWICK AVENUE</td>\n",
       "      <td>SEDGWICK AVENUE</td>\n",
       "      <td>BAILEY AVENUE</td>\n",
       "      <td>BEND</td>\n",
       "      <td>NaN</td>\n",
       "      <td>NaN</td>\n",
       "      <td>ADDRESS</td>\n",
       "      <td>BRONX</td>\n",
       "      <td>NaN</td>\n",
       "      <td>Precinct</td>\n",
       "      <td>Closed</td>\n",
       "      <td>01/01/2015 08:04:28 AM</td>\n",
       "      <td>The Police Department responded to the complai...</td>\n",
       "      <td>01/01/2015 02:25:02 AM</td>\n",
       "      <td>07 BRONX</td>\n",
       "      <td>BRONX</td>\n",
       "      <td>1009923.0</td>\n",
       "      <td>255465.0</td>\n",
       "      <td>Unspecified</td>\n",
       "      <td>BRONX</td>\n",
       "      <td>Unspecified</td>\n",
       "      <td>Unspecified</td>\n",
       "      <td>Unspecified</td>\n",
       "      <td>Unspecified</td>\n",
       "      <td>Unspecified</td>\n",
       "      <td>Unspecified</td>\n",
       "      <td>Unspecified</td>\n",
       "      <td>Unspecified</td>\n",
       "      <td>Unspecified</td>\n",
       "      <td>N</td>\n",
       "      <td>NaN</td>\n",
       "      <td>NaN</td>\n",
       "      <td>NaN</td>\n",
       "      <td>NaN</td>\n",
       "      <td>NaN</td>\n",
       "      <td>NaN</td>\n",
       "      <td>NaN</td>\n",
       "      <td>NaN</td>\n",
       "      <td>NaN</td>\n",
       "      <td>NaN</td>\n",
       "      <td>NaN</td>\n",
       "      <td>40.867830</td>\n",
       "      <td>-73.907178</td>\n",
       "      <td>(40.86782963689454, -73.90717786644662)</td>\n",
       "    </tr>\n",
       "    <tr>\n",
       "      <th>4</th>\n",
       "      <td>29609918</td>\n",
       "      <td>2015-01-01 00:04:44</td>\n",
       "      <td>2015-01-01 10:22:31</td>\n",
       "      <td>NYPD</td>\n",
       "      <td>New York City Police Department</td>\n",
       "      <td>Illegal Parking</td>\n",
       "      <td>Blocked Hydrant</td>\n",
       "      <td>Street/Sidewalk</td>\n",
       "      <td>11421.0</td>\n",
       "      <td>84-25 85 ROAD</td>\n",
       "      <td>85 ROAD</td>\n",
       "      <td>FOREST PARKWAY</td>\n",
       "      <td>85 STREET</td>\n",
       "      <td>NaN</td>\n",
       "      <td>NaN</td>\n",
       "      <td>ADDRESS</td>\n",
       "      <td>WOODHAVEN</td>\n",
       "      <td>NaN</td>\n",
       "      <td>Precinct</td>\n",
       "      <td>Closed</td>\n",
       "      <td>01/01/2015 08:04:44 AM</td>\n",
       "      <td>The Police Department responded to the complai...</td>\n",
       "      <td>01/01/2015 10:22:31 AM</td>\n",
       "      <td>09 QUEENS</td>\n",
       "      <td>QUEENS</td>\n",
       "      <td>1022809.0</td>\n",
       "      <td>192567.0</td>\n",
       "      <td>Unspecified</td>\n",
       "      <td>QUEENS</td>\n",
       "      <td>Unspecified</td>\n",
       "      <td>Unspecified</td>\n",
       "      <td>Unspecified</td>\n",
       "      <td>Unspecified</td>\n",
       "      <td>Unspecified</td>\n",
       "      <td>Unspecified</td>\n",
       "      <td>Unspecified</td>\n",
       "      <td>Unspecified</td>\n",
       "      <td>Unspecified</td>\n",
       "      <td>N</td>\n",
       "      <td>NaN</td>\n",
       "      <td>NaN</td>\n",
       "      <td>NaN</td>\n",
       "      <td>NaN</td>\n",
       "      <td>NaN</td>\n",
       "      <td>NaN</td>\n",
       "      <td>NaN</td>\n",
       "      <td>NaN</td>\n",
       "      <td>NaN</td>\n",
       "      <td>NaN</td>\n",
       "      <td>NaN</td>\n",
       "      <td>40.695145</td>\n",
       "      <td>-73.860949</td>\n",
       "      <td>(40.69514470265117, -73.86094888534394)</td>\n",
       "    </tr>\n",
       "  </tbody>\n",
       "</table>\n",
       "</div>"
      ],
      "text/plain": [
       "   unique_key        created_date         closed_date agency  \\\n",
       "0    29611816 2015-01-01 00:00:50 2015-01-01 02:47:50   NYPD   \n",
       "1    29610889 2015-01-01 00:01:29 2015-01-01 02:42:22   NYPD   \n",
       "2    29607589 2015-01-01 00:01:30 2015-01-01 00:20:33   NYPD   \n",
       "3    29608392 2015-01-01 00:04:28 2015-01-01 02:25:02   NYPD   \n",
       "4    29609918 2015-01-01 00:04:44 2015-01-01 10:22:31   NYPD   \n",
       "\n",
       "                       agency_name           complaint_type        descriptor  \\\n",
       "0  New York City Police Department         Blocked Driveway         No Access   \n",
       "1  New York City Police Department         Blocked Driveway         No Access   \n",
       "2  New York City Police Department  Noise - Street/Sidewalk  Loud Music/Party   \n",
       "3  New York City Police Department          Noise - Vehicle    Car/Truck Horn   \n",
       "4  New York City Police Department          Illegal Parking   Blocked Hydrant   \n",
       "\n",
       "     location_type  incident_zip      incident_address      street_name  \\\n",
       "0  Street/Sidewalk       11420.0     123-19 135 STREET       135 STREET   \n",
       "1  Street/Sidewalk       10466.0   931 EAST 226 STREET  EAST 226 STREET   \n",
       "2  Street/Sidewalk       10031.0   508 WEST 139 STREET  WEST 139 STREET   \n",
       "3  Street/Sidewalk       10468.0  2555 SEDGWICK AVENUE  SEDGWICK AVENUE   \n",
       "4  Street/Sidewalk       11421.0         84-25 85 ROAD          85 ROAD   \n",
       "\n",
       "       cross_street_1   cross_street_2 intersection_street_1  \\\n",
       "0  ROCKAWAY BOULEVARD    SUTTER AVENUE                   NaN   \n",
       "1    BRONXWOOD AVENUE  PAULDING AVENUE                   NaN   \n",
       "2    AMSTERDAM AVENUE   HAMILTON PLACE                   NaN   \n",
       "3       BAILEY AVENUE             BEND                   NaN   \n",
       "4      FOREST PARKWAY        85 STREET                   NaN   \n",
       "\n",
       "  intersection_street_2 address_type              city landmark facility_type  \\\n",
       "0                   NaN      ADDRESS  SOUTH OZONE PARK      NaN      Precinct   \n",
       "1                   NaN      ADDRESS             BRONX      NaN      Precinct   \n",
       "2                   NaN      ADDRESS          NEW YORK      NaN      Precinct   \n",
       "3                   NaN      ADDRESS             BRONX      NaN      Precinct   \n",
       "4                   NaN      ADDRESS         WOODHAVEN      NaN      Precinct   \n",
       "\n",
       "   status                due_date  \\\n",
       "0  Closed  01/01/2015 08:00:50 AM   \n",
       "1  Closed  01/01/2015 08:01:29 AM   \n",
       "2  Closed  01/01/2015 08:01:30 AM   \n",
       "3  Closed  01/01/2015 08:04:28 AM   \n",
       "4  Closed  01/01/2015 08:04:44 AM   \n",
       "\n",
       "                              resolution_description  \\\n",
       "0  The Police Department responded to the complai...   \n",
       "1  The Police Department responded and upon arriv...   \n",
       "2  The Police Department responded to the complai...   \n",
       "3  The Police Department responded to the complai...   \n",
       "4  The Police Department responded to the complai...   \n",
       "\n",
       "  resolution_action_updated_date community_board    borough  \\\n",
       "0         01/01/2015 02:47:50 AM       10 QUEENS     QUEENS   \n",
       "1         01/01/2015 02:42:22 AM        12 BRONX      BRONX   \n",
       "2         01/01/2015 12:20:33 AM    09 MANHATTAN  MANHATTAN   \n",
       "3         01/01/2015 02:25:02 AM        07 BRONX      BRONX   \n",
       "4         01/01/2015 10:22:31 AM       09 QUEENS     QUEENS   \n",
       "\n",
       "   x_coordinate_(state_plane)  y_coordinate_(state_plane) park_facility_name  \\\n",
       "0                   1038733.0                    184971.0        Unspecified   \n",
       "1                   1024816.0                    262237.0        Unspecified   \n",
       "2                    997847.0                    238629.0        Unspecified   \n",
       "3                   1009923.0                    255465.0        Unspecified   \n",
       "4                   1022809.0                    192567.0        Unspecified   \n",
       "\n",
       "  park_borough  school_name school_number school_region  school_code  \\\n",
       "0       QUEENS  Unspecified   Unspecified   Unspecified  Unspecified   \n",
       "1        BRONX  Unspecified   Unspecified   Unspecified  Unspecified   \n",
       "2    MANHATTAN  Unspecified   Unspecified   Unspecified  Unspecified   \n",
       "3        BRONX  Unspecified   Unspecified   Unspecified  Unspecified   \n",
       "4       QUEENS  Unspecified   Unspecified   Unspecified  Unspecified   \n",
       "\n",
       "  school_phone_number school_address  school_city school_state   school_zip  \\\n",
       "0         Unspecified    Unspecified  Unspecified  Unspecified  Unspecified   \n",
       "1         Unspecified    Unspecified  Unspecified  Unspecified  Unspecified   \n",
       "2         Unspecified    Unspecified  Unspecified  Unspecified  Unspecified   \n",
       "3         Unspecified    Unspecified  Unspecified  Unspecified  Unspecified   \n",
       "4         Unspecified    Unspecified  Unspecified  Unspecified  Unspecified   \n",
       "\n",
       "  school_not_found  school_or_citywide_complaint  vehicle_type  \\\n",
       "0                N                           NaN           NaN   \n",
       "1                N                           NaN           NaN   \n",
       "2                N                           NaN           NaN   \n",
       "3                N                           NaN           NaN   \n",
       "4                N                           NaN           NaN   \n",
       "\n",
       "   taxi_company_borough  taxi_pick_up_location bridge_highway_name  \\\n",
       "0                   NaN                    NaN                 NaN   \n",
       "1                   NaN                    NaN                 NaN   \n",
       "2                   NaN                    NaN                 NaN   \n",
       "3                   NaN                    NaN                 NaN   \n",
       "4                   NaN                    NaN                 NaN   \n",
       "\n",
       "  bridge_highway_direction road_ramp bridge_highway_segment  garage_lot_name  \\\n",
       "0                      NaN       NaN                    NaN              NaN   \n",
       "1                      NaN       NaN                    NaN              NaN   \n",
       "2                      NaN       NaN                    NaN              NaN   \n",
       "3                      NaN       NaN                    NaN              NaN   \n",
       "4                      NaN       NaN                    NaN              NaN   \n",
       "\n",
       "  ferry_direction ferry_terminal_name   latitude  longitude  \\\n",
       "0             NaN                 NaN  40.674212 -73.803585   \n",
       "1             NaN                 NaN  40.886361 -73.853290   \n",
       "2             NaN                 NaN  40.821647 -73.950873   \n",
       "3             NaN                 NaN  40.867830 -73.907178   \n",
       "4             NaN                 NaN  40.695145 -73.860949   \n",
       "\n",
       "                                   location  \n",
       "0  (40.674211762243935, -73.80358548685278)  \n",
       "1   (40.88636077906953, -73.85329048666742)  \n",
       "2  (40.821646626438095, -73.95087342885292)  \n",
       "3   (40.86782963689454, -73.90717786644662)  \n",
       "4   (40.69514470265117, -73.86094888534394)  "
      ]
     },
     "execution_count": 20,
     "metadata": {},
     "output_type": "execute_result"
    }
   ],
   "source": [
    "nyc.loc[::-1].reset_index(drop=True).head()"
   ]
  },
  {
   "cell_type": "markdown",
   "id": "a7aee04c-ae1b-4191-9e33-4da29720eaa7",
   "metadata": {},
   "source": [
    "### Reverse the columns"
   ]
  },
  {
   "cell_type": "code",
   "execution_count": 21,
   "id": "ce7dadc7-5eec-47f1-b7fe-1a927973cb17",
   "metadata": {},
   "outputs": [
    {
     "data": {
      "text/html": [
       "<div>\n",
       "<style scoped>\n",
       "    .dataframe tbody tr th:only-of-type {\n",
       "        vertical-align: middle;\n",
       "    }\n",
       "\n",
       "    .dataframe tbody tr th {\n",
       "        vertical-align: top;\n",
       "    }\n",
       "\n",
       "    .dataframe thead th {\n",
       "        text-align: right;\n",
       "    }\n",
       "</style>\n",
       "<table border=\"1\" class=\"dataframe\">\n",
       "  <thead>\n",
       "    <tr style=\"text-align: right;\">\n",
       "      <th></th>\n",
       "      <th>location</th>\n",
       "      <th>longitude</th>\n",
       "      <th>latitude</th>\n",
       "      <th>ferry_terminal_name</th>\n",
       "      <th>ferry_direction</th>\n",
       "      <th>garage_lot_name</th>\n",
       "      <th>bridge_highway_segment</th>\n",
       "      <th>road_ramp</th>\n",
       "      <th>bridge_highway_direction</th>\n",
       "      <th>bridge_highway_name</th>\n",
       "      <th>taxi_pick_up_location</th>\n",
       "      <th>taxi_company_borough</th>\n",
       "      <th>vehicle_type</th>\n",
       "      <th>school_or_citywide_complaint</th>\n",
       "      <th>school_not_found</th>\n",
       "      <th>school_zip</th>\n",
       "      <th>school_state</th>\n",
       "      <th>school_city</th>\n",
       "      <th>school_address</th>\n",
       "      <th>school_phone_number</th>\n",
       "      <th>school_code</th>\n",
       "      <th>school_region</th>\n",
       "      <th>school_number</th>\n",
       "      <th>school_name</th>\n",
       "      <th>park_borough</th>\n",
       "      <th>park_facility_name</th>\n",
       "      <th>y_coordinate_(state_plane)</th>\n",
       "      <th>x_coordinate_(state_plane)</th>\n",
       "      <th>borough</th>\n",
       "      <th>community_board</th>\n",
       "      <th>resolution_action_updated_date</th>\n",
       "      <th>resolution_description</th>\n",
       "      <th>due_date</th>\n",
       "      <th>status</th>\n",
       "      <th>facility_type</th>\n",
       "      <th>landmark</th>\n",
       "      <th>city</th>\n",
       "      <th>address_type</th>\n",
       "      <th>intersection_street_2</th>\n",
       "      <th>intersection_street_1</th>\n",
       "      <th>cross_street_2</th>\n",
       "      <th>cross_street_1</th>\n",
       "      <th>street_name</th>\n",
       "      <th>incident_address</th>\n",
       "      <th>incident_zip</th>\n",
       "      <th>location_type</th>\n",
       "      <th>descriptor</th>\n",
       "      <th>complaint_type</th>\n",
       "      <th>agency_name</th>\n",
       "      <th>agency</th>\n",
       "      <th>closed_date</th>\n",
       "      <th>created_date</th>\n",
       "      <th>unique_key</th>\n",
       "    </tr>\n",
       "  </thead>\n",
       "  <tbody>\n",
       "    <tr>\n",
       "      <th>0</th>\n",
       "      <td>(40.86568153633767, -73.92350095571744)</td>\n",
       "      <td>-73.923501</td>\n",
       "      <td>40.865682</td>\n",
       "      <td>NaN</td>\n",
       "      <td>NaN</td>\n",
       "      <td>NaN</td>\n",
       "      <td>NaN</td>\n",
       "      <td>NaN</td>\n",
       "      <td>NaN</td>\n",
       "      <td>NaN</td>\n",
       "      <td>NaN</td>\n",
       "      <td>NaN</td>\n",
       "      <td>NaN</td>\n",
       "      <td>NaN</td>\n",
       "      <td>N</td>\n",
       "      <td>Unspecified</td>\n",
       "      <td>Unspecified</td>\n",
       "      <td>Unspecified</td>\n",
       "      <td>Unspecified</td>\n",
       "      <td>Unspecified</td>\n",
       "      <td>Unspecified</td>\n",
       "      <td>Unspecified</td>\n",
       "      <td>Unspecified</td>\n",
       "      <td>Unspecified</td>\n",
       "      <td>MANHATTAN</td>\n",
       "      <td>Unspecified</td>\n",
       "      <td>254678.0</td>\n",
       "      <td>1005409.0</td>\n",
       "      <td>MANHATTAN</td>\n",
       "      <td>12 MANHATTAN</td>\n",
       "      <td>01/01/2016 12:55:15 AM</td>\n",
       "      <td>The Police Department responded and upon arriv...</td>\n",
       "      <td>01/01/2016 07:59:45 AM</td>\n",
       "      <td>Closed</td>\n",
       "      <td>Precinct</td>\n",
       "      <td>NaN</td>\n",
       "      <td>NEW YORK</td>\n",
       "      <td>ADDRESS</td>\n",
       "      <td>NaN</td>\n",
       "      <td>NaN</td>\n",
       "      <td>WEST 204 STREET</td>\n",
       "      <td>ACADEMY STREET</td>\n",
       "      <td>VERMILYEA AVENUE</td>\n",
       "      <td>71 VERMILYEA AVENUE</td>\n",
       "      <td>10034.0</td>\n",
       "      <td>Street/Sidewalk</td>\n",
       "      <td>Loud Music/Party</td>\n",
       "      <td>Noise - Street/Sidewalk</td>\n",
       "      <td>New York City Police Department</td>\n",
       "      <td>NYPD</td>\n",
       "      <td>2016-01-01 00:55:15</td>\n",
       "      <td>2015-12-31 23:59:45</td>\n",
       "      <td>32310363</td>\n",
       "    </tr>\n",
       "    <tr>\n",
       "      <th>1</th>\n",
       "      <td>(40.775945312321085, -73.91509393898605)</td>\n",
       "      <td>-73.915094</td>\n",
       "      <td>40.775945</td>\n",
       "      <td>NaN</td>\n",
       "      <td>NaN</td>\n",
       "      <td>NaN</td>\n",
       "      <td>NaN</td>\n",
       "      <td>NaN</td>\n",
       "      <td>NaN</td>\n",
       "      <td>NaN</td>\n",
       "      <td>NaN</td>\n",
       "      <td>NaN</td>\n",
       "      <td>NaN</td>\n",
       "      <td>NaN</td>\n",
       "      <td>N</td>\n",
       "      <td>Unspecified</td>\n",
       "      <td>Unspecified</td>\n",
       "      <td>Unspecified</td>\n",
       "      <td>Unspecified</td>\n",
       "      <td>Unspecified</td>\n",
       "      <td>Unspecified</td>\n",
       "      <td>Unspecified</td>\n",
       "      <td>Unspecified</td>\n",
       "      <td>Unspecified</td>\n",
       "      <td>QUEENS</td>\n",
       "      <td>Unspecified</td>\n",
       "      <td>221986.0</td>\n",
       "      <td>1007766.0</td>\n",
       "      <td>QUEENS</td>\n",
       "      <td>01 QUEENS</td>\n",
       "      <td>01/01/2016 01:26:57 AM</td>\n",
       "      <td>The Police Department responded to the complai...</td>\n",
       "      <td>01/01/2016 07:59:44 AM</td>\n",
       "      <td>Closed</td>\n",
       "      <td>Precinct</td>\n",
       "      <td>NaN</td>\n",
       "      <td>ASTORIA</td>\n",
       "      <td>ADDRESS</td>\n",
       "      <td>NaN</td>\n",
       "      <td>NaN</td>\n",
       "      <td>28 STREET</td>\n",
       "      <td>27 STREET</td>\n",
       "      <td>23 AVENUE</td>\n",
       "      <td>27-07 23 AVENUE</td>\n",
       "      <td>11105.0</td>\n",
       "      <td>Street/Sidewalk</td>\n",
       "      <td>No Access</td>\n",
       "      <td>Blocked Driveway</td>\n",
       "      <td>New York City Police Department</td>\n",
       "      <td>NYPD</td>\n",
       "      <td>2016-01-01 01:26:57</td>\n",
       "      <td>2015-12-31 23:59:44</td>\n",
       "      <td>32309934</td>\n",
       "    </tr>\n",
       "    <tr>\n",
       "      <th>2</th>\n",
       "      <td>(40.870324522111424, -73.88852464418646)</td>\n",
       "      <td>-73.888525</td>\n",
       "      <td>40.870325</td>\n",
       "      <td>NaN</td>\n",
       "      <td>NaN</td>\n",
       "      <td>NaN</td>\n",
       "      <td>NaN</td>\n",
       "      <td>NaN</td>\n",
       "      <td>NaN</td>\n",
       "      <td>NaN</td>\n",
       "      <td>NaN</td>\n",
       "      <td>NaN</td>\n",
       "      <td>NaN</td>\n",
       "      <td>NaN</td>\n",
       "      <td>N</td>\n",
       "      <td>Unspecified</td>\n",
       "      <td>Unspecified</td>\n",
       "      <td>Unspecified</td>\n",
       "      <td>Unspecified</td>\n",
       "      <td>Unspecified</td>\n",
       "      <td>Unspecified</td>\n",
       "      <td>Unspecified</td>\n",
       "      <td>Unspecified</td>\n",
       "      <td>Unspecified</td>\n",
       "      <td>BRONX</td>\n",
       "      <td>Unspecified</td>\n",
       "      <td>256380.0</td>\n",
       "      <td>1015081.0</td>\n",
       "      <td>BRONX</td>\n",
       "      <td>07 BRONX</td>\n",
       "      <td>01/01/2016 04:51:03 AM</td>\n",
       "      <td>The Police Department responded and upon arriv...</td>\n",
       "      <td>01/01/2016 07:59:29 AM</td>\n",
       "      <td>Closed</td>\n",
       "      <td>Precinct</td>\n",
       "      <td>NaN</td>\n",
       "      <td>BRONX</td>\n",
       "      <td>ADDRESS</td>\n",
       "      <td>NaN</td>\n",
       "      <td>NaN</td>\n",
       "      <td>EAST 199 STREET</td>\n",
       "      <td>EAST 198 STREET</td>\n",
       "      <td>VALENTINE AVENUE</td>\n",
       "      <td>2897 VALENTINE AVENUE</td>\n",
       "      <td>10458.0</td>\n",
       "      <td>Street/Sidewalk</td>\n",
       "      <td>No Access</td>\n",
       "      <td>Blocked Driveway</td>\n",
       "      <td>New York City Police Department</td>\n",
       "      <td>NYPD</td>\n",
       "      <td>2016-01-01 04:51:03</td>\n",
       "      <td>2015-12-31 23:59:29</td>\n",
       "      <td>32309159</td>\n",
       "    </tr>\n",
       "    <tr>\n",
       "      <th>3</th>\n",
       "      <td>(40.83599404683083, -73.82837939584206)</td>\n",
       "      <td>-73.828379</td>\n",
       "      <td>40.835994</td>\n",
       "      <td>NaN</td>\n",
       "      <td>NaN</td>\n",
       "      <td>NaN</td>\n",
       "      <td>NaN</td>\n",
       "      <td>NaN</td>\n",
       "      <td>NaN</td>\n",
       "      <td>NaN</td>\n",
       "      <td>NaN</td>\n",
       "      <td>NaN</td>\n",
       "      <td>NaN</td>\n",
       "      <td>NaN</td>\n",
       "      <td>N</td>\n",
       "      <td>Unspecified</td>\n",
       "      <td>Unspecified</td>\n",
       "      <td>Unspecified</td>\n",
       "      <td>Unspecified</td>\n",
       "      <td>Unspecified</td>\n",
       "      <td>Unspecified</td>\n",
       "      <td>Unspecified</td>\n",
       "      <td>Unspecified</td>\n",
       "      <td>Unspecified</td>\n",
       "      <td>BRONX</td>\n",
       "      <td>Unspecified</td>\n",
       "      <td>243899.0</td>\n",
       "      <td>1031740.0</td>\n",
       "      <td>BRONX</td>\n",
       "      <td>10 BRONX</td>\n",
       "      <td>01/01/2016 07:43:13 AM</td>\n",
       "      <td>The Police Department responded to the complai...</td>\n",
       "      <td>01/01/2016 07:57:46 AM</td>\n",
       "      <td>Closed</td>\n",
       "      <td>Precinct</td>\n",
       "      <td>NaN</td>\n",
       "      <td>BRONX</td>\n",
       "      <td>ADDRESS</td>\n",
       "      <td>NaN</td>\n",
       "      <td>NaN</td>\n",
       "      <td>B STREET</td>\n",
       "      <td>EDISON AVENUE</td>\n",
       "      <td>BAISLEY AVENUE</td>\n",
       "      <td>2940 BAISLEY AVENUE</td>\n",
       "      <td>10461.0</td>\n",
       "      <td>Street/Sidewalk</td>\n",
       "      <td>Commercial Overnight Parking</td>\n",
       "      <td>Illegal Parking</td>\n",
       "      <td>New York City Police Department</td>\n",
       "      <td>NYPD</td>\n",
       "      <td>2016-01-01 07:43:13</td>\n",
       "      <td>2015-12-31 23:57:46</td>\n",
       "      <td>32305098</td>\n",
       "    </tr>\n",
       "    <tr>\n",
       "      <th>4</th>\n",
       "      <td>(40.733059618956815, -73.87416975810375)</td>\n",
       "      <td>-73.874170</td>\n",
       "      <td>40.733060</td>\n",
       "      <td>NaN</td>\n",
       "      <td>NaN</td>\n",
       "      <td>NaN</td>\n",
       "      <td>NaN</td>\n",
       "      <td>NaN</td>\n",
       "      <td>NaN</td>\n",
       "      <td>NaN</td>\n",
       "      <td>NaN</td>\n",
       "      <td>NaN</td>\n",
       "      <td>NaN</td>\n",
       "      <td>NaN</td>\n",
       "      <td>N</td>\n",
       "      <td>Unspecified</td>\n",
       "      <td>Unspecified</td>\n",
       "      <td>Unspecified</td>\n",
       "      <td>Unspecified</td>\n",
       "      <td>Unspecified</td>\n",
       "      <td>Unspecified</td>\n",
       "      <td>Unspecified</td>\n",
       "      <td>Unspecified</td>\n",
       "      <td>Unspecified</td>\n",
       "      <td>QUEENS</td>\n",
       "      <td>Unspecified</td>\n",
       "      <td>206375.0</td>\n",
       "      <td>1019123.0</td>\n",
       "      <td>QUEENS</td>\n",
       "      <td>04 QUEENS</td>\n",
       "      <td>01/01/2016 03:24:42 AM</td>\n",
       "      <td>The Police Department responded and upon arriv...</td>\n",
       "      <td>01/01/2016 07:56:58 AM</td>\n",
       "      <td>Closed</td>\n",
       "      <td>Precinct</td>\n",
       "      <td>NaN</td>\n",
       "      <td>ELMHURST</td>\n",
       "      <td>ADDRESS</td>\n",
       "      <td>NaN</td>\n",
       "      <td>NaN</td>\n",
       "      <td>HOFFMAN DRIVE</td>\n",
       "      <td>SEABURY STREET</td>\n",
       "      <td>57 ROAD</td>\n",
       "      <td>87-14 57 ROAD</td>\n",
       "      <td>11373.0</td>\n",
       "      <td>Street/Sidewalk</td>\n",
       "      <td>Blocked Sidewalk</td>\n",
       "      <td>Illegal Parking</td>\n",
       "      <td>New York City Police Department</td>\n",
       "      <td>NYPD</td>\n",
       "      <td>2016-01-01 03:24:42</td>\n",
       "      <td>2015-12-31 23:56:58</td>\n",
       "      <td>32306529</td>\n",
       "    </tr>\n",
       "  </tbody>\n",
       "</table>\n",
       "</div>"
      ],
      "text/plain": [
       "                                   location  longitude   latitude  \\\n",
       "0   (40.86568153633767, -73.92350095571744) -73.923501  40.865682   \n",
       "1  (40.775945312321085, -73.91509393898605) -73.915094  40.775945   \n",
       "2  (40.870324522111424, -73.88852464418646) -73.888525  40.870325   \n",
       "3   (40.83599404683083, -73.82837939584206) -73.828379  40.835994   \n",
       "4  (40.733059618956815, -73.87416975810375) -73.874170  40.733060   \n",
       "\n",
       "  ferry_terminal_name ferry_direction  garage_lot_name bridge_highway_segment  \\\n",
       "0                 NaN             NaN              NaN                    NaN   \n",
       "1                 NaN             NaN              NaN                    NaN   \n",
       "2                 NaN             NaN              NaN                    NaN   \n",
       "3                 NaN             NaN              NaN                    NaN   \n",
       "4                 NaN             NaN              NaN                    NaN   \n",
       "\n",
       "  road_ramp bridge_highway_direction bridge_highway_name  \\\n",
       "0       NaN                      NaN                 NaN   \n",
       "1       NaN                      NaN                 NaN   \n",
       "2       NaN                      NaN                 NaN   \n",
       "3       NaN                      NaN                 NaN   \n",
       "4       NaN                      NaN                 NaN   \n",
       "\n",
       "   taxi_pick_up_location  taxi_company_borough  vehicle_type  \\\n",
       "0                    NaN                   NaN           NaN   \n",
       "1                    NaN                   NaN           NaN   \n",
       "2                    NaN                   NaN           NaN   \n",
       "3                    NaN                   NaN           NaN   \n",
       "4                    NaN                   NaN           NaN   \n",
       "\n",
       "   school_or_citywide_complaint school_not_found   school_zip school_state  \\\n",
       "0                           NaN                N  Unspecified  Unspecified   \n",
       "1                           NaN                N  Unspecified  Unspecified   \n",
       "2                           NaN                N  Unspecified  Unspecified   \n",
       "3                           NaN                N  Unspecified  Unspecified   \n",
       "4                           NaN                N  Unspecified  Unspecified   \n",
       "\n",
       "   school_city school_address school_phone_number  school_code school_region  \\\n",
       "0  Unspecified    Unspecified         Unspecified  Unspecified   Unspecified   \n",
       "1  Unspecified    Unspecified         Unspecified  Unspecified   Unspecified   \n",
       "2  Unspecified    Unspecified         Unspecified  Unspecified   Unspecified   \n",
       "3  Unspecified    Unspecified         Unspecified  Unspecified   Unspecified   \n",
       "4  Unspecified    Unspecified         Unspecified  Unspecified   Unspecified   \n",
       "\n",
       "  school_number  school_name park_borough park_facility_name  \\\n",
       "0   Unspecified  Unspecified    MANHATTAN        Unspecified   \n",
       "1   Unspecified  Unspecified       QUEENS        Unspecified   \n",
       "2   Unspecified  Unspecified        BRONX        Unspecified   \n",
       "3   Unspecified  Unspecified        BRONX        Unspecified   \n",
       "4   Unspecified  Unspecified       QUEENS        Unspecified   \n",
       "\n",
       "   y_coordinate_(state_plane)  x_coordinate_(state_plane)    borough  \\\n",
       "0                    254678.0                   1005409.0  MANHATTAN   \n",
       "1                    221986.0                   1007766.0     QUEENS   \n",
       "2                    256380.0                   1015081.0      BRONX   \n",
       "3                    243899.0                   1031740.0      BRONX   \n",
       "4                    206375.0                   1019123.0     QUEENS   \n",
       "\n",
       "  community_board resolution_action_updated_date  \\\n",
       "0    12 MANHATTAN         01/01/2016 12:55:15 AM   \n",
       "1       01 QUEENS         01/01/2016 01:26:57 AM   \n",
       "2        07 BRONX         01/01/2016 04:51:03 AM   \n",
       "3        10 BRONX         01/01/2016 07:43:13 AM   \n",
       "4       04 QUEENS         01/01/2016 03:24:42 AM   \n",
       "\n",
       "                              resolution_description                due_date  \\\n",
       "0  The Police Department responded and upon arriv...  01/01/2016 07:59:45 AM   \n",
       "1  The Police Department responded to the complai...  01/01/2016 07:59:44 AM   \n",
       "2  The Police Department responded and upon arriv...  01/01/2016 07:59:29 AM   \n",
       "3  The Police Department responded to the complai...  01/01/2016 07:57:46 AM   \n",
       "4  The Police Department responded and upon arriv...  01/01/2016 07:56:58 AM   \n",
       "\n",
       "   status facility_type landmark      city address_type intersection_street_2  \\\n",
       "0  Closed      Precinct      NaN  NEW YORK      ADDRESS                   NaN   \n",
       "1  Closed      Precinct      NaN   ASTORIA      ADDRESS                   NaN   \n",
       "2  Closed      Precinct      NaN     BRONX      ADDRESS                   NaN   \n",
       "3  Closed      Precinct      NaN     BRONX      ADDRESS                   NaN   \n",
       "4  Closed      Precinct      NaN  ELMHURST      ADDRESS                   NaN   \n",
       "\n",
       "  intersection_street_1   cross_street_2   cross_street_1       street_name  \\\n",
       "0                   NaN  WEST 204 STREET   ACADEMY STREET  VERMILYEA AVENUE   \n",
       "1                   NaN        28 STREET        27 STREET         23 AVENUE   \n",
       "2                   NaN  EAST 199 STREET  EAST 198 STREET  VALENTINE AVENUE   \n",
       "3                   NaN         B STREET    EDISON AVENUE    BAISLEY AVENUE   \n",
       "4                   NaN    HOFFMAN DRIVE   SEABURY STREET           57 ROAD   \n",
       "\n",
       "        incident_address  incident_zip    location_type  \\\n",
       "0    71 VERMILYEA AVENUE       10034.0  Street/Sidewalk   \n",
       "1        27-07 23 AVENUE       11105.0  Street/Sidewalk   \n",
       "2  2897 VALENTINE AVENUE       10458.0  Street/Sidewalk   \n",
       "3    2940 BAISLEY AVENUE       10461.0  Street/Sidewalk   \n",
       "4          87-14 57 ROAD       11373.0  Street/Sidewalk   \n",
       "\n",
       "                     descriptor           complaint_type  \\\n",
       "0              Loud Music/Party  Noise - Street/Sidewalk   \n",
       "1                     No Access         Blocked Driveway   \n",
       "2                     No Access         Blocked Driveway   \n",
       "3  Commercial Overnight Parking          Illegal Parking   \n",
       "4              Blocked Sidewalk          Illegal Parking   \n",
       "\n",
       "                       agency_name agency         closed_date  \\\n",
       "0  New York City Police Department   NYPD 2016-01-01 00:55:15   \n",
       "1  New York City Police Department   NYPD 2016-01-01 01:26:57   \n",
       "2  New York City Police Department   NYPD 2016-01-01 04:51:03   \n",
       "3  New York City Police Department   NYPD 2016-01-01 07:43:13   \n",
       "4  New York City Police Department   NYPD 2016-01-01 03:24:42   \n",
       "\n",
       "         created_date  unique_key  \n",
       "0 2015-12-31 23:59:45    32310363  \n",
       "1 2015-12-31 23:59:44    32309934  \n",
       "2 2015-12-31 23:59:29    32309159  \n",
       "3 2015-12-31 23:57:46    32305098  \n",
       "4 2015-12-31 23:56:58    32306529  "
      ]
     },
     "execution_count": 21,
     "metadata": {},
     "output_type": "execute_result"
    }
   ],
   "source": [
    "nyc.loc[:, ::-1].head()"
   ]
  },
  {
   "cell_type": "markdown",
   "id": "0458675d-9465-4525-96c0-b1253de4d4d8",
   "metadata": {},
   "source": [
    "### Select only particular datatype from the dataset"
   ]
  },
  {
   "cell_type": "code",
   "execution_count": 22,
   "id": "6dde77a6-d524-4caa-a550-2fe1e3b9c6c0",
   "metadata": {},
   "outputs": [
    {
     "data": {
      "text/plain": [
       "(364558, 40)"
      ]
     },
     "execution_count": 22,
     "metadata": {},
     "output_type": "execute_result"
    }
   ],
   "source": [
    "nyc.select_dtypes(include=\"object\").shape"
   ]
  },
  {
   "cell_type": "markdown",
   "id": "352aa20f-3eb4-4d7a-99a8-48a149c6eb61",
   "metadata": {},
   "source": [
    "### Applying specific function on dataset"
   ]
  },
  {
   "cell_type": "code",
   "execution_count": 23,
   "id": "bdb7f077-3fdf-46f1-a2e1-3c5dd35f9f3a",
   "metadata": {},
   "outputs": [],
   "source": [
    "nyc = nyc.apply(pd.to_numeric, errors=\"coerce\").fillna(0)"
   ]
  },
  {
   "cell_type": "code",
   "execution_count": 24,
   "id": "dcab2456-af4c-4b9f-aed2-f316483c0a12",
   "metadata": {},
   "outputs": [
    {
     "name": "stdout",
     "output_type": "stream",
     "text": [
      "<class 'pandas.core.frame.DataFrame'>\n",
      "RangeIndex: 364558 entries, 0 to 364557\n",
      "Data columns (total 53 columns):\n",
      " #   Column                          Non-Null Count   Dtype  \n",
      "---  ------                          --------------   -----  \n",
      " 0   unique_key                      364558 non-null  int64  \n",
      " 1   created_date                    364558 non-null  int64  \n",
      " 2   closed_date                     364558 non-null  int64  \n",
      " 3   agency                          364558 non-null  float64\n",
      " 4   agency_name                     364558 non-null  float64\n",
      " 5   complaint_type                  364558 non-null  float64\n",
      " 6   descriptor                      364558 non-null  float64\n",
      " 7   location_type                   364558 non-null  float64\n",
      " 8   incident_zip                    364558 non-null  float64\n",
      " 9   incident_address                364558 non-null  float64\n",
      " 10  street_name                     364558 non-null  float64\n",
      " 11  cross_street_1                  364558 non-null  float64\n",
      " 12  cross_street_2                  364558 non-null  float64\n",
      " 13  intersection_street_1           364558 non-null  float64\n",
      " 14  intersection_street_2           364558 non-null  float64\n",
      " 15  address_type                    364558 non-null  float64\n",
      " 16  city                            364558 non-null  float64\n",
      " 17  landmark                        364558 non-null  float64\n",
      " 18  facility_type                   364558 non-null  float64\n",
      " 19  status                          364558 non-null  float64\n",
      " 20  due_date                        364558 non-null  float64\n",
      " 21  resolution_description          364558 non-null  float64\n",
      " 22  resolution_action_updated_date  364558 non-null  float64\n",
      " 23  community_board                 364558 non-null  float64\n",
      " 24  borough                         364558 non-null  float64\n",
      " 25  x_coordinate_(state_plane)      364558 non-null  float64\n",
      " 26  y_coordinate_(state_plane)      364558 non-null  float64\n",
      " 27  park_facility_name              364558 non-null  float64\n",
      " 28  park_borough                    364558 non-null  float64\n",
      " 29  school_name                     364558 non-null  float64\n",
      " 30  school_number                   364558 non-null  float64\n",
      " 31  school_region                   364558 non-null  float64\n",
      " 32  school_code                     364558 non-null  float64\n",
      " 33  school_phone_number             364558 non-null  float64\n",
      " 34  school_address                  364558 non-null  float64\n",
      " 35  school_city                     364558 non-null  float64\n",
      " 36  school_state                    364558 non-null  float64\n",
      " 37  school_zip                      364558 non-null  float64\n",
      " 38  school_not_found                364558 non-null  float64\n",
      " 39  school_or_citywide_complaint    364558 non-null  float64\n",
      " 40  vehicle_type                    364558 non-null  float64\n",
      " 41  taxi_company_borough            364558 non-null  float64\n",
      " 42  taxi_pick_up_location           364558 non-null  float64\n",
      " 43  bridge_highway_name             364558 non-null  float64\n",
      " 44  bridge_highway_direction        364558 non-null  float64\n",
      " 45  road_ramp                       364558 non-null  float64\n",
      " 46  bridge_highway_segment          364558 non-null  float64\n",
      " 47  garage_lot_name                 364558 non-null  float64\n",
      " 48  ferry_direction                 364558 non-null  float64\n",
      " 49  ferry_terminal_name             364558 non-null  float64\n",
      " 50  latitude                        364558 non-null  float64\n",
      " 51  longitude                       364558 non-null  float64\n",
      " 52  location                        364558 non-null  float64\n",
      "dtypes: float64(50), int64(3)\n",
      "memory usage: 147.4 MB\n"
     ]
    }
   ],
   "source": [
    "nyc.info(memory_usage=\"deep\")\n",
    "# usecols"
   ]
  },
  {
   "cell_type": "markdown",
   "id": "3f554fe5-18ee-4b01-b104-157b1efa6787",
   "metadata": {},
   "source": [
    "# Plotting"
   ]
  },
  {
   "cell_type": "code",
   "execution_count": 1,
   "id": "880e284f-c05c-4f00-999b-ca3b87e18913",
   "metadata": {},
   "outputs": [
    {
     "data": {
      "text/html": [
       "<div>\n",
       "<style scoped>\n",
       "    .dataframe tbody tr th:only-of-type {\n",
       "        vertical-align: middle;\n",
       "    }\n",
       "\n",
       "    .dataframe tbody tr th {\n",
       "        vertical-align: top;\n",
       "    }\n",
       "\n",
       "    .dataframe thead th {\n",
       "        text-align: right;\n",
       "    }\n",
       "</style>\n",
       "<table border=\"1\" class=\"dataframe\">\n",
       "  <thead>\n",
       "    <tr style=\"text-align: right;\">\n",
       "      <th></th>\n",
       "      <th>emp_id</th>\n",
       "      <th>First_name</th>\n",
       "      <th>last_name</th>\n",
       "      <th>Age</th>\n",
       "      <th>Department</th>\n",
       "      <th>Salary</th>\n",
       "      <th>YearsWithCompany</th>\n",
       "    </tr>\n",
       "  </thead>\n",
       "  <tbody>\n",
       "    <tr>\n",
       "      <th>0</th>\n",
       "      <td>1</td>\n",
       "      <td>Deborah</td>\n",
       "      <td>Adams</td>\n",
       "      <td>57</td>\n",
       "      <td>Sales</td>\n",
       "      <td>40866.0</td>\n",
       "      <td>2</td>\n",
       "    </tr>\n",
       "    <tr>\n",
       "      <th>1</th>\n",
       "      <td>2</td>\n",
       "      <td>Jacqueline</td>\n",
       "      <td>Green</td>\n",
       "      <td>34</td>\n",
       "      <td>HR</td>\n",
       "      <td>43031.0</td>\n",
       "      <td>7</td>\n",
       "    </tr>\n",
       "    <tr>\n",
       "      <th>2</th>\n",
       "      <td>3</td>\n",
       "      <td>Susan</td>\n",
       "      <td>Whitaker</td>\n",
       "      <td>29</td>\n",
       "      <td>IT</td>\n",
       "      <td>41299.0</td>\n",
       "      <td>3</td>\n",
       "    </tr>\n",
       "    <tr>\n",
       "      <th>3</th>\n",
       "      <td>4</td>\n",
       "      <td>James</td>\n",
       "      <td>Rodriguez</td>\n",
       "      <td>26</td>\n",
       "      <td>Engineering</td>\n",
       "      <td>42598.0</td>\n",
       "      <td>6</td>\n",
       "    </tr>\n",
       "    <tr>\n",
       "      <th>4</th>\n",
       "      <td>5</td>\n",
       "      <td>Cameron</td>\n",
       "      <td>Murray</td>\n",
       "      <td>42</td>\n",
       "      <td>Sales</td>\n",
       "      <td>42165.0</td>\n",
       "      <td>5</td>\n",
       "    </tr>\n",
       "    <tr>\n",
       "      <th>...</th>\n",
       "      <td>...</td>\n",
       "      <td>...</td>\n",
       "      <td>...</td>\n",
       "      <td>...</td>\n",
       "      <td>...</td>\n",
       "      <td>...</td>\n",
       "      <td>...</td>\n",
       "    </tr>\n",
       "    <tr>\n",
       "      <th>195</th>\n",
       "      <td>196</td>\n",
       "      <td>Michael</td>\n",
       "      <td>Mckay</td>\n",
       "      <td>44</td>\n",
       "      <td>Sales</td>\n",
       "      <td>41732.0</td>\n",
       "      <td>4</td>\n",
       "    </tr>\n",
       "    <tr>\n",
       "      <th>196</th>\n",
       "      <td>197</td>\n",
       "      <td>Kyle</td>\n",
       "      <td>Barnes</td>\n",
       "      <td>31</td>\n",
       "      <td>Sales</td>\n",
       "      <td>40866.0</td>\n",
       "      <td>2</td>\n",
       "    </tr>\n",
       "    <tr>\n",
       "      <th>197</th>\n",
       "      <td>198</td>\n",
       "      <td>Kenneth</td>\n",
       "      <td>George</td>\n",
       "      <td>30</td>\n",
       "      <td>Finance</td>\n",
       "      <td>43897.0</td>\n",
       "      <td>9</td>\n",
       "    </tr>\n",
       "    <tr>\n",
       "      <th>198</th>\n",
       "      <td>199</td>\n",
       "      <td>Frederick</td>\n",
       "      <td>Richards</td>\n",
       "      <td>56</td>\n",
       "      <td>IT</td>\n",
       "      <td>41732.0</td>\n",
       "      <td>4</td>\n",
       "    </tr>\n",
       "    <tr>\n",
       "      <th>199</th>\n",
       "      <td>200</td>\n",
       "      <td>Richard</td>\n",
       "      <td>Dennis</td>\n",
       "      <td>53</td>\n",
       "      <td>IT</td>\n",
       "      <td>43464.0</td>\n",
       "      <td>8</td>\n",
       "    </tr>\n",
       "  </tbody>\n",
       "</table>\n",
       "<p>200 rows × 7 columns</p>\n",
       "</div>"
      ],
      "text/plain": [
       "     emp_id  First_name  last_name  Age   Department   Salary  \\\n",
       "0         1     Deborah      Adams   57        Sales  40866.0   \n",
       "1         2  Jacqueline      Green   34           HR  43031.0   \n",
       "2         3       Susan   Whitaker   29           IT  41299.0   \n",
       "3         4       James  Rodriguez   26  Engineering  42598.0   \n",
       "4         5     Cameron     Murray   42        Sales  42165.0   \n",
       "..      ...         ...        ...  ...          ...      ...   \n",
       "195     196     Michael      Mckay   44        Sales  41732.0   \n",
       "196     197        Kyle     Barnes   31        Sales  40866.0   \n",
       "197     198     Kenneth     George   30      Finance  43897.0   \n",
       "198     199   Frederick   Richards   56           IT  41732.0   \n",
       "199     200     Richard     Dennis   53           IT  43464.0   \n",
       "\n",
       "     YearsWithCompany  \n",
       "0                   2  \n",
       "1                   7  \n",
       "2                   3  \n",
       "3                   6  \n",
       "4                   5  \n",
       "..                ...  \n",
       "195                 4  \n",
       "196                 2  \n",
       "197                 9  \n",
       "198                 4  \n",
       "199                 8  \n",
       "\n",
       "[200 rows x 7 columns]"
      ]
     },
     "execution_count": 1,
     "metadata": {},
     "output_type": "execute_result"
    }
   ],
   "source": [
    "import numpy as np\n",
    "import pandas as pd\n",
    "from faker import Faker\n",
    "\n",
    "fake = Faker()\n",
    "Faker.seed(27)\n",
    "\n",
    "\n",
    "num_employees = 200\n",
    "departments = [\"Engineering\", \"Finance\", \"HR\", \"Marketing\", \"Sales\", \"IT\"]\n",
    "years_with_company = np.random.randint(1, 10, size=num_employees)\n",
    "salary = 40000 + 2000 * years_with_company * np.random.rand()\n",
    "employee_data = {\n",
    "    \"emp_id\": np.arange(1, num_employees + 1),\n",
    "    \"First_name\": [fake.first_name() for _ in range(num_employees)],\n",
    "    \"last_name\": [fake.last_name() for _ in range(num_employees)],\n",
    "    \"Age\": np.random.randint(22, 60, num_employees),\n",
    "    \"Department\": [fake.random_element(departments) for _ in range(num_employees)],\n",
    "    \"Salary\": np.round(salary),\n",
    "    \"YearsWithCompany\": years_with_company,\n",
    "}\n",
    "df_employees = pd.DataFrame(employee_data)\n",
    "df_employees"
   ]
  },
  {
   "cell_type": "code",
   "execution_count": 2,
   "id": "10998fdd-c764-413b-91db-dea625f9fdf0",
   "metadata": {},
   "outputs": [
    {
     "data": {
      "text/plain": [
       "<Axes: title={'center': 'Scatter plot'}, xlabel='Salary', ylabel='Age'>"
      ]
     },
     "execution_count": 2,
     "metadata": {},
     "output_type": "execute_result"
    },
    {
     "data": {
      "image/png": "[encoded data removed]",
      "text/plain": [
       "<Figure size 640x480 with 1 Axes>"
      ]
     },
     "metadata": {},
     "output_type": "display_data"
    }
   ],
   "source": [
    "df_employees.plot.scatter(\n",
    "    x=\"Age\", y=\"Salary\", title=\"Scatter plot\", xlabel=\"Salary\", ylabel=\"Age\", grid=True\n",
    ")"
   ]
  },
  {
   "cell_type": "code",
   "execution_count": 3,
   "id": "6735ab4c-bcc7-4880-8a2e-5aef2af0fd05",
   "metadata": {},
   "outputs": [
    {
     "data": {
      "text/plain": [
       "<Axes: title={'center': 'Average Salary Trend Over Years of Experience'}, xlabel='Years With Company', ylabel='Average Salary'>"
      ]
     },
     "execution_count": 3,
     "metadata": {},
     "output_type": "execute_result"
    },
    {
     "data": {
      "image/png": "[encoded data removed]",
      "text/plain": [
       "<Figure size 640x480 with 1 Axes>"
      ]
     },
     "metadata": {},
     "output_type": "display_data"
    }
   ],
   "source": [
    "average_salary_by_experience = df_employees.groupby(\"YearsWithCompany\")[\"Salary\"].mean()\n",
    "df_employees[\"AverageSalaryByExperience\"] = df_employees[\"YearsWithCompany\"].map(\n",
    "    average_salary_by_experience\n",
    ")\n",
    "\n",
    "df_employees.plot.line(\n",
    "    x=\"YearsWithCompany\",\n",
    "    y=\"AverageSalaryByExperience\",\n",
    "    marker=\"o\",\n",
    "    linestyle=\"-\",\n",
    "    title=\"Average Salary Trend Over Years of Experience\",\n",
    "    xlabel=\"Years With Company\",\n",
    "    ylabel=\"Average Salary\",\n",
    "    legend=False,\n",
    "    grid=True,\n",
    ")"
   ]
  },
  {
   "cell_type": "code",
   "execution_count": 4,
   "id": "0c5a383f-7169-458b-870b-d93eaf1afc8b",
   "metadata": {},
   "outputs": [
    {
     "data": {
      "text/plain": [
       "<Axes: title={'center': 'Age Distribution'}, ylabel='Frequency'>"
      ]
     },
     "execution_count": 4,
     "metadata": {},
     "output_type": "execute_result"
    },
    {
     "data": {
      "image/png": "[encoded data removed]",
      "text/plain": [
       "<Figure size 640x480 with 1 Axes>"
      ]
     },
     "metadata": {},
     "output_type": "display_data"
    }
   ],
   "source": [
    "df_employees[\"Age\"].plot.hist(title=\"Age Distribution\", bins=15)"
   ]
  },
  {
   "cell_type": "code",
   "execution_count": 5,
   "id": "a32d442f-4cdb-4577-9c83-ac9d72f382c4",
   "metadata": {},
   "outputs": [
    {
     "data": {
      "text/plain": [
       "<Axes: title={'center': 'Salary'}, ylabel='Department'>"
      ]
     },
     "execution_count": 5,
     "metadata": {},
     "output_type": "execute_result"
    },
    {
     "data": {
      "image/png": "[encoded data removed]",
      "text/plain": [
       "<Figure size 640x480 with 1 Axes>"
      ]
     },
     "metadata": {},
     "output_type": "display_data"
    }
   ],
   "source": [
    "df_employees.boxplot(column=\"Salary\", by=\"Department\", grid=True, vert=False)"
   ]
  },
  {
   "cell_type": "code",
   "execution_count": 6,
   "id": "520f3992-5222-49dc-bd02-1885cc5784f0",
   "metadata": {},
   "outputs": [
    {
     "data": {
      "text/plain": [
       "<Axes: title={'center': 'Employee Count by Department'}, xlabel='Department'>"
      ]
     },
     "execution_count": 6,
     "metadata": {},
     "output_type": "execute_result"
    },
    {
     "data": {
      "image/png": "[encoded data removed]",
      "text/plain": [
       "<Figure size 640x480 with 1 Axes>"
      ]
     },
     "metadata": {},
     "output_type": "display_data"
    }
   ],
   "source": [
    "df_employees[\"Department\"].value_counts().plot.bar(title=\"Employee Count by Department\")"
   ]
  },
  {
   "cell_type": "code",
   "execution_count": 12,
   "id": "2b3511e3-4a09-4eb9-b0cb-d8cefd9a8e39",
   "metadata": {},
   "outputs": [
    {
     "data": {
      "text/plain": [
       "<Axes: title={'center': 'Cumulative Salary Distribution Over Age Groups'}, xlabel='Age Group', ylabel='Cumulative Salary'>"
      ]
     },
     "execution_count": 12,
     "metadata": {},
     "output_type": "execute_result"
    },
    {
     "data": {
      "image/png": "[encoded data removed]",
      "text/plain": [
       "<Figure size 640x480 with 1 Axes>"
      ]
     },
     "metadata": {},
     "output_type": "display_data"
    }
   ],
   "source": [
    "# Area Plot: Cumulative Salary Distribution Over Age Groups\n",
    "df_employees[\"AgeGroup\"] = pd.cut(\n",
    "    df_employees[\"Age\"],\n",
    "    bins=[20, 30, 40, 50, 60],\n",
    "    labels=[\"20-29\", \"30-39\", \"40-49\", \"50-59\"],\n",
    ")\n",
    "cumulative_salary_by_age_group = df_employees.groupby(\"AgeGroup\", observed=False)[\n",
    "    \"Salary\"\n",
    "].cumsum()\n",
    "df_employees[\"CumulativeSalaryByAgeGroup\"] = cumulative_salary_by_age_group\n",
    "\n",
    "df_employees.plot.area(\n",
    "    x=\"AgeGroup\",\n",
    "    y=\"CumulativeSalaryByAgeGroup\",\n",
    "    title=\"Cumulative Salary Distribution Over Age Groups\",\n",
    "    xlabel=\"Age Group\",\n",
    "    ylabel=\"Cumulative Salary\",\n",
    "    legend=False,\n",
    "    grid=True,\n",
    ")"
   ]
  },
  {
   "cell_type": "code",
   "execution_count": 8,
   "id": "c547abd5-7d76-4b07-bcf4-03d9a48cfe35",
   "metadata": {},
   "outputs": [
    {
     "data": {
      "text/plain": [
       "<Axes: title={'center': 'Department-wise Salary Distribution'}, ylabel='Salary'>"
      ]
     },
     "execution_count": 8,
     "metadata": {},
     "output_type": "execute_result"
    },
    {
     "data": {
      "image/png": "[encoded data removed]",
      "text/plain": [
       "<Figure size 640x480 with 1 Axes>"
      ]
     },
     "metadata": {},
     "output_type": "display_data"
    }
   ],
   "source": [
    "# Pie Chart: Department-wise Salary distribution\n",
    "df_employees.groupby(\"Department\")[\"Salary\"].sum().plot.pie(\n",
    "    title=\"Department-wise Salary Distribution\", autopct=\"%1.1f%%\"\n",
    ")"
   ]
  },
  {
   "cell_type": "code",
   "execution_count": null,
   "id": "3a10d315-c0da-4f31-a755-d25708b0651a",
   "metadata": {},
   "outputs": [],
   "source": []
  },
  {
   "cell_type": "code",
   "execution_count": null,
   "id": "ce2765cc-62e9-4f5c-84a1-1e9678233713",
   "metadata": {},
   "outputs": [],
   "source": []
  }
 ],
 "metadata": {
  "kernelspec": {
   "display_name": "Python 3 (ipykernel)",
   "language": "python",
   "name": "python3"
  },
  "language_info": {
   "codemirror_mode": {
    "name": "ipython",
    "version": 3
   },
   "file_extension": ".py",
   "mimetype": "text/x-python",
   "name": "python",
   "nbconvert_exporter": "python",
   "pygments_lexer": "ipython3",
   "version": "3.11.5"
  }
 },
 "nbformat": 4,
 "nbformat_minor": 5
}
