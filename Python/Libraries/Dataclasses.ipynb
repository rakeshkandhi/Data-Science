{
 "cells": [
  {
   "cell_type": "code",
   "execution_count": 1,
   "id": "a697974c-cd2e-4a0b-b1ab-c9b01cf123a1",
   "metadata": {},
   "outputs": [],
   "source": [
    "from dataclasses import dataclass"
   ]
  },
  {
   "cell_type": "code",
   "execution_count": 2,
   "id": "b28adc0e-8be5-4e4a-968e-74e72d5acef0",
   "metadata": {},
   "outputs": [
    {
     "name": "stdout",
     "output_type": "stream",
     "text": [
      "Person(name=Rakesh,age=21)\n"
     ]
    }
   ],
   "source": [
    "class Person:\n",
    "    def __init__(self, name, age):\n",
    "        self.name = name\n",
    "        self.age = age\n",
    "\n",
    "    def __repr__(self):\n",
    "        return f\"Person(name={self.name},age={self.age})\"\n",
    "\n",
    "    def __eq__(self, other):\n",
    "        return self.name == other.name and self.age == other.age\n",
    "\n",
    "    def __ne__(self, other):\n",
    "        return not self.__eq__(other)\n",
    "\n",
    "\n",
    "person = Person(\"Rakesh\", 21)\n",
    "print(person)"
   ]
  },
  {
   "cell_type": "code",
   "execution_count": 3,
   "id": "e72c8887-81ee-45ce-873d-9cbad339a12b",
   "metadata": {},
   "outputs": [
    {
     "name": "stdout",
     "output_type": "stream",
     "text": [
      "Person1(name='Rakesh', age=21, profession='Student')\n"
     ]
    }
   ],
   "source": [
    "@dataclass\n",
    "class Person1:\n",
    "    name: str\n",
    "    age: int\n",
    "    profession: str\n",
    "\n",
    "\n",
    "person1 = Person1(\"Rakesh\", 21, \"Student\")\n",
    "print(person1)"
   ]
  },
  {
   "cell_type": "markdown",
   "id": "1b51d04a-0dc3-4c15-9ca5-c259cb7f498a",
   "metadata": {},
   "source": [
    "The **@dataclass** decorator automatically creates the __init__(),__repr__,__eq__() methods"
   ]
  },
  {
   "cell_type": "code",
   "execution_count": 4,
   "id": "fccabf30-af01-4a16-979a-c632da326c51",
   "metadata": {},
   "outputs": [
    {
     "name": "stdout",
     "output_type": "stream",
     "text": [
      "Person2(name='Rakesh', age=21, profession='Student')\n",
      "Person2(name='Rakesh', age=21, profession='AI')\n"
     ]
    }
   ],
   "source": [
    "@dataclass\n",
    "class Person2:\n",
    "    name: str\n",
    "    age: int\n",
    "    profession: str = \"Student\"\n",
    "\n",
    "\n",
    "person2 = Person2(\"Rakesh\", 21)\n",
    "print(person2)\n",
    "person2.profession = \"AI\"\n",
    "print(person2)"
   ]
  },
  {
   "cell_type": "markdown",
   "id": "6720823f-cd69-4008-8c83-8a1b6734092e",
   "metadata": {},
   "source": [
    "## Immutable class"
   ]
  },
  {
   "cell_type": "code",
   "execution_count": 5,
   "id": "bfaee82b-7838-4832-8e08-f2a512d259bb",
   "metadata": {},
   "outputs": [
    {
     "name": "stdout",
     "output_type": "stream",
     "text": [
      "Point(x=3, y=4)\n"
     ]
    }
   ],
   "source": [
    "@dataclass(frozen=True)\n",
    "class Point:\n",
    "    x: int\n",
    "    y: int\n",
    "\n",
    "\n",
    "point = Point(3, 4)\n",
    "print(point)"
   ]
  },
  {
   "cell_type": "code",
   "execution_count": 6,
   "id": "ac76855f-61f8-49a1-b127-73463e69a6bf",
   "metadata": {},
   "outputs": [
    {
     "name": "stdout",
     "output_type": "stream",
     "text": [
      "The Error is: cannot assign to field 'x'\n"
     ]
    }
   ],
   "source": [
    "try:\n",
    "    point.x = 9\n",
    "except Exception as e:\n",
    "    print(f\"The Error is: {e}\")"
   ]
  },
  {
   "cell_type": "markdown",
   "id": "c76a93bb-6269-4a36-8be6-f4ce98e4cb20",
   "metadata": {},
   "source": [
    "# Inheritance "
   ]
  },
  {
   "cell_type": "code",
   "execution_count": 7,
   "id": "578311eb-9e92-43e8-ab7d-145f3cb2486a",
   "metadata": {},
   "outputs": [
    {
     "name": "stdout",
     "output_type": "stream",
     "text": [
      "College(name='Rakesh', age=21, department='CSE(AI&ML)', id=9, code=101)\n"
     ]
    }
   ],
   "source": [
    "@dataclass\n",
    "class Student:\n",
    "    name: str\n",
    "    age: int\n",
    "    department: str\n",
    "\n",
    "\n",
    "@dataclass\n",
    "class College(Student):\n",
    "    id: int\n",
    "    code: int\n",
    "\n",
    "\n",
    "college = College(\"Rakesh\", 21, \"CSE(AI&ML)\", 9, 101)\n",
    "print(college)"
   ]
  },
  {
   "cell_type": "markdown",
   "id": "2e67d944-d87f-4515-a54c-b65dd2e90a95",
   "metadata": {},
   "source": [
    "# Nested dataclass"
   ]
  },
  {
   "cell_type": "code",
   "execution_count": 8,
   "id": "40e07523-e01c-4173-9cab-d5dabbf729d7",
   "metadata": {},
   "outputs": [
    {
     "name": "stdout",
     "output_type": "stream",
     "text": [
      "Student(name='Rakesh', age=21, address=Address(street='Bahadurpally', city='Hyderabad', zip_code=500043))\n"
     ]
    }
   ],
   "source": [
    "@dataclass\n",
    "class Address:\n",
    "    street: str\n",
    "    city: str\n",
    "    zip_code: int\n",
    "\n",
    "\n",
    "@dataclass\n",
    "class Student:\n",
    "    name: str\n",
    "    age: int\n",
    "    address: Address\n",
    "\n",
    "\n",
    "address = Address(\"Bahadurpally\", \"Hyderabad\", 500043)\n",
    "student = Student(\"Rakesh\", 21, address)\n",
    "print(student)"
   ]
  }
 ],
 "metadata": {
  "kernelspec": {
   "display_name": "Python 3 (ipykernel)",
   "language": "python",
   "name": "python3"
  },
  "language_info": {
   "codemirror_mode": {
    "name": "ipython",
    "version": 3
   },
   "file_extension": ".py",
   "mimetype": "text/x-python",
   "name": "python",
   "nbconvert_exporter": "python",
   "pygments_lexer": "ipython3",
   "version": "3.10.11"
  }
 },
 "nbformat": 4,
 "nbformat_minor": 5
}
