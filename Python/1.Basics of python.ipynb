{
 "cells": [
  {
   "cell_type": "markdown",
   "id": "72283b07-b497-4368-91e9-27733f20dcc5",
   "metadata": {},
   "source": [
    "# Python Data types"
   ]
  },
  {
   "cell_type": "markdown",
   "id": "79cea1a6-222f-4985-a1c4-681c34dabaca",
   "metadata": {},
   "source": [
    "## Variables"
   ]
  },
  {
   "cell_type": "markdown",
   "id": "d1a63c1a-444d-4a00-b492-f8cecf6cc3c4",
   "metadata": {},
   "source": [
    "## Types\n",
    "1. Integers\n",
    "2. Float\n",
    "3. String\n",
    "4. Boolean"
   ]
  },
  {
   "cell_type": "code",
   "execution_count": 1,
   "id": "65a72338-7719-445c-8736-b83c332ce54b",
   "metadata": {},
   "outputs": [
    {
     "data": {
      "text/plain": [
       "int"
      ]
     },
     "execution_count": 1,
     "metadata": {},
     "output_type": "execute_result"
    }
   ],
   "source": [
    "type(20)"
   ]
  },
  {
   "cell_type": "code",
   "execution_count": 2,
   "id": "adc80dd4-dc37-4cd7-b214-08997bf93a8c",
   "metadata": {},
   "outputs": [
    {
     "data": {
      "text/plain": [
       "float"
      ]
     },
     "execution_count": 2,
     "metadata": {},
     "output_type": "execute_result"
    }
   ],
   "source": [
    "type(2.3)"
   ]
  },
  {
   "cell_type": "code",
   "execution_count": 3,
   "id": "6575d5c1-a9cf-4e02-8b8a-f3c362eb87c8",
   "metadata": {},
   "outputs": [
    {
     "data": {
      "text/plain": [
       "str"
      ]
     },
     "execution_count": 3,
     "metadata": {},
     "output_type": "execute_result"
    }
   ],
   "source": [
    "type(\"Hello\")"
   ]
  },
  {
   "cell_type": "code",
   "execution_count": 4,
   "id": "9a3cf0c5-b092-4260-9c4e-ec30305c71ab",
   "metadata": {},
   "outputs": [
    {
     "data": {
      "text/plain": [
       "bool"
      ]
     },
     "execution_count": 4,
     "metadata": {},
     "output_type": "execute_result"
    }
   ],
   "source": [
    "type(True)"
   ]
  },
  {
   "cell_type": "code",
   "execution_count": 5,
   "id": "26497182-0fb3-46af-8535-043b7ede1b50",
   "metadata": {},
   "outputs": [
    {
     "data": {
      "text/plain": [
       "complex"
      ]
     },
     "execution_count": 5,
     "metadata": {},
     "output_type": "execute_result"
    }
   ],
   "source": [
    "type(1 + 2j)"
   ]
  },
  {
   "cell_type": "code",
   "execution_count": 6,
   "id": "73c5ce64-5f18-4a9c-9bb2-465ff8bb4670",
   "metadata": {},
   "outputs": [
    {
     "data": {
      "text/plain": [
       "(2+3j)"
      ]
     },
     "execution_count": 6,
     "metadata": {},
     "output_type": "execute_result"
    }
   ],
   "source": [
    "# we use * to uppack tuple or list\n",
    "complex(*[2, 3])"
   ]
  },
  {
   "cell_type": "code",
   "execution_count": 7,
   "id": "638bbfdb-f1d8-4f95-9291-28d6a4e234a6",
   "metadata": {},
   "outputs": [
    {
     "name": "stdout",
     "output_type": "stream",
     "text": [
      "2 3\n"
     ]
    }
   ],
   "source": [
    "print(*(2, 3))"
   ]
  },
  {
   "cell_type": "code",
   "execution_count": 8,
   "id": "08e4600d-6a77-4faf-8068-911289f6ce44",
   "metadata": {},
   "outputs": [
    {
     "data": {
      "text/plain": [
       "sys.float_info(max=1.7976931348623157e+308, max_exp=1024, max_10_exp=308, min=2.2250738585072014e-308, min_exp=-1021, min_10_exp=-307, dig=15, mant_dig=53, epsilon=2.220446049250313e-16, radix=2, rounds=1)"
      ]
     },
     "execution_count": 8,
     "metadata": {},
     "output_type": "execute_result"
    }
   ],
   "source": [
    "import sys\n",
    "\n",
    "sys.float_info"
   ]
  },
  {
   "cell_type": "code",
   "execution_count": 9,
   "id": "a1ade0c6-c97b-424f-bd8c-33ad38da5499",
   "metadata": {},
   "outputs": [
    {
     "data": {
      "text/plain": [
       "'3.11.5 | packaged by Anaconda, Inc. | (main, Sep 11 2023, 13:26:23) [MSC v.1916 64 bit (AMD64)]'"
      ]
     },
     "execution_count": 9,
     "metadata": {},
     "output_type": "execute_result"
    }
   ],
   "source": [
    "sys.version"
   ]
  },
  {
   "cell_type": "markdown",
   "id": "d712c81f-7583-49b2-b832-7eededf30ba7",
   "metadata": {},
   "source": [
    "# String(immutable) Operations\n",
    "#### Functions in strings\n",
    "1. lower\n",
    "2. upper\n",
    "3. title\n",
    "4. capitalize\n",
    "5. isupper\n",
    "6. islower\n",
    "7. index(a)(where a is a sub string in the string)\n",
    "8. center\n",
    "9. count(a) (where a is a sub string in the string)\n",
    "10. find\n",
    "11. replace\n",
    "12. split\n",
    "13. join\n",
    "14. <p>__contains__</p>"
   ]
  },
  {
   "cell_type": "code",
   "execution_count": 10,
   "id": "9d76b8f6-42b6-4eb4-99c1-ccface46112e",
   "metadata": {},
   "outputs": [],
   "source": [
    "name = \"data science\""
   ]
  },
  {
   "cell_type": "code",
   "execution_count": 11,
   "id": "84404859-9562-4a85-97df-d450e07a34e0",
   "metadata": {},
   "outputs": [
    {
     "data": {
      "text/plain": [
       "'DATA SCIENCE'"
      ]
     },
     "execution_count": 11,
     "metadata": {},
     "output_type": "execute_result"
    }
   ],
   "source": [
    "name.upper()"
   ]
  },
  {
   "cell_type": "code",
   "execution_count": 12,
   "id": "25417507-a720-437a-9a35-50f558f07bd6",
   "metadata": {},
   "outputs": [
    {
     "data": {
      "text/plain": [
       "'Data Science'"
      ]
     },
     "execution_count": 12,
     "metadata": {},
     "output_type": "execute_result"
    }
   ],
   "source": [
    "name.title()"
   ]
  },
  {
   "cell_type": "code",
   "execution_count": 13,
   "id": "5cc1f4d0-dede-49cc-908d-9e616553aef3",
   "metadata": {},
   "outputs": [
    {
     "data": {
      "text/plain": [
       "'data science'"
      ]
     },
     "execution_count": 13,
     "metadata": {},
     "output_type": "execute_result"
    }
   ],
   "source": [
    "name.lower()"
   ]
  },
  {
   "cell_type": "code",
   "execution_count": 14,
   "id": "37404587-8788-4a6d-a72f-a688e43115d1",
   "metadata": {},
   "outputs": [
    {
     "data": {
      "text/plain": [
       "2"
      ]
     },
     "execution_count": 14,
     "metadata": {},
     "output_type": "execute_result"
    }
   ],
   "source": [
    "name.count(\"a\")"
   ]
  },
  {
   "cell_type": "code",
   "execution_count": 15,
   "id": "912fc783-cf07-4830-b59a-1989215be78c",
   "metadata": {},
   "outputs": [
    {
     "data": {
      "text/plain": [
       "5"
      ]
     },
     "execution_count": 15,
     "metadata": {},
     "output_type": "execute_result"
    }
   ],
   "source": [
    "name.index(\"s\")"
   ]
  },
  {
   "cell_type": "code",
   "execution_count": 16,
   "id": "7a9a4002-a721-41cd-b307-aed0b9cabe88",
   "metadata": {},
   "outputs": [
    {
     "name": "stdout",
     "output_type": "stream",
     "text": [
      "------------------------DATA SCIENCE------------------------\n"
     ]
    }
   ],
   "source": [
    "print(name.upper().center(60, \"-\"))"
   ]
  },
  {
   "cell_type": "code",
   "execution_count": 17,
   "id": "36b138f6-fb9e-4146-aba1-f3323940e5e7",
   "metadata": {},
   "outputs": [
    {
     "data": {
      "text/plain": [
       "True"
      ]
     },
     "execution_count": 17,
     "metadata": {},
     "output_type": "execute_result"
    }
   ],
   "source": [
    "name.startswith(\"s\", 5)"
   ]
  },
  {
   "cell_type": "code",
   "execution_count": 18,
   "id": "41b233de-bf6a-4104-89bd-9eda21ba74a7",
   "metadata": {},
   "outputs": [
    {
     "data": {
      "text/plain": [
       "False"
      ]
     },
     "execution_count": 18,
     "metadata": {},
     "output_type": "execute_result"
    }
   ],
   "source": [
    "name.endswith(\"n\")"
   ]
  },
  {
   "cell_type": "code",
   "execution_count": 19,
   "id": "de023470-c38e-4b86-9894-f1622532b81c",
   "metadata": {},
   "outputs": [
    {
     "data": {
      "text/plain": [
       "12"
      ]
     },
     "execution_count": 19,
     "metadata": {},
     "output_type": "execute_result"
    }
   ],
   "source": [
    "len(name)"
   ]
  },
  {
   "cell_type": "code",
   "execution_count": 20,
   "id": "2453fc22-1024-4568-8179-b40265686aa9",
   "metadata": {},
   "outputs": [
    {
     "data": {
      "text/plain": [
       "5"
      ]
     },
     "execution_count": 20,
     "metadata": {},
     "output_type": "execute_result"
    }
   ],
   "source": [
    "name.find(\"s\")"
   ]
  },
  {
   "cell_type": "code",
   "execution_count": 21,
   "id": "5b3400cf-f373-4dc1-a2b9-554658cfd6fd",
   "metadata": {},
   "outputs": [
    {
     "data": {
      "text/plain": [
       "'s'"
      ]
     },
     "execution_count": 21,
     "metadata": {},
     "output_type": "execute_result"
    }
   ],
   "source": [
    "name[5]"
   ]
  },
  {
   "cell_type": "code",
   "execution_count": 22,
   "id": "2f64b66f-9408-4439-bb95-82dff20ae675",
   "metadata": {},
   "outputs": [
    {
     "data": {
      "text/plain": [
       "'data analytics'"
      ]
     },
     "execution_count": 22,
     "metadata": {},
     "output_type": "execute_result"
    }
   ],
   "source": [
    "name.replace(\"science\", \"analytics\")"
   ]
  },
  {
   "cell_type": "code",
   "execution_count": 23,
   "id": "dd748dd1-5476-4ca6-bfea-1137e60e09e1",
   "metadata": {},
   "outputs": [
    {
     "data": {
      "text/plain": [
       "['data', 'science']"
      ]
     },
     "execution_count": 23,
     "metadata": {},
     "output_type": "execute_result"
    }
   ],
   "source": [
    "name.split()"
   ]
  },
  {
   "cell_type": "code",
   "execution_count": 24,
   "id": "007b7028-bc22-47ec-b1fd-4a6a2ba62f72",
   "metadata": {},
   "outputs": [],
   "source": [
    "l = \"This is the data science repository\"\n",
    "s = list(map(lambda a: a.upper(), l))"
   ]
  },
  {
   "cell_type": "code",
   "execution_count": 25,
   "id": "e5c6ee15-2998-4762-a881-0547c5292f6c",
   "metadata": {},
   "outputs": [
    {
     "name": "stdout",
     "output_type": "stream",
     "text": [
      "T H I S   I S   T H E   D A T A   S C I E N C E   R E P O S I T O R Y "
     ]
    }
   ],
   "source": [
    "for i in s:\n",
    "    print(i, end=\" \")"
   ]
  },
  {
   "cell_type": "code",
   "execution_count": 26,
   "id": "547b4afa-8dff-4ec8-9756-77661951ff1a",
   "metadata": {},
   "outputs": [
    {
     "data": {
      "text/plain": [
       "'THIS IS THE DATA SCIENCE REPOSITORY'"
      ]
     },
     "execution_count": 26,
     "metadata": {},
     "output_type": "execute_result"
    }
   ],
   "source": [
    "\"\".join(s)"
   ]
  },
  {
   "cell_type": "code",
   "execution_count": 27,
   "id": "192c02e9-5f3d-425c-9272-b3efcd75b687",
   "metadata": {},
   "outputs": [
    {
     "data": {
      "text/plain": [
       "'THIS IS THE DATA SCIENCE REPOSITORY'"
      ]
     },
     "execution_count": 27,
     "metadata": {},
     "output_type": "execute_result"
    }
   ],
   "source": [
    "\"\".join(map(str, s))"
   ]
  },
  {
   "cell_type": "code",
   "execution_count": 28,
   "id": "cbb83704-8bf3-4204-b391-cc81816332fa",
   "metadata": {},
   "outputs": [
    {
     "data": {
      "text/plain": [
       "True"
      ]
     },
     "execution_count": 28,
     "metadata": {},
     "output_type": "execute_result"
    }
   ],
   "source": [
    "name.__contains__(\"data\")"
   ]
  },
  {
   "attachments": {},
   "cell_type": "markdown",
   "id": "7535e824-ed5e-4aaa-98dc-93e65f1d0929",
   "metadata": {},
   "source": [
    "# Lists(mutable)\n",
    "#### Functions in lists\n",
    "1. append\n",
    "2. clear\n",
    "3. copy\n",
    "4. count\n",
    "5. extend\n",
    "6. index\n",
    "7. insert\n",
    "8. pop\n",
    "9. remove\n",
    "10. reverse\n",
    "11. sort"
   ]
  },
  {
   "cell_type": "code",
   "execution_count": 29,
   "id": "eb6d4a95-5b40-46b1-bfe8-c2c918069178",
   "metadata": {},
   "outputs": [
    {
     "data": {
      "text/plain": [
       "'This is the data science repository'"
      ]
     },
     "execution_count": 29,
     "metadata": {},
     "output_type": "execute_result"
    }
   ],
   "source": [
    "l"
   ]
  },
  {
   "cell_type": "code",
   "execution_count": 30,
   "id": "e8484026-6342-459a-bb8d-d232a40176ca",
   "metadata": {},
   "outputs": [
    {
     "data": {
      "text/plain": [
       "['This', 'is', 'the', 'data', 'science', 'repository']"
      ]
     },
     "execution_count": 30,
     "metadata": {},
     "output_type": "execute_result"
    }
   ],
   "source": [
    "list_str = l.split()\n",
    "list_str"
   ]
  },
  {
   "cell_type": "code",
   "execution_count": 31,
   "id": "f4f208d6-5c87-4858-8975-67fd7a276caa",
   "metadata": {},
   "outputs": [],
   "source": [
    "list_str.append(\"day1\")"
   ]
  },
  {
   "cell_type": "code",
   "execution_count": 32,
   "id": "e4f26e84-117b-411d-acff-689131f0f4bc",
   "metadata": {},
   "outputs": [
    {
     "data": {
      "text/plain": [
       "['This', 'is', 'the', 'data', 'science', 'repository', 'day1']"
      ]
     },
     "execution_count": 32,
     "metadata": {},
     "output_type": "execute_result"
    }
   ],
   "source": [
    "list_str"
   ]
  },
  {
   "cell_type": "code",
   "execution_count": 33,
   "id": "ff871dde-b3bc-42cc-bd8c-9f53de06904e",
   "metadata": {},
   "outputs": [],
   "source": [
    "list_str.sort()"
   ]
  },
  {
   "cell_type": "code",
   "execution_count": 34,
   "id": "f69f5707-8d16-4bcd-ad97-7a4363857dec",
   "metadata": {},
   "outputs": [
    {
     "data": {
      "text/plain": [
       "['This', 'data', 'day1', 'is', 'repository', 'science', 'the']"
      ]
     },
     "execution_count": 34,
     "metadata": {},
     "output_type": "execute_result"
    }
   ],
   "source": [
    "list_str"
   ]
  },
  {
   "cell_type": "code",
   "execution_count": 35,
   "id": "666bcbec-da9c-426a-a81a-55b79d994740",
   "metadata": {},
   "outputs": [
    {
     "data": {
      "text/plain": [
       "[0, 1, 2, 3, 4, 5, 6, 7, 8, 9, 10, 11, 12, 13, 14, 15, 16, 17, 18, 19]"
      ]
     },
     "execution_count": 35,
     "metadata": {},
     "output_type": "execute_result"
    }
   ],
   "source": [
    "# list comprehensions\n",
    "[i for i in range(20)]"
   ]
  },
  {
   "cell_type": "code",
   "execution_count": 36,
   "id": "4f3e56f0-6a70-4990-b76e-bdaed92a433e",
   "metadata": {},
   "outputs": [
    {
     "data": {
      "text/plain": [
       "[[1, 2, 3, 4], [1, 2, 3, 4], [1, 2, 3, 4], [1, 2, 3, 4], [1, 2, 3, 4]]"
      ]
     },
     "execution_count": 36,
     "metadata": {},
     "output_type": "execute_result"
    }
   ],
   "source": [
    "# nested list comprehensions\n",
    "[[i for i in range(1, 5)] for i in range(5)]"
   ]
  },
  {
   "cell_type": "markdown",
   "id": "f01c1522-1237-4fdc-a6b1-c165cc547e3e",
   "metadata": {},
   "source": [
    "# Tuples(immutable)"
   ]
  },
  {
   "cell_type": "code",
   "execution_count": 37,
   "id": "6f9fd841-6c13-4379-b89f-bdb38aca2575",
   "metadata": {},
   "outputs": [
    {
     "name": "stdout",
     "output_type": "stream",
     "text": [
      "<class 'int'>\n"
     ]
    }
   ],
   "source": [
    "nt_tup = 1\n",
    "print(type(nt_tup))"
   ]
  },
  {
   "cell_type": "code",
   "execution_count": 38,
   "id": "55c05d61-3a4c-4349-8de3-3f03af1aa732",
   "metadata": {},
   "outputs": [
    {
     "name": "stdout",
     "output_type": "stream",
     "text": [
      "<class 'tuple'>\n"
     ]
    }
   ],
   "source": [
    "my_tup = (5,)\n",
    "print(type(my_tup))"
   ]
  },
  {
   "cell_type": "code",
   "execution_count": 39,
   "id": "1e0e1cfe-c946-4220-8f89-8e3eeb34e29a",
   "metadata": {},
   "outputs": [
    {
     "name": "stdout",
     "output_type": "stream",
     "text": [
      "<class 'tuple'>\n"
     ]
    }
   ],
   "source": [
    "my_tup = (5, 6, 5, 67, 7, 8, 9)\n",
    "print(type(my_tup))"
   ]
  },
  {
   "cell_type": "code",
   "execution_count": 40,
   "id": "f2b252af-3f2a-4a75-9241-7de3f2f0bd5e",
   "metadata": {},
   "outputs": [
    {
     "name": "stdout",
     "output_type": "stream",
     "text": [
      "(50, 20, 40, 40)\n",
      "<class 'tuple'>\n"
     ]
    }
   ],
   "source": [
    "my_tup = 50, 20, 40, 40\n",
    "print(my_tup)\n",
    "print(type(my_tup))"
   ]
  },
  {
   "cell_type": "code",
   "execution_count": 41,
   "id": "c2c9e2ab-f8a0-445c-8808-2a69ba14e4ad",
   "metadata": {},
   "outputs": [
    {
     "name": "stdout",
     "output_type": "stream",
     "text": [
      "50 20 40 40\n"
     ]
    }
   ],
   "source": [
    "a, b, c, d = my_tup\n",
    "print(a, b, c, d)"
   ]
  },
  {
   "cell_type": "markdown",
   "id": "f6ad5a47-d0fa-46e7-8a4b-8e4f5115cd24",
   "metadata": {},
   "source": [
    "# Dictionary\n",
    "#### Functions in dictionary\n",
    "1. keys\n",
    "2. values\n",
    "3. items\n",
    "4. get"
   ]
  },
  {
   "cell_type": "code",
   "execution_count": 42,
   "id": "fb1fdcef-09c0-4923-87ce-73c61de731f4",
   "metadata": {},
   "outputs": [],
   "source": [
    "dictionary = {\"jack\": 4098, \"sape\": 4139}"
   ]
  },
  {
   "cell_type": "code",
   "execution_count": 43,
   "id": "78068f04-7b8f-4f6f-b703-10bc2463ff3b",
   "metadata": {},
   "outputs": [
    {
     "data": {
      "text/plain": [
       "dict_keys(['jack', 'sape'])"
      ]
     },
     "execution_count": 43,
     "metadata": {},
     "output_type": "execute_result"
    }
   ],
   "source": [
    "dictionary.keys()"
   ]
  },
  {
   "cell_type": "code",
   "execution_count": 44,
   "id": "14b4cde2-7a58-49f9-86ec-1a54d47928e3",
   "metadata": {},
   "outputs": [
    {
     "data": {
      "text/plain": [
       "dict_values([4098, 4139])"
      ]
     },
     "execution_count": 44,
     "metadata": {},
     "output_type": "execute_result"
    }
   ],
   "source": [
    "dictionary.values()"
   ]
  },
  {
   "cell_type": "code",
   "execution_count": 45,
   "id": "3b2ed97c-aeb3-47cf-96a8-a5b457945d2c",
   "metadata": {},
   "outputs": [
    {
     "data": {
      "text/plain": [
       "dict_items([('jack', 4098), ('sape', 4139)])"
      ]
     },
     "execution_count": 45,
     "metadata": {},
     "output_type": "execute_result"
    }
   ],
   "source": [
    "dictionary.items()"
   ]
  },
  {
   "cell_type": "code",
   "execution_count": 46,
   "id": "09d72936-5fd4-44d0-b892-433d7a71020e",
   "metadata": {},
   "outputs": [
    {
     "data": {
      "text/plain": [
       "4098"
      ]
     },
     "execution_count": 46,
     "metadata": {},
     "output_type": "execute_result"
    }
   ],
   "source": [
    "dictionary.get(\"jack\")"
   ]
  },
  {
   "cell_type": "code",
   "execution_count": 47,
   "id": "12c590f6-ffc3-49cf-bf66-667541452f77",
   "metadata": {},
   "outputs": [
    {
     "data": {
      "text/plain": [
       "4098"
      ]
     },
     "execution_count": 47,
     "metadata": {},
     "output_type": "execute_result"
    }
   ],
   "source": [
    "dictionary.pop(\"jack\")"
   ]
  },
  {
   "cell_type": "code",
   "execution_count": 48,
   "id": "f851df92-5561-4ff4-8f18-05dc5a5afa3b",
   "metadata": {},
   "outputs": [
    {
     "data": {
      "text/plain": [
       "{'sape': 4139}"
      ]
     },
     "execution_count": 48,
     "metadata": {},
     "output_type": "execute_result"
    }
   ],
   "source": [
    "dictionary"
   ]
  },
  {
   "cell_type": "markdown",
   "id": "afb309ed-887a-4050-acd5-621e98638951",
   "metadata": {},
   "source": [
    "# Set"
   ]
  },
  {
   "cell_type": "code",
   "execution_count": 49,
   "id": "a0422918-8ec7-4fd9-890b-0167770e0210",
   "metadata": {},
   "outputs": [
    {
     "data": {
      "text/plain": [
       "{'a', 'e', 'i', 'o', 'u'}"
      ]
     },
     "execution_count": 49,
     "metadata": {},
     "output_type": "execute_result"
    }
   ],
   "source": [
    "vowel_letters = {\"a\", \"e\", \"i\", \"o\", \"u\"}\n",
    "vowel_letters"
   ]
  },
  {
   "cell_type": "code",
   "execution_count": 50,
   "id": "c90193db-fc19-4624-9831-0a54c87ac0d0",
   "metadata": {},
   "outputs": [
    {
     "data": {
      "text/plain": [
       "set"
      ]
     },
     "execution_count": 50,
     "metadata": {},
     "output_type": "execute_result"
    }
   ],
   "source": [
    "type(vowel_letters)"
   ]
  },
  {
   "cell_type": "markdown",
   "id": "78ee7670-75ec-46ad-a570-7fd18399ed33",
   "metadata": {},
   "source": [
    "## Map method"
   ]
  },
  {
   "cell_type": "code",
   "execution_count": 51,
   "id": "d94e4146-9038-49d6-b20a-cc3d5c12580e",
   "metadata": {},
   "outputs": [],
   "source": [
    "def square(n):\n",
    "    return n * n"
   ]
  },
  {
   "cell_type": "code",
   "execution_count": 52,
   "id": "ffa51a7a-e1fb-4355-a051-c3b414891a01",
   "metadata": {},
   "outputs": [
    {
     "data": {
      "text/plain": [
       "array([ 1,  2,  3,  4,  5,  6,  7,  8,  9, 10, 11, 12, 13, 14, 15, 16, 17,\n",
       "       18, 19])"
      ]
     },
     "execution_count": 52,
     "metadata": {},
     "output_type": "execute_result"
    }
   ],
   "source": [
    "import numpy as np\n",
    "\n",
    "lst = np.arange(1, 20, dtype=\"int32\")\n",
    "lst"
   ]
  },
  {
   "cell_type": "code",
   "execution_count": 53,
   "id": "44c27f90-eb4e-4496-a863-cb74910ca5d1",
   "metadata": {},
   "outputs": [
    {
     "name": "stdout",
     "output_type": "stream",
     "text": [
      "1, 4, 9, 16, 25, 36, 49, 64, 81, 100, 121, 144, 169, 196, 225, 256, 289, 324, 361, "
     ]
    }
   ],
   "source": [
    "for i in range(len(lst)):\n",
    "    print(square(lst[i]), end=\", \")"
   ]
  },
  {
   "cell_type": "code",
   "execution_count": 54,
   "id": "5dd67726-a60e-4112-a34c-a1ffda3d98f9",
   "metadata": {
    "scrolled": true
   },
   "outputs": [
    {
     "data": {
      "text/plain": [
       "19"
      ]
     },
     "execution_count": 54,
     "metadata": {},
     "output_type": "execute_result"
    }
   ],
   "source": [
    "len(list(map(square, lst)))"
   ]
  },
  {
   "cell_type": "code",
   "execution_count": 55,
   "id": "933561b9-6deb-4ba1-a69d-23351076573f",
   "metadata": {},
   "outputs": [
    {
     "name": "stdout",
     "output_type": "stream",
     "text": [
      "[1, 4, 9, 16, 25, 36, 49, 64, 81, 100, 121, 144, 169, 196, 225, 256, 289, 324, 361]\n"
     ]
    }
   ],
   "source": [
    "print(list(map(lambda a: a * a, lst)), sep=\" \")"
   ]
  }
 ],
 "metadata": {
  "kernelspec": {
   "display_name": "Python 3 (ipykernel)",
   "language": "python",
   "name": "python3"
  },
  "language_info": {
   "codemirror_mode": {
    "name": "ipython",
    "version": 3
   },
   "file_extension": ".py",
   "mimetype": "text/x-python",
   "name": "python",
   "nbconvert_exporter": "python",
   "pygments_lexer": "ipython3",
   "version": "3.11.5"
  }
 },
 "nbformat": 4,
 "nbformat_minor": 5
}
