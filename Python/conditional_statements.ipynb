{
 "cells": [
  {
   "attachments": {},
   "cell_type": "markdown",
   "id": "89c852d0-548a-4104-b655-85d7e0190a3b",
   "metadata": {},
   "source": [
    "# Operators in python\n",
    "#### There are 7 types of operators in python\n",
    "1. Arithmetic Operators\n",
    "2. Comparison Operators\n",
    "3. Logical Operators\n",
    "4. Bitwise Operators\n",
    "5. Assignment Operators\n",
    "6. Identity Operators\n",
    "7. Membership Operators"
   ]
  },
  {
   "cell_type": "markdown",
   "id": "b03dbfd0-e679-40bd-b5ca-63429d910378",
   "metadata": {},
   "source": [
    "# 1. Arithmatic Operators"
   ]
  },
  {
   "cell_type": "code",
   "execution_count": 1,
   "id": "c6edeea0-ade7-46a9-b66a-bfaa844cdcee",
   "metadata": {},
   "outputs": [
    {
     "data": {
      "text/plain": [
       "5"
      ]
     },
     "execution_count": 1,
     "metadata": {},
     "output_type": "execute_result"
    }
   ],
   "source": [
    "# addition\n",
    "2 + 3"
   ]
  },
  {
   "cell_type": "code",
   "execution_count": 2,
   "id": "42bdb464-b328-48b0-ab72-18f78d9f7637",
   "metadata": {},
   "outputs": [
    {
     "data": {
      "text/plain": [
       "5"
      ]
     },
     "execution_count": 2,
     "metadata": {},
     "output_type": "execute_result"
    }
   ],
   "source": [
    "# subtraction\n",
    "7 - 2"
   ]
  },
  {
   "cell_type": "code",
   "execution_count": 3,
   "id": "74820825-de93-4a69-9737-480f8db88c61",
   "metadata": {},
   "outputs": [
    {
     "data": {
      "text/plain": [
       "16"
      ]
     },
     "execution_count": 3,
     "metadata": {},
     "output_type": "execute_result"
    }
   ],
   "source": [
    "# multiplication\n",
    "8 * 2"
   ]
  },
  {
   "cell_type": "code",
   "execution_count": 4,
   "id": "8d7642f6-437d-43d1-8605-fce376f5d172",
   "metadata": {},
   "outputs": [
    {
     "data": {
      "text/plain": [
       "8.0"
      ]
     },
     "execution_count": 4,
     "metadata": {},
     "output_type": "execute_result"
    }
   ],
   "source": [
    "# division\n",
    "# returns float\n",
    "16 / 2"
   ]
  },
  {
   "cell_type": "code",
   "execution_count": 5,
   "id": "316f5d44-6ac9-4d6a-a95b-c935dee1f918",
   "metadata": {},
   "outputs": [
    {
     "data": {
      "text/plain": [
       "5"
      ]
     },
     "execution_count": 5,
     "metadata": {},
     "output_type": "execute_result"
    }
   ],
   "source": [
    "# floor division\n",
    "# returns int\n",
    "16 // 3"
   ]
  },
  {
   "cell_type": "code",
   "execution_count": 6,
   "id": "39cf8450-e092-45e3-badb-78440ee99dcc",
   "metadata": {},
   "outputs": [
    {
     "data": {
      "text/plain": [
       "1"
      ]
     },
     "execution_count": 6,
     "metadata": {},
     "output_type": "execute_result"
    }
   ],
   "source": [
    "# modulus\n",
    "# returns remainder\n",
    "16 % 3"
   ]
  },
  {
   "cell_type": "code",
   "execution_count": 7,
   "id": "ad3a6e0b-e056-451b-ba6d-7d583ecd38e9",
   "metadata": {},
   "outputs": [
    {
     "data": {
      "text/plain": [
       "8"
      ]
     },
     "execution_count": 7,
     "metadata": {},
     "output_type": "execute_result"
    }
   ],
   "source": [
    "# power\n",
    "# returns 2 power 3\n",
    "2**3"
   ]
  },
  {
   "cell_type": "markdown",
   "id": "b705b8e5-d8b0-40eb-8708-6195f42ade92",
   "metadata": {},
   "source": [
    "# 2. Comparison Operators"
   ]
  },
  {
   "cell_type": "code",
   "execution_count": 8,
   "id": "4e2f0afe-caac-4693-9b6e-0bce621ae621",
   "metadata": {},
   "outputs": [
    {
     "data": {
      "text/plain": [
       "True"
      ]
     },
     "execution_count": 8,
     "metadata": {},
     "output_type": "execute_result"
    }
   ],
   "source": [
    "# greater than operator\n",
    "7 > 3"
   ]
  },
  {
   "cell_type": "code",
   "execution_count": 9,
   "id": "f43b52be-4b9b-4860-a58f-f11057c48bdf",
   "metadata": {},
   "outputs": [
    {
     "data": {
      "text/plain": [
       "True"
      ]
     },
     "execution_count": 9,
     "metadata": {},
     "output_type": "execute_result"
    }
   ],
   "source": [
    "# greater than or equal to\n",
    "10 >= 5"
   ]
  },
  {
   "cell_type": "code",
   "execution_count": 10,
   "id": "446fbcc0-759f-4555-8f0a-cdc353a12247",
   "metadata": {},
   "outputs": [
    {
     "data": {
      "text/plain": [
       "True"
      ]
     },
     "execution_count": 10,
     "metadata": {},
     "output_type": "execute_result"
    }
   ],
   "source": [
    "# less than operator\n",
    "3 < 7"
   ]
  },
  {
   "cell_type": "code",
   "execution_count": 11,
   "id": "498eb0b0-92a9-4d40-aba8-25abe9b43c81",
   "metadata": {},
   "outputs": [
    {
     "data": {
      "text/plain": [
       "True"
      ]
     },
     "execution_count": 11,
     "metadata": {},
     "output_type": "execute_result"
    }
   ],
   "source": [
    "# less than or equal to\n",
    "5 <= 10"
   ]
  },
  {
   "cell_type": "code",
   "execution_count": 12,
   "id": "ff9c10f6-9bae-4998-9315-78f4f976c0c2",
   "metadata": {},
   "outputs": [
    {
     "data": {
      "text/plain": [
       "True"
      ]
     },
     "execution_count": 12,
     "metadata": {},
     "output_type": "execute_result"
    }
   ],
   "source": [
    "# equal to opeartor\n",
    "10 == 10"
   ]
  },
  {
   "cell_type": "code",
   "execution_count": 13,
   "id": "897d0394-8d36-47de-8eb4-8c6355cc0876",
   "metadata": {},
   "outputs": [
    {
     "data": {
      "text/plain": [
       "True"
      ]
     },
     "execution_count": 13,
     "metadata": {},
     "output_type": "execute_result"
    }
   ],
   "source": [
    "# not equal to operator\n",
    "10 != 20"
   ]
  },
  {
   "cell_type": "markdown",
   "id": "99faa844-58f3-468c-8980-0ac812e6a4aa",
   "metadata": {},
   "source": [
    "# 3. Logical Operators"
   ]
  },
  {
   "cell_type": "code",
   "execution_count": 14,
   "id": "c2b74d84-850b-426e-a81e-9e8c8b577fe3",
   "metadata": {},
   "outputs": [
    {
     "data": {
      "text/plain": [
       "True"
      ]
     },
     "execution_count": 14,
     "metadata": {},
     "output_type": "execute_result"
    }
   ],
   "source": [
    "# OR operator\n",
    "# or\n",
    "True or False"
   ]
  },
  {
   "cell_type": "code",
   "execution_count": 15,
   "id": "a1707ed0-9d2a-4d3b-bfc8-017d54e45a1f",
   "metadata": {},
   "outputs": [
    {
     "data": {
      "text/plain": [
       "False"
      ]
     },
     "execution_count": 15,
     "metadata": {},
     "output_type": "execute_result"
    }
   ],
   "source": [
    "# AND operator\n",
    "# and\n",
    "True and False"
   ]
  },
  {
   "cell_type": "code",
   "execution_count": 16,
   "id": "79a08c11-bd82-4749-8979-48db5091e8d0",
   "metadata": {},
   "outputs": [
    {
     "data": {
      "text/plain": [
       "False"
      ]
     },
     "execution_count": 16,
     "metadata": {},
     "output_type": "execute_result"
    }
   ],
   "source": [
    "# NOT operator\n",
    "# not\n",
    "not True"
   ]
  },
  {
   "cell_type": "markdown",
   "id": "85ccf6c8-e285-4014-9c42-dddc1cdc49d7",
   "metadata": {},
   "source": [
    "# 4. Bitwise Operators"
   ]
  },
  {
   "cell_type": "code",
   "execution_count": 17,
   "id": "d72bcbca-d126-4999-8bb6-df3b6a26bf25",
   "metadata": {},
   "outputs": [
    {
     "data": {
      "text/plain": [
       "-11"
      ]
     },
     "execution_count": 17,
     "metadata": {},
     "output_type": "execute_result"
    }
   ],
   "source": [
    "# Bitwise NOT operator\n",
    "~10"
   ]
  },
  {
   "cell_type": "code",
   "execution_count": 18,
   "id": "2e17cdc4-cd5a-4369-ae72-ea0946c67eed",
   "metadata": {},
   "outputs": [
    {
     "data": {
      "text/plain": [
       "14"
      ]
     },
     "execution_count": 18,
     "metadata": {},
     "output_type": "execute_result"
    }
   ],
   "source": [
    "# Bitwise OR\n",
    "# performs bit wise OR operation\n",
    "# 10 -> 1 0 1 0\n",
    "# 04 -> 0 1 0 0\n",
    "# Result\n",
    "# 14 -> 1 1 1 0\n",
    "10 | 4"
   ]
  },
  {
   "cell_type": "code",
   "execution_count": 19,
   "id": "c4d50805-aa77-4ad5-b8cc-b994e14ea849",
   "metadata": {},
   "outputs": [
    {
     "data": {
      "text/plain": [
       "0"
      ]
     },
     "execution_count": 19,
     "metadata": {},
     "output_type": "execute_result"
    }
   ],
   "source": [
    "# Bitwise AND\n",
    "# performs bit wise AND operation\n",
    "# 10 -> 1 0 1 0\n",
    "# 04 -> 0 1 0 0\n",
    "# Result\n",
    "# 00 -> 0 0 0 0\n",
    "10 & 4"
   ]
  },
  {
   "cell_type": "code",
   "execution_count": 20,
   "id": "d8a8527e-77ab-4af8-940d-bc54127be1ca",
   "metadata": {},
   "outputs": [
    {
     "data": {
      "text/plain": [
       "14"
      ]
     },
     "execution_count": 20,
     "metadata": {},
     "output_type": "execute_result"
    }
   ],
   "source": [
    "# Bitwise XOR\n",
    "# performs bit wise XOR operation\n",
    "# 10 -> 1 0 1 0\n",
    "# 04 -> 0 1 0 0\n",
    "# Result\n",
    "# 00 -> 0 0 0 0\n",
    "10 ^ 4"
   ]
  },
  {
   "cell_type": "code",
   "execution_count": 21,
   "id": "627c6a25-756e-4b17-93b6-6772290dc818",
   "metadata": {},
   "outputs": [
    {
     "data": {
      "text/plain": [
       "40"
      ]
     },
     "execution_count": 21,
     "metadata": {},
     "output_type": "execute_result"
    }
   ],
   "source": [
    "# Left Shift\n",
    "# format a << n\n",
    "# add n number of 0 bits at the end of the a\n",
    "# 10 << 2 i.e., 1 0 1 0 0 0 which results to 40\n",
    "# 10 * 2 power n\n",
    "10 << 2"
   ]
  },
  {
   "cell_type": "code",
   "execution_count": 22,
   "id": "1e57ba6b-0245-4a66-b6c6-9f111c47b221",
   "metadata": {},
   "outputs": [
    {
     "data": {
      "text/plain": [
       "2"
      ]
     },
     "execution_count": 22,
     "metadata": {},
     "output_type": "execute_result"
    }
   ],
   "source": [
    "# Right Shift\n",
    "# format a >> n\n",
    "# add n number of 0 bits at the end of the a\n",
    "# 10 >> 2 i.e., 0 0 1 0 which results to 2\n",
    "# 10 / 2 power n\n",
    "10 >> 2"
   ]
  },
  {
   "cell_type": "markdown",
   "id": "3eed6f5e-76d0-4685-bbfb-e5d47c70ce93",
   "metadata": {},
   "source": [
    "# 5. Assignment Operators"
   ]
  },
  {
   "cell_type": "code",
   "execution_count": 23,
   "id": "94b4a974-a80c-4d94-9882-40b1f48105ee",
   "metadata": {},
   "outputs": [
    {
     "data": {
      "text/plain": [
       "40"
      ]
     },
     "execution_count": 23,
     "metadata": {},
     "output_type": "execute_result"
    }
   ],
   "source": [
    "# a=n\n",
    "# assign n to variable a\n",
    "a = 40\n",
    "a"
   ]
  },
  {
   "cell_type": "code",
   "execution_count": 24,
   "id": "fc9a1a98-fbf2-4673-8b2f-fc25d685b6bb",
   "metadata": {},
   "outputs": [
    {
     "data": {
      "text/plain": [
       "50"
      ]
     },
     "execution_count": 24,
     "metadata": {},
     "output_type": "execute_result"
    }
   ],
   "source": [
    "# a += 10\n",
    "# Add and Assign\n",
    "# i.e., a=a+10\n",
    "a += 10\n",
    "a"
   ]
  },
  {
   "cell_type": "code",
   "execution_count": 25,
   "id": "e7c4dbef-8b8e-4b7f-9d36-829aab1d5527",
   "metadata": {},
   "outputs": [
    {
     "data": {
      "text/plain": [
       "40"
      ]
     },
     "execution_count": 25,
     "metadata": {},
     "output_type": "execute_result"
    }
   ],
   "source": [
    "# a -= 10\n",
    "# Subtract and Assign\n",
    "# i.e., a=a-10\n",
    "a -= 10\n",
    "a"
   ]
  },
  {
   "cell_type": "markdown",
   "id": "7ad261a1-7d8f-43bf-8625-d45f5d04824f",
   "metadata": {},
   "source": [
    "#### Similarly check-out the following \n",
    "- *=\n",
    "- /=\n",
    "- %=\n",
    "- //=\n",
    "- **=\n",
    "- &=\n",
    "- |=\n",
    "- ^=\n",
    "- <<=\n",
    "- \\>\\>="
   ]
  },
  {
   "cell_type": "markdown",
   "id": "ede1ca13-f61a-4fb5-8a0f-4d081d705d5d",
   "metadata": {},
   "source": [
    "# 6. Identity Operators"
   ]
  },
  {
   "cell_type": "code",
   "execution_count": 26,
   "id": "147cc6d6-9a2b-442f-b68a-5b770b648b28",
   "metadata": {},
   "outputs": [
    {
     "name": "stdout",
     "output_type": "stream",
     "text": [
      "True\n",
      "False\n",
      "True\n"
     ]
    }
   ],
   "source": [
    "# is\n",
    "# is not\n",
    "x = [\"apple\", \"banana\"]\n",
    "y = [\"apple\", \"banana\"]\n",
    "z = x\n",
    "\n",
    "print(x is z)\n",
    "# returns True because z is the same object as x\n",
    "\n",
    "print(x is y)\n",
    "# returns False because x is not the same object as y, even if they have the same content\n",
    "\n",
    "print(x == y)\n",
    "# to demonstrate the difference betweeen \"is\" and \"==\": this comparison returns True because x is equal to y"
   ]
  },
  {
   "cell_type": "markdown",
   "id": "cf33a5ac-a127-419a-9234-ed9ce906cf8a",
   "metadata": {},
   "source": [
    "# 7. Membership Operators"
   ]
  },
  {
   "cell_type": "code",
   "execution_count": 27,
   "id": "ceccc63f-5831-472a-b7f5-51efae857495",
   "metadata": {},
   "outputs": [
    {
     "data": {
      "text/plain": [
       "True"
      ]
     },
     "execution_count": 27,
     "metadata": {},
     "output_type": "execute_result"
    }
   ],
   "source": [
    "# in\n",
    "a = \"hello world\"\n",
    "\"hello\" in a"
   ]
  },
  {
   "cell_type": "code",
   "execution_count": 28,
   "id": "d681c8cc-b1aa-4163-a772-6c0aeb385de1",
   "metadata": {},
   "outputs": [
    {
     "data": {
      "text/plain": [
       "False"
      ]
     },
     "execution_count": 28,
     "metadata": {},
     "output_type": "execute_result"
    }
   ],
   "source": [
    "# not in\n",
    "\"hello\" not in a"
   ]
  },
  {
   "cell_type": "markdown",
   "id": "c4976fa7-a16e-4182-974f-d975b3f7e793",
   "metadata": {},
   "source": [
    "# Conditional statements"
   ]
  },
  {
   "cell_type": "raw",
   "id": "8d341bbd-b022-434e-864d-3d01bf5c2525",
   "metadata": {},
   "source": [
    "if (condition):\n",
    "    perform this if condition is true\n",
    "elif (condition):\n",
    "    optional \n",
    "    perform this if condition is true\n",
    "    you can have n number of elif block\n",
    "else:\n",
    "    optional\n",
    "    should use only once\n",
    "    perform this if and elif condition is false"
   ]
  },
  {
   "cell_type": "code",
   "execution_count": 29,
   "id": "8f2e5b2b-7123-4636-8fee-6675a4fb568e",
   "metadata": {},
   "outputs": [
    {
     "name": "stdout",
     "output_type": "stream",
     "text": [
      "a is 50\n"
     ]
    }
   ],
   "source": [
    "a = 50\n",
    "if a < 50:\n",
    "    print(f\"a is less than 50\")\n",
    "elif a > 50:\n",
    "    print(f\"a is greater than 50\")\n",
    "else:\n",
    "    print(f\"a is 50\")"
   ]
  },
  {
   "cell_type": "markdown",
   "id": "77c07864-dda1-4274-a2ab-78ec4ac77899",
   "metadata": {},
   "source": [
    "#### try other conditions for more info"
   ]
  },
  {
   "cell_type": "markdown",
   "id": "6a07a07e-e10e-4915-b0b0-c3b8b43b09f9",
   "metadata": {},
   "source": [
    "# Loops"
   ]
  },
  {
   "cell_type": "markdown",
   "id": "264ae613-0433-4276-acfd-554789aafe91",
   "metadata": {},
   "source": [
    "- for loop\n",
    "- for else loop\n",
    "- while loop\n",
    "- while else\n",
    "\n",
    "##### keywords in loops \n",
    "- pass\n",
    "- continue\n",
    "- break"
   ]
  },
  {
   "cell_type": "code",
   "execution_count": 30,
   "id": "b63f91d6-46db-4ae0-bc1f-aa9f2707f5b0",
   "metadata": {},
   "outputs": [
    {
     "name": "stdout",
     "output_type": "stream",
     "text": [
      "1 2 3 4 5 6 7 8 9 "
     ]
    }
   ],
   "source": [
    "for i in range(1, 10):\n",
    "    print(i, end=\" \")"
   ]
  },
  {
   "cell_type": "code",
   "execution_count": 31,
   "id": "4ce1c002-61a8-4ac9-b006-ff4624720874",
   "metadata": {},
   "outputs": [
    {
     "name": "stdout",
     "output_type": "stream",
     "text": [
      "1 2 3 4 5 6 7 8 9 "
     ]
    }
   ],
   "source": [
    "for i in range(1, 10):\n",
    "    if i == 5:\n",
    "        pass\n",
    "    print(i, end=\" \")"
   ]
  },
  {
   "cell_type": "code",
   "execution_count": 32,
   "id": "a91ced70-daf5-4160-aed5-a629f6bae6ec",
   "metadata": {},
   "outputs": [
    {
     "name": "stdout",
     "output_type": "stream",
     "text": [
      "1 2 3 4 "
     ]
    }
   ],
   "source": [
    "for i in range(1, 10):\n",
    "    if i == 5:\n",
    "        break\n",
    "    print(i, end=\" \")"
   ]
  },
  {
   "cell_type": "code",
   "execution_count": 33,
   "id": "aa7dadfb-f65a-4359-a969-d7c9cee4ebac",
   "metadata": {},
   "outputs": [
    {
     "name": "stdout",
     "output_type": "stream",
     "text": [
      "1 2 3 4 \n",
      "6 7 8 9 "
     ]
    }
   ],
   "source": [
    "for i in range(1, 10):\n",
    "    if i == 5:\n",
    "        print()\n",
    "        continue\n",
    "    print(i, end=\" \")"
   ]
  },
  {
   "cell_type": "code",
   "execution_count": 34,
   "id": "cd488a57-19cb-42dd-8f99-3ee6ee1fcf59",
   "metadata": {},
   "outputs": [
    {
     "name": "stdout",
     "output_type": "stream",
     "text": [
      "5\n",
      "4\n",
      "3\n",
      "2\n",
      "1\n"
     ]
    }
   ],
   "source": [
    "i = 5\n",
    "while i > 0:\n",
    "    print(i)\n",
    "    i -= 1"
   ]
  }
 ],
 "metadata": {
  "kernelspec": {
   "display_name": "Python 3 (ipykernel)",
   "language": "python",
   "name": "python3"
  },
  "language_info": {
   "codemirror_mode": {
    "name": "ipython",
    "version": 3
   },
   "file_extension": ".py",
   "mimetype": "text/x-python",
   "name": "python",
   "nbconvert_exporter": "python",
   "pygments_lexer": "ipython3",
   "version": "3.11.5"
  }
 },
 "nbformat": 4,
 "nbformat_minor": 5
}
